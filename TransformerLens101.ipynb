{
  "cells": [
    {
      "cell_type": "markdown",
      "metadata": {
        "id": "view-in-github",
        "colab_type": "text"
      },
      "source": [
        "<a href=\"https://colab.research.google.com/github/nmonson1/walkthroughs/blob/main/TransformerLens101.ipynb\" target=\"_parent\"><img src=\"https://colab.research.google.com/assets/colab-badge.svg\" alt=\"Open In Colab\"/></a>"
      ]
    },
    {
      "cell_type": "markdown",
      "metadata": {
        "id": "RnEurFO5Hwnc"
      },
      "source": [
        "## Step 0: Setup"
      ]
    },
    {
      "cell_type": "code",
      "execution_count": null,
      "metadata": {
        "id": "VHwVhvLeHxWT",
        "colab": {
          "base_uri": "https://localhost:8080/"
        },
        "outputId": "7cdc24e4-8230-4fe0-b933-8a8eddc9c102"
      },
      "outputs": [
        {
          "output_type": "stream",
          "name": "stdout",
          "text": [
            "Looking in indexes: https://pypi.org/simple, https://us-python.pkg.dev/colab-wheels/public/simple/\n",
            "Requirement already satisfied: transformer_lens in /usr/local/lib/python3.8/dist-packages (0.0.0)\n",
            "Requirement already satisfied: wandb<0.14.0,>=0.13.5 in /usr/local/lib/python3.8/dist-packages (from transformer_lens) (0.13.9)\n",
            "Requirement already satisfied: tqdm<5.0.0,>=4.64.1 in /usr/local/lib/python3.8/dist-packages (from transformer_lens) (4.64.1)\n",
            "Requirement already satisfied: datasets<3.0.0,>=2.7.1 in /usr/local/lib/python3.8/dist-packages (from transformer_lens) (2.9.0)\n",
            "Requirement already satisfied: torch<2.0,>=1.10 in /usr/local/lib/python3.8/dist-packages (from transformer_lens) (1.13.1+cu116)\n",
            "Requirement already satisfied: transformers<5.0.0,>=4.25.1 in /usr/local/lib/python3.8/dist-packages (from transformer_lens) (4.26.0)\n",
            "Requirement already satisfied: torchtyping<0.2.0,>=0.1.4 in /usr/local/lib/python3.8/dist-packages (from transformer_lens) (0.1.4)\n",
            "Requirement already satisfied: fancy-einsum<0.0.4,>=0.0.3 in /usr/local/lib/python3.8/dist-packages (from transformer_lens) (0.0.3)\n",
            "Requirement already satisfied: einops<0.7.0,>=0.6.0 in /usr/local/lib/python3.8/dist-packages (from transformer_lens) (0.6.0)\n",
            "Requirement already satisfied: rich<13.0.0,>=12.6.0 in /usr/local/lib/python3.8/dist-packages (from transformer_lens) (12.6.0)\n",
            "Requirement already satisfied: numpy<2.0,>=1.21 in /usr/local/lib/python3.8/dist-packages (from transformer_lens) (1.21.6)\n",
            "Requirement already satisfied: pandas<2.0.0,>=1.1.5 in /usr/local/lib/python3.8/dist-packages (from transformer_lens) (1.3.5)\n",
            "Requirement already satisfied: packaging in /usr/local/lib/python3.8/dist-packages (from datasets<3.0.0,>=2.7.1->transformer_lens) (21.3)\n",
            "Requirement already satisfied: pyyaml>=5.1 in /usr/local/lib/python3.8/dist-packages (from datasets<3.0.0,>=2.7.1->transformer_lens) (6.0)\n",
            "Requirement already satisfied: pyarrow>=6.0.0 in /usr/local/lib/python3.8/dist-packages (from datasets<3.0.0,>=2.7.1->transformer_lens) (9.0.0)\n",
            "Requirement already satisfied: aiohttp in /usr/local/lib/python3.8/dist-packages (from datasets<3.0.0,>=2.7.1->transformer_lens) (3.8.3)\n",
            "Requirement already satisfied: dill<0.3.7 in /usr/local/lib/python3.8/dist-packages (from datasets<3.0.0,>=2.7.1->transformer_lens) (0.3.6)\n",
            "Requirement already satisfied: xxhash in /usr/local/lib/python3.8/dist-packages (from datasets<3.0.0,>=2.7.1->transformer_lens) (3.2.0)\n",
            "Requirement already satisfied: fsspec[http]>=2021.11.1 in /usr/local/lib/python3.8/dist-packages (from datasets<3.0.0,>=2.7.1->transformer_lens) (2022.11.0)\n",
            "Requirement already satisfied: huggingface-hub<1.0.0,>=0.2.0 in /usr/local/lib/python3.8/dist-packages (from datasets<3.0.0,>=2.7.1->transformer_lens) (0.12.0)\n",
            "Requirement already satisfied: responses<0.19 in /usr/local/lib/python3.8/dist-packages (from datasets<3.0.0,>=2.7.1->transformer_lens) (0.18.0)\n",
            "Requirement already satisfied: requests>=2.19.0 in /usr/local/lib/python3.8/dist-packages (from datasets<3.0.0,>=2.7.1->transformer_lens) (2.25.1)\n",
            "Requirement already satisfied: multiprocess in /usr/local/lib/python3.8/dist-packages (from datasets<3.0.0,>=2.7.1->transformer_lens) (0.70.14)\n",
            "Requirement already satisfied: pytz>=2017.3 in /usr/local/lib/python3.8/dist-packages (from pandas<2.0.0,>=1.1.5->transformer_lens) (2022.7)\n",
            "Requirement already satisfied: python-dateutil>=2.7.3 in /usr/local/lib/python3.8/dist-packages (from pandas<2.0.0,>=1.1.5->transformer_lens) (2.8.2)\n",
            "Requirement already satisfied: pygments<3.0.0,>=2.6.0 in /usr/local/lib/python3.8/dist-packages (from rich<13.0.0,>=12.6.0->transformer_lens) (2.6.1)\n",
            "Requirement already satisfied: typing-extensions<5.0,>=4.0.0 in /usr/local/lib/python3.8/dist-packages (from rich<13.0.0,>=12.6.0->transformer_lens) (4.4.0)\n",
            "Requirement already satisfied: commonmark<0.10.0,>=0.9.0 in /usr/local/lib/python3.8/dist-packages (from rich<13.0.0,>=12.6.0->transformer_lens) (0.9.1)\n",
            "Requirement already satisfied: typeguard>=2.11.1 in /usr/local/lib/python3.8/dist-packages (from torchtyping<0.2.0,>=0.1.4->transformer_lens) (2.13.3)\n",
            "Requirement already satisfied: tokenizers!=0.11.3,<0.14,>=0.11.1 in /usr/local/lib/python3.8/dist-packages (from transformers<5.0.0,>=4.25.1->transformer_lens) (0.13.2)\n",
            "Requirement already satisfied: filelock in /usr/local/lib/python3.8/dist-packages (from transformers<5.0.0,>=4.25.1->transformer_lens) (3.9.0)\n",
            "Requirement already satisfied: regex!=2019.12.17 in /usr/local/lib/python3.8/dist-packages (from transformers<5.0.0,>=4.25.1->transformer_lens) (2022.6.2)\n",
            "Requirement already satisfied: GitPython>=1.0.0 in /usr/local/lib/python3.8/dist-packages (from wandb<0.14.0,>=0.13.5->transformer_lens) (3.1.30)\n",
            "Requirement already satisfied: docker-pycreds>=0.4.0 in /usr/local/lib/python3.8/dist-packages (from wandb<0.14.0,>=0.13.5->transformer_lens) (0.4.0)\n",
            "Requirement already satisfied: setuptools in /usr/local/lib/python3.8/dist-packages (from wandb<0.14.0,>=0.13.5->transformer_lens) (57.4.0)\n",
            "Requirement already satisfied: Click!=8.0.0,>=7.0 in /usr/local/lib/python3.8/dist-packages (from wandb<0.14.0,>=0.13.5->transformer_lens) (7.1.2)\n",
            "Requirement already satisfied: sentry-sdk>=1.0.0 in /usr/local/lib/python3.8/dist-packages (from wandb<0.14.0,>=0.13.5->transformer_lens) (1.14.0)\n",
            "Requirement already satisfied: protobuf!=4.21.0,<5,>=3.12.0 in /usr/local/lib/python3.8/dist-packages (from wandb<0.14.0,>=0.13.5->transformer_lens) (3.19.6)\n",
            "Requirement already satisfied: psutil>=5.0.0 in /usr/local/lib/python3.8/dist-packages (from wandb<0.14.0,>=0.13.5->transformer_lens) (5.4.8)\n",
            "Requirement already satisfied: setproctitle in /usr/local/lib/python3.8/dist-packages (from wandb<0.14.0,>=0.13.5->transformer_lens) (1.3.2)\n",
            "Requirement already satisfied: appdirs>=1.4.3 in /usr/local/lib/python3.8/dist-packages (from wandb<0.14.0,>=0.13.5->transformer_lens) (1.4.4)\n",
            "Requirement already satisfied: pathtools in /usr/local/lib/python3.8/dist-packages (from wandb<0.14.0,>=0.13.5->transformer_lens) (0.1.2)\n",
            "Requirement already satisfied: six>=1.4.0 in /usr/local/lib/python3.8/dist-packages (from docker-pycreds>=0.4.0->wandb<0.14.0,>=0.13.5->transformer_lens) (1.15.0)\n",
            "Requirement already satisfied: yarl<2.0,>=1.0 in /usr/local/lib/python3.8/dist-packages (from aiohttp->datasets<3.0.0,>=2.7.1->transformer_lens) (1.8.2)\n",
            "Requirement already satisfied: multidict<7.0,>=4.5 in /usr/local/lib/python3.8/dist-packages (from aiohttp->datasets<3.0.0,>=2.7.1->transformer_lens) (6.0.4)\n",
            "Requirement already satisfied: frozenlist>=1.1.1 in /usr/local/lib/python3.8/dist-packages (from aiohttp->datasets<3.0.0,>=2.7.1->transformer_lens) (1.3.3)\n",
            "Requirement already satisfied: async-timeout<5.0,>=4.0.0a3 in /usr/local/lib/python3.8/dist-packages (from aiohttp->datasets<3.0.0,>=2.7.1->transformer_lens) (4.0.2)\n",
            "Requirement already satisfied: aiosignal>=1.1.2 in /usr/local/lib/python3.8/dist-packages (from aiohttp->datasets<3.0.0,>=2.7.1->transformer_lens) (1.3.1)\n",
            "Requirement already satisfied: charset-normalizer<3.0,>=2.0 in /usr/local/lib/python3.8/dist-packages (from aiohttp->datasets<3.0.0,>=2.7.1->transformer_lens) (2.1.1)\n",
            "Requirement already satisfied: attrs>=17.3.0 in /usr/local/lib/python3.8/dist-packages (from aiohttp->datasets<3.0.0,>=2.7.1->transformer_lens) (22.2.0)\n",
            "Requirement already satisfied: gitdb<5,>=4.0.1 in /usr/local/lib/python3.8/dist-packages (from GitPython>=1.0.0->wandb<0.14.0,>=0.13.5->transformer_lens) (4.0.10)\n",
            "Requirement already satisfied: pyparsing!=3.0.5,>=2.0.2 in /usr/local/lib/python3.8/dist-packages (from packaging->datasets<3.0.0,>=2.7.1->transformer_lens) (3.0.9)\n",
            "Requirement already satisfied: idna<3,>=2.5 in /usr/local/lib/python3.8/dist-packages (from requests>=2.19.0->datasets<3.0.0,>=2.7.1->transformer_lens) (2.10)\n",
            "Requirement already satisfied: certifi>=2017.4.17 in /usr/local/lib/python3.8/dist-packages (from requests>=2.19.0->datasets<3.0.0,>=2.7.1->transformer_lens) (2022.12.7)\n",
            "Requirement already satisfied: chardet<5,>=3.0.2 in /usr/local/lib/python3.8/dist-packages (from requests>=2.19.0->datasets<3.0.0,>=2.7.1->transformer_lens) (4.0.0)\n",
            "Requirement already satisfied: urllib3<1.27,>=1.21.1 in /usr/local/lib/python3.8/dist-packages (from requests>=2.19.0->datasets<3.0.0,>=2.7.1->transformer_lens) (1.26.14)\n",
            "Requirement already satisfied: smmap<6,>=3.0.1 in /usr/local/lib/python3.8/dist-packages (from gitdb<5,>=4.0.1->GitPython>=1.0.0->wandb<0.14.0,>=0.13.5->transformer_lens) (5.0.0)\n"
          ]
        }
      ],
      "source": [
        "!pip install transformer_lens"
      ]
    },
    {
      "cell_type": "markdown",
      "metadata": {
        "id": "DJb5YtgqIJVb"
      },
      "source": [
        "### Plotting function"
      ]
    },
    {
      "cell_type": "code",
      "execution_count": null,
      "metadata": {
        "id": "bvgIT_OqIduM"
      },
      "outputs": [],
      "source": [
        "import plotly.express as px\n",
        "\n",
        "def imshow(\n",
        "    tensor,\n",
        "    xlabel=\"X\",\n",
        "    ylabel=\"Y\",\n",
        "    zlabel=None,\n",
        "    xticks=None,\n",
        "    yticks=None,\n",
        "    c_midpoint=0.0,\n",
        "    c_scale=\"RdBu\",\n",
        "    show=True,\n",
        "    **kwargs\n",
        "):\n",
        "    tensor = utils.to_numpy(tensor)\n",
        "    xticks = [str(x) for x in xticks]\n",
        "    yticks = [str(y) for y in yticks]\n",
        "    labels = {\"x\": xlabel, \"y\": ylabel}\n",
        "    if zlabel is not None:\n",
        "        labels[\"color\"] = zlabel\n",
        "    fig = px.imshow(\n",
        "        tensor,\n",
        "        x=xticks,\n",
        "        y=yticks,\n",
        "        labels=labels,\n",
        "        color_continuous_midpoint=c_midpoint,\n",
        "        color_continuous_scale=c_scale,\n",
        "        **kwargs\n",
        "    ).show()"
      ]
    },
    {
      "cell_type": "markdown",
      "metadata": {
        "id": "XLaXyAxhFD24"
      },
      "source": [
        "## Note on Errors:\n",
        "\n",
        "* If your notebook crashes due to CUDA out of memory try (a) Restart notebook, and (b) Go to Runtime, Change Runtime type, select no hardware accelerator (no GPU). Colab without GPU should have enough memory to run the examples shown here"
      ]
    },
    {
      "cell_type": "markdown",
      "metadata": {
        "id": "qd6Q_FLDHzyT"
      },
      "source": [
        "## Step 1: Getting a model to play with"
      ]
    },
    {
      "cell_type": "code",
      "execution_count": null,
      "metadata": {
        "colab": {
          "base_uri": "https://localhost:8080/"
        },
        "id": "cbrIMYpUH45t",
        "outputId": "3f06e85e-b292-4928-d038-5cd925d68d41"
      },
      "outputs": [
        {
          "output_type": "stream",
          "name": "stderr",
          "text": [
            "Using pad_token, but it is not set yet.\n"
          ]
        },
        {
          "output_type": "stream",
          "name": "stdout",
          "text": [
            "Loaded pretrained model gpt2-small into HookedTransformer\n"
          ]
        }
      ],
      "source": [
        "from transformer_lens import HookedTransformer, utils\n",
        "\n",
        "model_gpt = HookedTransformer.from_pretrained(\"gpt2-small\")\n"
      ]
    },
    {
      "cell_type": "code",
      "execution_count": null,
      "metadata": {
        "colab": {
          "base_uri": "https://localhost:8080/"
        },
        "id": "kwg2InyNITPY",
        "outputId": "115c4048-5f37-4b65-f460-ebfcdef34cab"
      },
      "outputs": [
        {
          "output_type": "stream",
          "name": "stdout",
          "text": [
            " Turing\n"
          ]
        }
      ],
      "source": [
        "logits = model_gpt(\"Famous computer scientist Alan\")\n",
        "# The logit dimensions are: [batch, position, vocab]\n",
        "next_token_logits = logits[0, -1]\n",
        "next_token_prediction = next_token_logits.argmax()\n",
        "next_word_prediction = model_gpt.tokenizer.decode(next_token_prediction)\n",
        "print(next_word_prediction)"
      ]
    },
    {
      "cell_type": "code",
      "execution_count": null,
      "metadata": {
        "colab": {
          "base_uri": "https://localhost:8080/"
        },
        "id": "ACWOLD6zITb8",
        "outputId": "2f951119-333f-4675-dc89-958ba2ec2195"
      },
      "outputs": [
        {
          "output_type": "stream",
          "name": "stdout",
          "text": [
            "hook_embed torch.Size([1, 6, 768])\n",
            "hook_pos_embed torch.Size([1, 6, 768])\n",
            "blocks.0.hook_resid_pre torch.Size([1, 6, 768])\n",
            "blocks.0.ln1.hook_scale torch.Size([1, 6, 1])\n",
            "blocks.0.ln1.hook_normalized torch.Size([1, 6, 768])\n",
            "blocks.0.attn.hook_q torch.Size([1, 6, 12, 64])\n",
            "blocks.0.attn.hook_k torch.Size([1, 6, 12, 64])\n",
            "blocks.0.attn.hook_v torch.Size([1, 6, 12, 64])\n",
            "blocks.0.attn.hook_attn_scores torch.Size([1, 12, 6, 6])\n",
            "blocks.0.attn.hook_pattern torch.Size([1, 12, 6, 6])\n",
            "blocks.0.attn.hook_z torch.Size([1, 6, 12, 64])\n",
            "blocks.0.hook_attn_out torch.Size([1, 6, 768])\n",
            "blocks.0.hook_resid_mid torch.Size([1, 6, 768])\n",
            "blocks.0.ln2.hook_scale torch.Size([1, 6, 1])\n",
            "blocks.0.ln2.hook_normalized torch.Size([1, 6, 768])\n",
            "blocks.0.mlp.hook_pre torch.Size([1, 6, 3072])\n",
            "blocks.0.mlp.hook_post torch.Size([1, 6, 3072])\n",
            "blocks.0.hook_mlp_out torch.Size([1, 6, 768])\n",
            "blocks.0.hook_resid_post torch.Size([1, 6, 768])\n",
            "blocks.1.hook_resid_pre torch.Size([1, 6, 768])\n",
            "blocks.1.ln1.hook_scale torch.Size([1, 6, 1])\n",
            "blocks.1.ln1.hook_normalized torch.Size([1, 6, 768])\n",
            "blocks.1.attn.hook_q torch.Size([1, 6, 12, 64])\n",
            "blocks.1.attn.hook_k torch.Size([1, 6, 12, 64])\n",
            "blocks.1.attn.hook_v torch.Size([1, 6, 12, 64])\n",
            "blocks.1.attn.hook_attn_scores torch.Size([1, 12, 6, 6])\n",
            "blocks.1.attn.hook_pattern torch.Size([1, 12, 6, 6])\n",
            "blocks.1.attn.hook_z torch.Size([1, 6, 12, 64])\n",
            "blocks.1.hook_attn_out torch.Size([1, 6, 768])\n",
            "blocks.1.hook_resid_mid torch.Size([1, 6, 768])\n",
            "blocks.1.ln2.hook_scale torch.Size([1, 6, 1])\n",
            "blocks.1.ln2.hook_normalized torch.Size([1, 6, 768])\n",
            "blocks.1.mlp.hook_pre torch.Size([1, 6, 3072])\n",
            "blocks.1.mlp.hook_post torch.Size([1, 6, 3072])\n",
            "blocks.1.hook_mlp_out torch.Size([1, 6, 768])\n",
            "blocks.1.hook_resid_post torch.Size([1, 6, 768])\n",
            "blocks.2.hook_resid_pre torch.Size([1, 6, 768])\n",
            "blocks.2.ln1.hook_scale torch.Size([1, 6, 1])\n",
            "blocks.2.ln1.hook_normalized torch.Size([1, 6, 768])\n",
            "blocks.2.attn.hook_q torch.Size([1, 6, 12, 64])\n",
            "blocks.2.attn.hook_k torch.Size([1, 6, 12, 64])\n",
            "blocks.2.attn.hook_v torch.Size([1, 6, 12, 64])\n",
            "blocks.2.attn.hook_attn_scores torch.Size([1, 12, 6, 6])\n",
            "blocks.2.attn.hook_pattern torch.Size([1, 12, 6, 6])\n",
            "blocks.2.attn.hook_z torch.Size([1, 6, 12, 64])\n",
            "blocks.2.hook_attn_out torch.Size([1, 6, 768])\n",
            "blocks.2.hook_resid_mid torch.Size([1, 6, 768])\n",
            "blocks.2.ln2.hook_scale torch.Size([1, 6, 1])\n",
            "blocks.2.ln2.hook_normalized torch.Size([1, 6, 768])\n",
            "blocks.2.mlp.hook_pre torch.Size([1, 6, 3072])\n",
            "blocks.2.mlp.hook_post torch.Size([1, 6, 3072])\n",
            "blocks.2.hook_mlp_out torch.Size([1, 6, 768])\n",
            "blocks.2.hook_resid_post torch.Size([1, 6, 768])\n",
            "blocks.3.hook_resid_pre torch.Size([1, 6, 768])\n",
            "blocks.3.ln1.hook_scale torch.Size([1, 6, 1])\n",
            "blocks.3.ln1.hook_normalized torch.Size([1, 6, 768])\n",
            "blocks.3.attn.hook_q torch.Size([1, 6, 12, 64])\n",
            "blocks.3.attn.hook_k torch.Size([1, 6, 12, 64])\n",
            "blocks.3.attn.hook_v torch.Size([1, 6, 12, 64])\n",
            "blocks.3.attn.hook_attn_scores torch.Size([1, 12, 6, 6])\n",
            "blocks.3.attn.hook_pattern torch.Size([1, 12, 6, 6])\n",
            "blocks.3.attn.hook_z torch.Size([1, 6, 12, 64])\n",
            "blocks.3.hook_attn_out torch.Size([1, 6, 768])\n",
            "blocks.3.hook_resid_mid torch.Size([1, 6, 768])\n",
            "blocks.3.ln2.hook_scale torch.Size([1, 6, 1])\n",
            "blocks.3.ln2.hook_normalized torch.Size([1, 6, 768])\n",
            "blocks.3.mlp.hook_pre torch.Size([1, 6, 3072])\n",
            "blocks.3.mlp.hook_post torch.Size([1, 6, 3072])\n",
            "blocks.3.hook_mlp_out torch.Size([1, 6, 768])\n",
            "blocks.3.hook_resid_post torch.Size([1, 6, 768])\n",
            "blocks.4.hook_resid_pre torch.Size([1, 6, 768])\n",
            "blocks.4.ln1.hook_scale torch.Size([1, 6, 1])\n",
            "blocks.4.ln1.hook_normalized torch.Size([1, 6, 768])\n",
            "blocks.4.attn.hook_q torch.Size([1, 6, 12, 64])\n",
            "blocks.4.attn.hook_k torch.Size([1, 6, 12, 64])\n",
            "blocks.4.attn.hook_v torch.Size([1, 6, 12, 64])\n",
            "blocks.4.attn.hook_attn_scores torch.Size([1, 12, 6, 6])\n",
            "blocks.4.attn.hook_pattern torch.Size([1, 12, 6, 6])\n",
            "blocks.4.attn.hook_z torch.Size([1, 6, 12, 64])\n",
            "blocks.4.hook_attn_out torch.Size([1, 6, 768])\n",
            "blocks.4.hook_resid_mid torch.Size([1, 6, 768])\n",
            "blocks.4.ln2.hook_scale torch.Size([1, 6, 1])\n",
            "blocks.4.ln2.hook_normalized torch.Size([1, 6, 768])\n",
            "blocks.4.mlp.hook_pre torch.Size([1, 6, 3072])\n",
            "blocks.4.mlp.hook_post torch.Size([1, 6, 3072])\n",
            "blocks.4.hook_mlp_out torch.Size([1, 6, 768])\n",
            "blocks.4.hook_resid_post torch.Size([1, 6, 768])\n",
            "blocks.5.hook_resid_pre torch.Size([1, 6, 768])\n",
            "blocks.5.ln1.hook_scale torch.Size([1, 6, 1])\n",
            "blocks.5.ln1.hook_normalized torch.Size([1, 6, 768])\n",
            "blocks.5.attn.hook_q torch.Size([1, 6, 12, 64])\n",
            "blocks.5.attn.hook_k torch.Size([1, 6, 12, 64])\n",
            "blocks.5.attn.hook_v torch.Size([1, 6, 12, 64])\n",
            "blocks.5.attn.hook_attn_scores torch.Size([1, 12, 6, 6])\n",
            "blocks.5.attn.hook_pattern torch.Size([1, 12, 6, 6])\n",
            "blocks.5.attn.hook_z torch.Size([1, 6, 12, 64])\n",
            "blocks.5.hook_attn_out torch.Size([1, 6, 768])\n",
            "blocks.5.hook_resid_mid torch.Size([1, 6, 768])\n",
            "blocks.5.ln2.hook_scale torch.Size([1, 6, 1])\n",
            "blocks.5.ln2.hook_normalized torch.Size([1, 6, 768])\n",
            "blocks.5.mlp.hook_pre torch.Size([1, 6, 3072])\n",
            "blocks.5.mlp.hook_post torch.Size([1, 6, 3072])\n",
            "blocks.5.hook_mlp_out torch.Size([1, 6, 768])\n",
            "blocks.5.hook_resid_post torch.Size([1, 6, 768])\n",
            "blocks.6.hook_resid_pre torch.Size([1, 6, 768])\n",
            "blocks.6.ln1.hook_scale torch.Size([1, 6, 1])\n",
            "blocks.6.ln1.hook_normalized torch.Size([1, 6, 768])\n",
            "blocks.6.attn.hook_q torch.Size([1, 6, 12, 64])\n",
            "blocks.6.attn.hook_k torch.Size([1, 6, 12, 64])\n",
            "blocks.6.attn.hook_v torch.Size([1, 6, 12, 64])\n",
            "blocks.6.attn.hook_attn_scores torch.Size([1, 12, 6, 6])\n",
            "blocks.6.attn.hook_pattern torch.Size([1, 12, 6, 6])\n",
            "blocks.6.attn.hook_z torch.Size([1, 6, 12, 64])\n",
            "blocks.6.hook_attn_out torch.Size([1, 6, 768])\n",
            "blocks.6.hook_resid_mid torch.Size([1, 6, 768])\n",
            "blocks.6.ln2.hook_scale torch.Size([1, 6, 1])\n",
            "blocks.6.ln2.hook_normalized torch.Size([1, 6, 768])\n",
            "blocks.6.mlp.hook_pre torch.Size([1, 6, 3072])\n",
            "blocks.6.mlp.hook_post torch.Size([1, 6, 3072])\n",
            "blocks.6.hook_mlp_out torch.Size([1, 6, 768])\n",
            "blocks.6.hook_resid_post torch.Size([1, 6, 768])\n",
            "blocks.7.hook_resid_pre torch.Size([1, 6, 768])\n",
            "blocks.7.ln1.hook_scale torch.Size([1, 6, 1])\n",
            "blocks.7.ln1.hook_normalized torch.Size([1, 6, 768])\n",
            "blocks.7.attn.hook_q torch.Size([1, 6, 12, 64])\n",
            "blocks.7.attn.hook_k torch.Size([1, 6, 12, 64])\n",
            "blocks.7.attn.hook_v torch.Size([1, 6, 12, 64])\n",
            "blocks.7.attn.hook_attn_scores torch.Size([1, 12, 6, 6])\n",
            "blocks.7.attn.hook_pattern torch.Size([1, 12, 6, 6])\n",
            "blocks.7.attn.hook_z torch.Size([1, 6, 12, 64])\n",
            "blocks.7.hook_attn_out torch.Size([1, 6, 768])\n",
            "blocks.7.hook_resid_mid torch.Size([1, 6, 768])\n",
            "blocks.7.ln2.hook_scale torch.Size([1, 6, 1])\n",
            "blocks.7.ln2.hook_normalized torch.Size([1, 6, 768])\n",
            "blocks.7.mlp.hook_pre torch.Size([1, 6, 3072])\n",
            "blocks.7.mlp.hook_post torch.Size([1, 6, 3072])\n",
            "blocks.7.hook_mlp_out torch.Size([1, 6, 768])\n",
            "blocks.7.hook_resid_post torch.Size([1, 6, 768])\n",
            "blocks.8.hook_resid_pre torch.Size([1, 6, 768])\n",
            "blocks.8.ln1.hook_scale torch.Size([1, 6, 1])\n",
            "blocks.8.ln1.hook_normalized torch.Size([1, 6, 768])\n",
            "blocks.8.attn.hook_q torch.Size([1, 6, 12, 64])\n",
            "blocks.8.attn.hook_k torch.Size([1, 6, 12, 64])\n",
            "blocks.8.attn.hook_v torch.Size([1, 6, 12, 64])\n",
            "blocks.8.attn.hook_attn_scores torch.Size([1, 12, 6, 6])\n",
            "blocks.8.attn.hook_pattern torch.Size([1, 12, 6, 6])\n",
            "blocks.8.attn.hook_z torch.Size([1, 6, 12, 64])\n",
            "blocks.8.hook_attn_out torch.Size([1, 6, 768])\n",
            "blocks.8.hook_resid_mid torch.Size([1, 6, 768])\n",
            "blocks.8.ln2.hook_scale torch.Size([1, 6, 1])\n",
            "blocks.8.ln2.hook_normalized torch.Size([1, 6, 768])\n",
            "blocks.8.mlp.hook_pre torch.Size([1, 6, 3072])\n",
            "blocks.8.mlp.hook_post torch.Size([1, 6, 3072])\n",
            "blocks.8.hook_mlp_out torch.Size([1, 6, 768])\n",
            "blocks.8.hook_resid_post torch.Size([1, 6, 768])\n",
            "blocks.9.hook_resid_pre torch.Size([1, 6, 768])\n",
            "blocks.9.ln1.hook_scale torch.Size([1, 6, 1])\n",
            "blocks.9.ln1.hook_normalized torch.Size([1, 6, 768])\n",
            "blocks.9.attn.hook_q torch.Size([1, 6, 12, 64])\n",
            "blocks.9.attn.hook_k torch.Size([1, 6, 12, 64])\n",
            "blocks.9.attn.hook_v torch.Size([1, 6, 12, 64])\n",
            "blocks.9.attn.hook_attn_scores torch.Size([1, 12, 6, 6])\n",
            "blocks.9.attn.hook_pattern torch.Size([1, 12, 6, 6])\n",
            "blocks.9.attn.hook_z torch.Size([1, 6, 12, 64])\n",
            "blocks.9.hook_attn_out torch.Size([1, 6, 768])\n",
            "blocks.9.hook_resid_mid torch.Size([1, 6, 768])\n",
            "blocks.9.ln2.hook_scale torch.Size([1, 6, 1])\n",
            "blocks.9.ln2.hook_normalized torch.Size([1, 6, 768])\n",
            "blocks.9.mlp.hook_pre torch.Size([1, 6, 3072])\n",
            "blocks.9.mlp.hook_post torch.Size([1, 6, 3072])\n",
            "blocks.9.hook_mlp_out torch.Size([1, 6, 768])\n",
            "blocks.9.hook_resid_post torch.Size([1, 6, 768])\n",
            "blocks.10.hook_resid_pre torch.Size([1, 6, 768])\n",
            "blocks.10.ln1.hook_scale torch.Size([1, 6, 1])\n",
            "blocks.10.ln1.hook_normalized torch.Size([1, 6, 768])\n",
            "blocks.10.attn.hook_q torch.Size([1, 6, 12, 64])\n",
            "blocks.10.attn.hook_k torch.Size([1, 6, 12, 64])\n",
            "blocks.10.attn.hook_v torch.Size([1, 6, 12, 64])\n",
            "blocks.10.attn.hook_attn_scores torch.Size([1, 12, 6, 6])\n",
            "blocks.10.attn.hook_pattern torch.Size([1, 12, 6, 6])\n",
            "blocks.10.attn.hook_z torch.Size([1, 6, 12, 64])\n",
            "blocks.10.hook_attn_out torch.Size([1, 6, 768])\n",
            "blocks.10.hook_resid_mid torch.Size([1, 6, 768])\n",
            "blocks.10.ln2.hook_scale torch.Size([1, 6, 1])\n",
            "blocks.10.ln2.hook_normalized torch.Size([1, 6, 768])\n",
            "blocks.10.mlp.hook_pre torch.Size([1, 6, 3072])\n",
            "blocks.10.mlp.hook_post torch.Size([1, 6, 3072])\n",
            "blocks.10.hook_mlp_out torch.Size([1, 6, 768])\n",
            "blocks.10.hook_resid_post torch.Size([1, 6, 768])\n",
            "blocks.11.hook_resid_pre torch.Size([1, 6, 768])\n",
            "blocks.11.ln1.hook_scale torch.Size([1, 6, 1])\n",
            "blocks.11.ln1.hook_normalized torch.Size([1, 6, 768])\n",
            "blocks.11.attn.hook_q torch.Size([1, 6, 12, 64])\n",
            "blocks.11.attn.hook_k torch.Size([1, 6, 12, 64])\n",
            "blocks.11.attn.hook_v torch.Size([1, 6, 12, 64])\n",
            "blocks.11.attn.hook_attn_scores torch.Size([1, 12, 6, 6])\n",
            "blocks.11.attn.hook_pattern torch.Size([1, 12, 6, 6])\n",
            "blocks.11.attn.hook_z torch.Size([1, 6, 12, 64])\n",
            "blocks.11.hook_attn_out torch.Size([1, 6, 768])\n",
            "blocks.11.hook_resid_mid torch.Size([1, 6, 768])\n",
            "blocks.11.ln2.hook_scale torch.Size([1, 6, 1])\n",
            "blocks.11.ln2.hook_normalized torch.Size([1, 6, 768])\n",
            "blocks.11.mlp.hook_pre torch.Size([1, 6, 3072])\n",
            "blocks.11.mlp.hook_post torch.Size([1, 6, 3072])\n",
            "blocks.11.hook_mlp_out torch.Size([1, 6, 768])\n",
            "blocks.11.hook_resid_post torch.Size([1, 6, 768])\n",
            "ln_final.hook_scale torch.Size([1, 6, 1])\n",
            "ln_final.hook_normalized torch.Size([1, 6, 768])\n"
          ]
        }
      ],
      "source": [
        "logits, cache = model_gpt.run_with_cache(\"Famous computer scientist Alan\")\n",
        "for key, value in cache.items():\n",
        "    print(key, value.shape)"
      ]
    },
    {
      "cell_type": "code",
      "execution_count": null,
      "metadata": {
        "colab": {
          "base_uri": "https://localhost:8080/",
          "height": 273
        },
        "id": "OyN86j0nIaKR",
        "outputId": "88ee942c-f498-4cd6-dee8-b4da31750a1a"
      },
      "outputs": [
        {
          "output_type": "stream",
          "name": "stdout",
          "text": [
            "Tokenized prompt: ['<|endoftext|>', 'Her', ' name', ' was', ' Alex', ' Hart', '.', ' Tomorrow', ' at', ' lunch', ' time', ' Alex']\n",
            "Tokenized answer: [' Hart']\n"
          ]
        },
        {
          "output_type": "display_data",
          "data": {
            "text/plain": [
              "Performance on answer token:\n",
              "\u001b[1mRank: \u001b[0m\u001b[1;36m3\u001b[0m\u001b[1m        Logit: \u001b[0m\u001b[1;36m14.29\u001b[0m\u001b[1m Prob:  \u001b[0m\u001b[1;36m7.35\u001b[0m\u001b[1m% Token: | Hart|\u001b[0m\n"
            ],
            "text/html": [
              "<pre style=\"white-space:pre;overflow-x:auto;line-height:normal;font-family:Menlo,'DejaVu Sans Mono',consolas,'Courier New',monospace\">Performance on answer token:\n",
              "<span style=\"font-weight: bold\">Rank: </span><span style=\"color: #008080; text-decoration-color: #008080; font-weight: bold\">3</span><span style=\"font-weight: bold\">        Logit: </span><span style=\"color: #008080; text-decoration-color: #008080; font-weight: bold\">14.29</span><span style=\"font-weight: bold\"> Prob:  </span><span style=\"color: #008080; text-decoration-color: #008080; font-weight: bold\">7.35</span><span style=\"font-weight: bold\">% Token: | Hart|</span>\n",
              "</pre>\n"
            ]
          },
          "metadata": {}
        },
        {
          "output_type": "stream",
          "name": "stdout",
          "text": [
            "Top 0th token. Logit: 15.64 Prob: 28.38% Token: | will|\n",
            "Top 1th token. Logit: 14.47 Prob:  8.79% Token: | would|\n",
            "Top 2th token. Logit: 14.34 Prob:  7.74% Token: | was|\n",
            "Top 3th token. Logit: 14.29 Prob:  7.35% Token: | Hart|\n",
            "Top 4th token. Logit: 14.18 Prob:  6.54% Token: | and|\n",
            "Top 5th token. Logit: 14.09 Prob:  6.00% Token: | is|\n",
            "Top 6th token. Logit: 13.51 Prob:  3.38% Token: |'s|\n",
            "Top 7th token. Logit: 13.23 Prob:  2.53% Token: |,|\n",
            "Top 8th token. Logit: 12.73 Prob:  1.55% Token: | had|\n",
            "Top 9th token. Logit: 12.00 Prob:  0.74% Token: | has|\n"
          ]
        },
        {
          "output_type": "display_data",
          "data": {
            "text/plain": [
              "\u001b[1mRanks of the answer tokens:\u001b[0m \u001b[1m[\u001b[0m\u001b[1m(\u001b[0m\u001b[32m' Hart'\u001b[0m, \u001b[1;36m3\u001b[0m\u001b[1m)\u001b[0m\u001b[1m]\u001b[0m\n"
            ],
            "text/html": [
              "<pre style=\"white-space:pre;overflow-x:auto;line-height:normal;font-family:Menlo,'DejaVu Sans Mono',consolas,'Courier New',monospace\"><span style=\"font-weight: bold\">Ranks of the answer tokens:</span> <span style=\"font-weight: bold\">[(</span><span style=\"color: #008000; text-decoration-color: #008000\">' Hart'</span>, <span style=\"color: #008080; text-decoration-color: #008080; font-weight: bold\">3</span><span style=\"font-weight: bold\">)]</span>\n",
              "</pre>\n"
            ]
          },
          "metadata": {}
        }
      ],
      "source": [
        "utils.test_prompt(\"Her name was Alex Hart. Tomorrow at lunch time Alex\",\n",
        "                  \" Hart\", model_gpt)"
      ]
    },
    {
      "cell_type": "markdown",
      "metadata": {
        "id": "URTbTvRNIPnW"
      },
      "source": [
        "### Method 1: Residual Stream Patching"
      ]
    },
    {
      "cell_type": "markdown",
      "metadata": {
        "id": "UPO2QrMVOy_w"
      },
      "source": [
        "#### My introductory explanation"
      ]
    },
    {
      "cell_type": "code",
      "execution_count": null,
      "metadata": {
        "colab": {
          "base_uri": "https://localhost:8080/",
          "height": 273
        },
        "id": "c6hzir0GIZpH",
        "outputId": "55d24ca3-1874-4878-9223-f339e3edcfaf"
      },
      "outputs": [
        {
          "output_type": "stream",
          "name": "stdout",
          "text": [
            "Tokenized prompt: ['<|endoftext|>', 'Her', ' name', ' was', ' Alex', ' Hart', '.', ' Tomorrow', ' at', ' lunch', ' time', ' Alex']\n",
            "Tokenized answer: [' Hart']\n"
          ]
        },
        {
          "output_type": "display_data",
          "data": {
            "text/plain": [
              "Performance on answer token:\n",
              "\u001b[1mRank: \u001b[0m\u001b[1;36m2882\u001b[0m\u001b[1m     Logit:  \u001b[0m\u001b[1;36m4.81\u001b[0m\u001b[1m Prob:  \u001b[0m\u001b[1;36m0.00\u001b[0m\u001b[1m% Token: | Hart|\u001b[0m\n"
            ],
            "text/html": [
              "<pre style=\"white-space:pre;overflow-x:auto;line-height:normal;font-family:Menlo,'DejaVu Sans Mono',consolas,'Courier New',monospace\">Performance on answer token:\n",
              "<span style=\"font-weight: bold\">Rank: </span><span style=\"color: #008080; text-decoration-color: #008080; font-weight: bold\">2882</span><span style=\"font-weight: bold\">     Logit:  </span><span style=\"color: #008080; text-decoration-color: #008080; font-weight: bold\">4.81</span><span style=\"font-weight: bold\"> Prob:  </span><span style=\"color: #008080; text-decoration-color: #008080; font-weight: bold\">0.00</span><span style=\"font-weight: bold\">% Token: | Hart|</span>\n",
              "</pre>\n"
            ]
          },
          "metadata": {}
        },
        {
          "output_type": "stream",
          "name": "stdout",
          "text": [
            "Top 0th token. Logit: 15.63 Prob: 30.45% Token: | will|\n",
            "Top 1th token. Logit: 14.44 Prob:  9.23% Token: | was|\n",
            "Top 2th token. Logit: 14.42 Prob:  9.11% Token: | Carroll|\n",
            "Top 3th token. Logit: 14.17 Prob:  7.04% Token: | is|\n",
            "Top 4th token. Logit: 13.88 Prob:  5.31% Token: | and|\n",
            "Top 5th token. Logit: 13.76 Prob:  4.70% Token: | would|\n",
            "Top 6th token. Logit: 13.38 Prob:  3.20% Token: |'s|\n",
            "Top 7th token. Logit: 12.93 Prob:  2.04% Token: |,|\n",
            "Top 8th token. Logit: 12.33 Prob:  1.12% Token: | had|\n",
            "Top 9th token. Logit: 12.01 Prob:  0.81% Token: | has|\n"
          ]
        },
        {
          "output_type": "display_data",
          "data": {
            "text/plain": [
              "\u001b[1mRanks of the answer tokens:\u001b[0m \u001b[1m[\u001b[0m\u001b[1m(\u001b[0m\u001b[32m' Hart'\u001b[0m, \u001b[1;36m2882\u001b[0m\u001b[1m)\u001b[0m\u001b[1m]\u001b[0m\n"
            ],
            "text/html": [
              "<pre style=\"white-space:pre;overflow-x:auto;line-height:normal;font-family:Menlo,'DejaVu Sans Mono',consolas,'Courier New',monospace\"><span style=\"font-weight: bold\">Ranks of the answer tokens:</span> <span style=\"font-weight: bold\">[(</span><span style=\"color: #008000; text-decoration-color: #008000\">' Hart'</span>, <span style=\"color: #008080; text-decoration-color: #008080; font-weight: bold\">2882</span><span style=\"font-weight: bold\">)]</span>\n",
              "</pre>\n"
            ]
          },
          "metadata": {}
        }
      ],
      "source": [
        "model_gpt.reset_hooks()\n",
        "_, corrupt_cache_gpt = model_gpt.run_with_cache(\"Her name was Alex Carroll. Tomorrow at lunch time Alex\")\n",
        "\n",
        "def patch_residual_stream(activations, hook, layer=\"blocks.2.hook_resid_post\", pos=5):\n",
        "   # The residual stream dimensions are [batch, position, d_embed]\n",
        "   activations[:, pos, :] = corrupt_cache_gpt[layer][:, pos, :]\n",
        "   return activations\n",
        "\n",
        "\n",
        "# add_hook takes 2 args: Where to insert the patch,\n",
        "# and the function providing the updated activations\n",
        "model_gpt.add_hook(\"blocks.2.hook_resid_post\", patch_residual_stream)\n",
        "\n",
        "\n",
        "utils.test_prompt(\"Her name was Alex Hart. Tomorrow at lunch time Alex\", \" Hart\", model_gpt)\n",
        "\n",
        "model_gpt.reset_hooks()\n"
      ]
    },
    {
      "cell_type": "markdown",
      "metadata": {
        "id": "Tq7Uw6JYO27H"
      },
      "source": [
        "#### How I actually use this"
      ]
    },
    {
      "cell_type": "markdown",
      "metadata": {
        "id": "-8Q4qrnNWgYJ"
      },
      "source": [
        "Oops Colab doesn't have enough memory for doing this on GPT2, so use this 6 layer model from Neel. In the LW post I use GPT2-small.\n",
        "\n",
        "\n",
        "```\n",
        "model = HookedTransformer.from_pretrained(\"solu-6l\")\n",
        "```"
      ]
    },
    {
      "cell_type": "code",
      "execution_count": null,
      "metadata": {
        "colab": {
          "base_uri": "https://localhost:8080/"
        },
        "id": "4Qk1JOT7O6qC",
        "outputId": "470f340f-4cbb-49a8-ab1d-4f8b73cc450f"
      },
      "outputs": [
        {
          "output_type": "stream",
          "name": "stdout",
          "text": [
            "Loaded pretrained model solu-6l into HookedTransformer\n",
            "Patching layer 0\n",
            "Patching layer 1\n",
            "Patching layer 2\n",
            "Patching layer 3\n",
            "Patching layer 4\n",
            "Patching layer 5\n",
            "Patching layer 6\n"
          ]
        }
      ],
      "source": [
        "import torch\n",
        "from functools import partial\n",
        "\n",
        "model_6l = HookedTransformer.from_pretrained(\"solu-6l\")\n",
        "\n",
        "\n",
        "#corrupt_prompt = \"Her name was Sarah Hart. Tomorrow at lunch time Alex\"\n",
        "#corrupt_prompt = \"Her name was Alex Hart. Tomorrow at lunch time Sarah\"\n",
        "\n",
        "# Clean and corrupt prompts in variables\n",
        "clean_prompt = \"Her name was Alex Hart. Tomorrow at lunch time Alex\"\n",
        "corrupt_prompt = \"Her name was Alex Carroll. Tomorrow at lunch time Alex\"\n",
        "# Get the list of tokens the model will deal with\n",
        "clean_tokens = model_6l.to_str_tokens(clean_prompt)\n",
        "# Indices of the right and wrong answers (last names) to judge what the model predicts\n",
        "_, corrupt_cache_6l = model_6l.run_with_cache(corrupt_prompt)\n",
        "\n",
        "def patch_residual_stream(activations, hook, layer=\"blocks.6.hook_resid_post\", pos=5):\n",
        "   # The residual stream dimensions are [batch, position, d_embed]\n",
        "   activations[:, pos, :] = corrupt_cache_6l[layer][:, pos, :]\n",
        "   return activations\n",
        "\n",
        "# List of layers and positions to iterate over. We want to patch before the\n",
        "# first layer, and after every layer (so we cover 13 positions in total).\n",
        "layers = [\"blocks.0.hook_resid_pre\", *[f\"blocks.{i}.hook_resid_post\" for i in range(model_6l.cfg.n_layers)]]\n",
        "n_layers = len(layers)\n",
        "n_pos = len(clean_tokens)\n",
        "\n",
        "# Indices of the right and wrong answers (last names) to judge what the model predicts\n",
        "clean_answer_index = model_6l.tokenizer.encode(\" Hart\")[0]\n",
        "corrupt_answer_index = model_6l.tokenizer.encode(\" Carroll\")[0]\n",
        "\n",
        "# Test the effect of  this patch at any layer and any position\n",
        "patching_effect = torch.zeros(n_layers, n_pos)\n",
        "for l, layer in enumerate(layers):\n",
        "    print(\"Patching layer\", l)\n",
        "    for pos in range(n_pos):\n",
        "        fwd_hooks = [(layer, partial(patch_residual_stream, layer=layer, pos=pos))]\n",
        "        prediction_logits = model_6l.run_with_hooks(clean_prompt,\n",
        "                                                    fwd_hooks=fwd_hooks)[0, -1]\n",
        "        patching_effect[l, pos] = prediction_logits[clean_answer_index] \\\n",
        "                                  - prediction_logits[corrupt_answer_index]\n",
        "\n",
        "torch.cuda.empty_cache()"
      ]
    },
    {
      "cell_type": "code",
      "execution_count": null,
      "metadata": {
        "colab": {
          "base_uri": "https://localhost:8080/",
          "height": 397
        },
        "id": "Pjz1Z2ssZNLA",
        "outputId": "f87f0ff4-556e-41e1-cd9c-48e7da511a78"
      },
      "outputs": [
        {
          "output_type": "display_data",
          "data": {
            "text/html": [
              "<html>\n",
              "<head><meta charset=\"utf-8\" /></head>\n",
              "<body>\n",
              "    <div>            <script src=\"https://cdnjs.cloudflare.com/ajax/libs/mathjax/2.7.5/MathJax.js?config=TeX-AMS-MML_SVG\"></script><script type=\"text/javascript\">if (window.MathJax) {MathJax.Hub.Config({SVG: {font: \"STIX-Web\"}});}</script>                <script type=\"text/javascript\">window.PlotlyConfig = {MathJaxConfig: 'local'};</script>\n",
              "        <script src=\"https://cdn.plot.ly/plotly-2.8.3.min.js\"></script>                <div id=\"ac9953d3-ffd1-4606-9673-a7034b56baba\" class=\"plotly-graph-div\" style=\"height:380px; width:600px;\"></div>            <script type=\"text/javascript\">                                    window.PLOTLYENV=window.PLOTLYENV || {};                                    if (document.getElementById(\"ac9953d3-ffd1-4606-9673-a7034b56baba\")) {                    Plotly.newPlot(                        \"ac9953d3-ffd1-4606-9673-a7034b56baba\",                        [{\"coloraxis\":\"coloraxis\",\"name\":\"0\",\"x\":[\"(pos  0) <|BOS|>\",\"(pos  1) Her\",\"(pos  2)  name\",\"(pos  3)  was\",\"(pos  4)  Alex\",\"(pos  5)  Hart\",\"(pos  6) .\",\"(pos  7)  Tomorrow\",\"(pos  8)  at\",\"(pos  9)  lunch\",\"(pos 10)  time\",\"(pos 11)  Alex\"],\"y\":[\"blocks.0.hook_resid_pre\",\"blocks.0.hook_resid_post\",\"blocks.1.hook_resid_post\",\"blocks.2.hook_resid_post\",\"blocks.3.hook_resid_post\",\"blocks.4.hook_resid_post\",\"blocks.5.hook_resid_post\"],\"z\":[[9.287091255187988,9.287091255187988,9.287091255187988,9.287091255187988,9.287091255187988,-8.841590881347656,9.287091255187988,9.287091255187988,9.287091255187988,9.287091255187988,9.287091255187988,9.287091255187988],[9.287091255187988,9.287091255187988,9.287091255187988,9.287091255187988,9.287091255187988,-8.60157585144043,9.32235336303711,9.338279724121094,9.270818710327148,9.31346321105957,9.296982765197754,9.363786697387695],[9.287091255187988,9.287091255187988,9.287091255187988,9.287091255187988,9.287091255187988,-8.548578262329102,9.17385482788086,9.320234298706055,9.294395446777344,9.313580513000488,9.320442199707031,9.398366928100586],[9.287091255187988,9.287091255187988,9.287091255187988,9.287091255187988,9.287091255187988,-8.613018989562988,9.130183219909668,9.294198989868164,9.289533615112305,9.295724868774414,9.297483444213867,9.403207778930664],[9.287091255187988,9.287091255187988,9.287091255187988,9.287091255187988,9.287091255187988,-7.846512794494629,9.19937801361084,9.301995277404785,9.281064987182617,9.281774520874023,9.304100036621094,9.168582916259766],[9.287091255187988,9.287091255187988,9.287091255187988,9.287091255187988,9.287091255187988,3.4730796813964844,9.203140258789062,9.280693054199219,9.280961990356445,9.27462387084961,9.27864933013916,-2.739102363586426],[9.287091255187988,9.287091255187988,9.287091255187988,9.287091255187988,9.287091255187988,9.287091255187988,9.287091255187988,9.287091255187988,9.287091255187988,9.287091255187988,9.287091255187988,-8.841590881347656]],\"type\":\"heatmap\",\"xaxis\":\"x\",\"yaxis\":\"y\",\"hovertemplate\":\"pos: %{x}<br>layer: %{y}<br>Logit difference: %{z}<extra></extra>\"}],                        {\"template\":{\"data\":{\"bar\":[{\"error_x\":{\"color\":\"#2a3f5f\"},\"error_y\":{\"color\":\"#2a3f5f\"},\"marker\":{\"line\":{\"color\":\"#E5ECF6\",\"width\":0.5},\"pattern\":{\"fillmode\":\"overlay\",\"size\":10,\"solidity\":0.2}},\"type\":\"bar\"}],\"barpolar\":[{\"marker\":{\"line\":{\"color\":\"#E5ECF6\",\"width\":0.5},\"pattern\":{\"fillmode\":\"overlay\",\"size\":10,\"solidity\":0.2}},\"type\":\"barpolar\"}],\"carpet\":[{\"aaxis\":{\"endlinecolor\":\"#2a3f5f\",\"gridcolor\":\"white\",\"linecolor\":\"white\",\"minorgridcolor\":\"white\",\"startlinecolor\":\"#2a3f5f\"},\"baxis\":{\"endlinecolor\":\"#2a3f5f\",\"gridcolor\":\"white\",\"linecolor\":\"white\",\"minorgridcolor\":\"white\",\"startlinecolor\":\"#2a3f5f\"},\"type\":\"carpet\"}],\"choropleth\":[{\"colorbar\":{\"outlinewidth\":0,\"ticks\":\"\"},\"type\":\"choropleth\"}],\"contour\":[{\"colorbar\":{\"outlinewidth\":0,\"ticks\":\"\"},\"colorscale\":[[0.0,\"#0d0887\"],[0.1111111111111111,\"#46039f\"],[0.2222222222222222,\"#7201a8\"],[0.3333333333333333,\"#9c179e\"],[0.4444444444444444,\"#bd3786\"],[0.5555555555555556,\"#d8576b\"],[0.6666666666666666,\"#ed7953\"],[0.7777777777777778,\"#fb9f3a\"],[0.8888888888888888,\"#fdca26\"],[1.0,\"#f0f921\"]],\"type\":\"contour\"}],\"contourcarpet\":[{\"colorbar\":{\"outlinewidth\":0,\"ticks\":\"\"},\"type\":\"contourcarpet\"}],\"heatmap\":[{\"colorbar\":{\"outlinewidth\":0,\"ticks\":\"\"},\"colorscale\":[[0.0,\"#0d0887\"],[0.1111111111111111,\"#46039f\"],[0.2222222222222222,\"#7201a8\"],[0.3333333333333333,\"#9c179e\"],[0.4444444444444444,\"#bd3786\"],[0.5555555555555556,\"#d8576b\"],[0.6666666666666666,\"#ed7953\"],[0.7777777777777778,\"#fb9f3a\"],[0.8888888888888888,\"#fdca26\"],[1.0,\"#f0f921\"]],\"type\":\"heatmap\"}],\"heatmapgl\":[{\"colorbar\":{\"outlinewidth\":0,\"ticks\":\"\"},\"colorscale\":[[0.0,\"#0d0887\"],[0.1111111111111111,\"#46039f\"],[0.2222222222222222,\"#7201a8\"],[0.3333333333333333,\"#9c179e\"],[0.4444444444444444,\"#bd3786\"],[0.5555555555555556,\"#d8576b\"],[0.6666666666666666,\"#ed7953\"],[0.7777777777777778,\"#fb9f3a\"],[0.8888888888888888,\"#fdca26\"],[1.0,\"#f0f921\"]],\"type\":\"heatmapgl\"}],\"histogram\":[{\"marker\":{\"pattern\":{\"fillmode\":\"overlay\",\"size\":10,\"solidity\":0.2}},\"type\":\"histogram\"}],\"histogram2d\":[{\"colorbar\":{\"outlinewidth\":0,\"ticks\":\"\"},\"colorscale\":[[0.0,\"#0d0887\"],[0.1111111111111111,\"#46039f\"],[0.2222222222222222,\"#7201a8\"],[0.3333333333333333,\"#9c179e\"],[0.4444444444444444,\"#bd3786\"],[0.5555555555555556,\"#d8576b\"],[0.6666666666666666,\"#ed7953\"],[0.7777777777777778,\"#fb9f3a\"],[0.8888888888888888,\"#fdca26\"],[1.0,\"#f0f921\"]],\"type\":\"histogram2d\"}],\"histogram2dcontour\":[{\"colorbar\":{\"outlinewidth\":0,\"ticks\":\"\"},\"colorscale\":[[0.0,\"#0d0887\"],[0.1111111111111111,\"#46039f\"],[0.2222222222222222,\"#7201a8\"],[0.3333333333333333,\"#9c179e\"],[0.4444444444444444,\"#bd3786\"],[0.5555555555555556,\"#d8576b\"],[0.6666666666666666,\"#ed7953\"],[0.7777777777777778,\"#fb9f3a\"],[0.8888888888888888,\"#fdca26\"],[1.0,\"#f0f921\"]],\"type\":\"histogram2dcontour\"}],\"mesh3d\":[{\"colorbar\":{\"outlinewidth\":0,\"ticks\":\"\"},\"type\":\"mesh3d\"}],\"parcoords\":[{\"line\":{\"colorbar\":{\"outlinewidth\":0,\"ticks\":\"\"}},\"type\":\"parcoords\"}],\"pie\":[{\"automargin\":true,\"type\":\"pie\"}],\"scatter\":[{\"marker\":{\"colorbar\":{\"outlinewidth\":0,\"ticks\":\"\"}},\"type\":\"scatter\"}],\"scatter3d\":[{\"line\":{\"colorbar\":{\"outlinewidth\":0,\"ticks\":\"\"}},\"marker\":{\"colorbar\":{\"outlinewidth\":0,\"ticks\":\"\"}},\"type\":\"scatter3d\"}],\"scattercarpet\":[{\"marker\":{\"colorbar\":{\"outlinewidth\":0,\"ticks\":\"\"}},\"type\":\"scattercarpet\"}],\"scattergeo\":[{\"marker\":{\"colorbar\":{\"outlinewidth\":0,\"ticks\":\"\"}},\"type\":\"scattergeo\"}],\"scattergl\":[{\"marker\":{\"colorbar\":{\"outlinewidth\":0,\"ticks\":\"\"}},\"type\":\"scattergl\"}],\"scattermapbox\":[{\"marker\":{\"colorbar\":{\"outlinewidth\":0,\"ticks\":\"\"}},\"type\":\"scattermapbox\"}],\"scatterpolar\":[{\"marker\":{\"colorbar\":{\"outlinewidth\":0,\"ticks\":\"\"}},\"type\":\"scatterpolar\"}],\"scatterpolargl\":[{\"marker\":{\"colorbar\":{\"outlinewidth\":0,\"ticks\":\"\"}},\"type\":\"scatterpolargl\"}],\"scatterternary\":[{\"marker\":{\"colorbar\":{\"outlinewidth\":0,\"ticks\":\"\"}},\"type\":\"scatterternary\"}],\"surface\":[{\"colorbar\":{\"outlinewidth\":0,\"ticks\":\"\"},\"colorscale\":[[0.0,\"#0d0887\"],[0.1111111111111111,\"#46039f\"],[0.2222222222222222,\"#7201a8\"],[0.3333333333333333,\"#9c179e\"],[0.4444444444444444,\"#bd3786\"],[0.5555555555555556,\"#d8576b\"],[0.6666666666666666,\"#ed7953\"],[0.7777777777777778,\"#fb9f3a\"],[0.8888888888888888,\"#fdca26\"],[1.0,\"#f0f921\"]],\"type\":\"surface\"}],\"table\":[{\"cells\":{\"fill\":{\"color\":\"#EBF0F8\"},\"line\":{\"color\":\"white\"}},\"header\":{\"fill\":{\"color\":\"#C8D4E3\"},\"line\":{\"color\":\"white\"}},\"type\":\"table\"}]},\"layout\":{\"annotationdefaults\":{\"arrowcolor\":\"#2a3f5f\",\"arrowhead\":0,\"arrowwidth\":1},\"autotypenumbers\":\"strict\",\"coloraxis\":{\"colorbar\":{\"outlinewidth\":0,\"ticks\":\"\"}},\"colorscale\":{\"diverging\":[[0,\"#8e0152\"],[0.1,\"#c51b7d\"],[0.2,\"#de77ae\"],[0.3,\"#f1b6da\"],[0.4,\"#fde0ef\"],[0.5,\"#f7f7f7\"],[0.6,\"#e6f5d0\"],[0.7,\"#b8e186\"],[0.8,\"#7fbc41\"],[0.9,\"#4d9221\"],[1,\"#276419\"]],\"sequential\":[[0.0,\"#0d0887\"],[0.1111111111111111,\"#46039f\"],[0.2222222222222222,\"#7201a8\"],[0.3333333333333333,\"#9c179e\"],[0.4444444444444444,\"#bd3786\"],[0.5555555555555556,\"#d8576b\"],[0.6666666666666666,\"#ed7953\"],[0.7777777777777778,\"#fb9f3a\"],[0.8888888888888888,\"#fdca26\"],[1.0,\"#f0f921\"]],\"sequentialminus\":[[0.0,\"#0d0887\"],[0.1111111111111111,\"#46039f\"],[0.2222222222222222,\"#7201a8\"],[0.3333333333333333,\"#9c179e\"],[0.4444444444444444,\"#bd3786\"],[0.5555555555555556,\"#d8576b\"],[0.6666666666666666,\"#ed7953\"],[0.7777777777777778,\"#fb9f3a\"],[0.8888888888888888,\"#fdca26\"],[1.0,\"#f0f921\"]]},\"colorway\":[\"#636efa\",\"#EF553B\",\"#00cc96\",\"#ab63fa\",\"#FFA15A\",\"#19d3f3\",\"#FF6692\",\"#B6E880\",\"#FF97FF\",\"#FECB52\"],\"font\":{\"color\":\"#2a3f5f\"},\"geo\":{\"bgcolor\":\"white\",\"lakecolor\":\"white\",\"landcolor\":\"#E5ECF6\",\"showlakes\":true,\"showland\":true,\"subunitcolor\":\"white\"},\"hoverlabel\":{\"align\":\"left\"},\"hovermode\":\"closest\",\"mapbox\":{\"style\":\"light\"},\"paper_bgcolor\":\"white\",\"plot_bgcolor\":\"#E5ECF6\",\"polar\":{\"angularaxis\":{\"gridcolor\":\"white\",\"linecolor\":\"white\",\"ticks\":\"\"},\"bgcolor\":\"#E5ECF6\",\"radialaxis\":{\"gridcolor\":\"white\",\"linecolor\":\"white\",\"ticks\":\"\"}},\"scene\":{\"xaxis\":{\"backgroundcolor\":\"#E5ECF6\",\"gridcolor\":\"white\",\"gridwidth\":2,\"linecolor\":\"white\",\"showbackground\":true,\"ticks\":\"\",\"zerolinecolor\":\"white\"},\"yaxis\":{\"backgroundcolor\":\"#E5ECF6\",\"gridcolor\":\"white\",\"gridwidth\":2,\"linecolor\":\"white\",\"showbackground\":true,\"ticks\":\"\",\"zerolinecolor\":\"white\"},\"zaxis\":{\"backgroundcolor\":\"#E5ECF6\",\"gridcolor\":\"white\",\"gridwidth\":2,\"linecolor\":\"white\",\"showbackground\":true,\"ticks\":\"\",\"zerolinecolor\":\"white\"}},\"shapedefaults\":{\"line\":{\"color\":\"#2a3f5f\"}},\"ternary\":{\"aaxis\":{\"gridcolor\":\"white\",\"linecolor\":\"white\",\"ticks\":\"\"},\"baxis\":{\"gridcolor\":\"white\",\"linecolor\":\"white\",\"ticks\":\"\"},\"bgcolor\":\"#E5ECF6\",\"caxis\":{\"gridcolor\":\"white\",\"linecolor\":\"white\",\"ticks\":\"\"}},\"title\":{\"x\":0.05},\"xaxis\":{\"automargin\":true,\"gridcolor\":\"white\",\"linecolor\":\"white\",\"ticks\":\"\",\"title\":{\"standoff\":15},\"zerolinecolor\":\"white\",\"zerolinewidth\":2},\"yaxis\":{\"automargin\":true,\"gridcolor\":\"white\",\"linecolor\":\"white\",\"ticks\":\"\",\"title\":{\"standoff\":15},\"zerolinecolor\":\"white\",\"zerolinewidth\":2}}},\"xaxis\":{\"anchor\":\"y\",\"domain\":[0.0,1.0],\"scaleanchor\":\"y\",\"constrain\":\"domain\",\"title\":{\"text\":\"pos\"}},\"yaxis\":{\"anchor\":\"x\",\"domain\":[0.0,1.0],\"autorange\":\"reversed\",\"constrain\":\"domain\",\"title\":{\"text\":\"layer\"}},\"coloraxis\":{\"colorbar\":{\"title\":{\"text\":\"Logit difference\"}},\"colorscale\":[[0.0,\"rgb(103,0,31)\"],[0.1,\"rgb(178,24,43)\"],[0.2,\"rgb(214,96,77)\"],[0.3,\"rgb(244,165,130)\"],[0.4,\"rgb(253,219,199)\"],[0.5,\"rgb(247,247,247)\"],[0.6,\"rgb(209,229,240)\"],[0.7,\"rgb(146,197,222)\"],[0.8,\"rgb(67,147,195)\"],[0.9,\"rgb(33,102,172)\"],[1.0,\"rgb(5,48,97)\"]],\"cmid\":0.0},\"title\":{\"text\":\"Patching with 1st occurrence of first name\"},\"height\":380,\"width\":600},                        {\"responsive\": true}                    ).then(function(){\n",
              "                            \n",
              "var gd = document.getElementById('ac9953d3-ffd1-4606-9673-a7034b56baba');\n",
              "var x = new MutationObserver(function (mutations, observer) {{\n",
              "        var display = window.getComputedStyle(gd).display;\n",
              "        if (!display || display === 'none') {{\n",
              "            console.log([gd, 'removed!']);\n",
              "            Plotly.purge(gd);\n",
              "            observer.disconnect();\n",
              "        }}\n",
              "}});\n",
              "\n",
              "// Listen for the removal of the full notebook cells\n",
              "var notebookContainer = gd.closest('#notebook-container');\n",
              "if (notebookContainer) {{\n",
              "    x.observe(notebookContainer, {childList: true});\n",
              "}}\n",
              "\n",
              "// Listen for the clearing of the current output cell\n",
              "var outputEl = gd.closest('.output');\n",
              "if (outputEl) {{\n",
              "    x.observe(outputEl, {childList: true});\n",
              "}}\n",
              "\n",
              "                        })                };                            </script>        </div>\n",
              "</body>\n",
              "</html>"
            ]
          },
          "metadata": {}
        }
      ],
      "source": [
        "# Plot\n",
        "token_labels = [f\"(pos {i:2}) {t}\" for i, t in enumerate(clean_tokens)]\n",
        "imshow(patching_effect, xticks=token_labels, yticks=layers, xlabel=\"pos\", ylabel=\"layer\",\n",
        "       zlabel=\"Logit difference\", title=\"Patching with 1st occurrence of first name\", width=600, height=380)\n"
      ]
    },
    {
      "cell_type": "markdown",
      "metadata": {
        "id": "HoGG3GDESUyw"
      },
      "source": [
        "##### Plots of 2 layer model, as used in the post:"
      ]
    },
    {
      "cell_type": "code",
      "execution_count": null,
      "metadata": {
        "colab": {
          "base_uri": "https://localhost:8080/",
          "height": 1000
        },
        "id": "aPCzRVwiRLlE",
        "outputId": "89967277-c3f2-44d2-a1c3-857e95564c46"
      },
      "outputs": [
        {
          "output_type": "stream",
          "name": "stdout",
          "text": [
            "Loaded pretrained model gelu-2l into HookedTransformer\n"
          ]
        },
        {
          "output_type": "display_data",
          "data": {
            "text/html": [
              "<html>\n",
              "<head><meta charset=\"utf-8\" /></head>\n",
              "<body>\n",
              "    <div>            <script src=\"https://cdnjs.cloudflare.com/ajax/libs/mathjax/2.7.5/MathJax.js?config=TeX-AMS-MML_SVG\"></script><script type=\"text/javascript\">if (window.MathJax) {MathJax.Hub.Config({SVG: {font: \"STIX-Web\"}});}</script>                <script type=\"text/javascript\">window.PlotlyConfig = {MathJaxConfig: 'local'};</script>\n",
              "        <script src=\"https://cdn.plot.ly/plotly-2.8.3.min.js\"></script>                <div id=\"8195fa39-74a9-4402-8b3e-4643bf8ffc6e\" class=\"plotly-graph-div\" style=\"height:380px; width:600px;\"></div>            <script type=\"text/javascript\">                                    window.PLOTLYENV=window.PLOTLYENV || {};                                    if (document.getElementById(\"8195fa39-74a9-4402-8b3e-4643bf8ffc6e\")) {                    Plotly.newPlot(                        \"8195fa39-74a9-4402-8b3e-4643bf8ffc6e\",                        [{\"coloraxis\":\"coloraxis\",\"name\":\"0\",\"x\":[\"(pos  0) <|BOS|>\",\"(pos  1) Her\",\"(pos  2)  name\",\"(pos  3)  was\",\"(pos  4)  Alex\",\"(pos  5)  Hart\",\"(pos  6) .\",\"(pos  7)  Tomorrow\",\"(pos  8)  at\",\"(pos  9)  lunch\",\"(pos 10)  time\",\"(pos 11)  Alex\"],\"y\":[\"blocks.0.hook_resid_pre\",\"blocks.0.hook_resid_post\",\"blocks.1.hook_resid_post\"],\"z\":[[8.731980323791504,8.731980323791504,8.731980323791504,8.731980323791504,8.731980323791504,-6.409177780151367,8.731980323791504,8.731980323791504,8.731980323791504,8.731980323791504,8.731980323791504,8.731980323791504],[8.731980323791504,8.731980323791504,8.731980323791504,8.731980323791504,8.731980323791504,-5.765866279602051,8.692380905151367,8.75692367553711,8.737998962402344,8.719420433044434,8.727651596069336,8.698275566101074],[8.731980323791504,8.731980323791504,8.731980323791504,8.731980323791504,8.731980323791504,8.731980323791504,8.731980323791504,8.731980323791504,8.731980323791504,8.731980323791504,8.731980323791504,-6.409177780151367]],\"type\":\"heatmap\",\"xaxis\":\"x\",\"yaxis\":\"y\",\"hovertemplate\":\"pos: %{x}<br>layer: %{y}<br>logit diff: %{z}<extra></extra>\"}],                        {\"template\":{\"data\":{\"bar\":[{\"error_x\":{\"color\":\"#2a3f5f\"},\"error_y\":{\"color\":\"#2a3f5f\"},\"marker\":{\"line\":{\"color\":\"#E5ECF6\",\"width\":0.5},\"pattern\":{\"fillmode\":\"overlay\",\"size\":10,\"solidity\":0.2}},\"type\":\"bar\"}],\"barpolar\":[{\"marker\":{\"line\":{\"color\":\"#E5ECF6\",\"width\":0.5},\"pattern\":{\"fillmode\":\"overlay\",\"size\":10,\"solidity\":0.2}},\"type\":\"barpolar\"}],\"carpet\":[{\"aaxis\":{\"endlinecolor\":\"#2a3f5f\",\"gridcolor\":\"white\",\"linecolor\":\"white\",\"minorgridcolor\":\"white\",\"startlinecolor\":\"#2a3f5f\"},\"baxis\":{\"endlinecolor\":\"#2a3f5f\",\"gridcolor\":\"white\",\"linecolor\":\"white\",\"minorgridcolor\":\"white\",\"startlinecolor\":\"#2a3f5f\"},\"type\":\"carpet\"}],\"choropleth\":[{\"colorbar\":{\"outlinewidth\":0,\"ticks\":\"\"},\"type\":\"choropleth\"}],\"contour\":[{\"colorbar\":{\"outlinewidth\":0,\"ticks\":\"\"},\"colorscale\":[[0.0,\"#0d0887\"],[0.1111111111111111,\"#46039f\"],[0.2222222222222222,\"#7201a8\"],[0.3333333333333333,\"#9c179e\"],[0.4444444444444444,\"#bd3786\"],[0.5555555555555556,\"#d8576b\"],[0.6666666666666666,\"#ed7953\"],[0.7777777777777778,\"#fb9f3a\"],[0.8888888888888888,\"#fdca26\"],[1.0,\"#f0f921\"]],\"type\":\"contour\"}],\"contourcarpet\":[{\"colorbar\":{\"outlinewidth\":0,\"ticks\":\"\"},\"type\":\"contourcarpet\"}],\"heatmap\":[{\"colorbar\":{\"outlinewidth\":0,\"ticks\":\"\"},\"colorscale\":[[0.0,\"#0d0887\"],[0.1111111111111111,\"#46039f\"],[0.2222222222222222,\"#7201a8\"],[0.3333333333333333,\"#9c179e\"],[0.4444444444444444,\"#bd3786\"],[0.5555555555555556,\"#d8576b\"],[0.6666666666666666,\"#ed7953\"],[0.7777777777777778,\"#fb9f3a\"],[0.8888888888888888,\"#fdca26\"],[1.0,\"#f0f921\"]],\"type\":\"heatmap\"}],\"heatmapgl\":[{\"colorbar\":{\"outlinewidth\":0,\"ticks\":\"\"},\"colorscale\":[[0.0,\"#0d0887\"],[0.1111111111111111,\"#46039f\"],[0.2222222222222222,\"#7201a8\"],[0.3333333333333333,\"#9c179e\"],[0.4444444444444444,\"#bd3786\"],[0.5555555555555556,\"#d8576b\"],[0.6666666666666666,\"#ed7953\"],[0.7777777777777778,\"#fb9f3a\"],[0.8888888888888888,\"#fdca26\"],[1.0,\"#f0f921\"]],\"type\":\"heatmapgl\"}],\"histogram\":[{\"marker\":{\"pattern\":{\"fillmode\":\"overlay\",\"size\":10,\"solidity\":0.2}},\"type\":\"histogram\"}],\"histogram2d\":[{\"colorbar\":{\"outlinewidth\":0,\"ticks\":\"\"},\"colorscale\":[[0.0,\"#0d0887\"],[0.1111111111111111,\"#46039f\"],[0.2222222222222222,\"#7201a8\"],[0.3333333333333333,\"#9c179e\"],[0.4444444444444444,\"#bd3786\"],[0.5555555555555556,\"#d8576b\"],[0.6666666666666666,\"#ed7953\"],[0.7777777777777778,\"#fb9f3a\"],[0.8888888888888888,\"#fdca26\"],[1.0,\"#f0f921\"]],\"type\":\"histogram2d\"}],\"histogram2dcontour\":[{\"colorbar\":{\"outlinewidth\":0,\"ticks\":\"\"},\"colorscale\":[[0.0,\"#0d0887\"],[0.1111111111111111,\"#46039f\"],[0.2222222222222222,\"#7201a8\"],[0.3333333333333333,\"#9c179e\"],[0.4444444444444444,\"#bd3786\"],[0.5555555555555556,\"#d8576b\"],[0.6666666666666666,\"#ed7953\"],[0.7777777777777778,\"#fb9f3a\"],[0.8888888888888888,\"#fdca26\"],[1.0,\"#f0f921\"]],\"type\":\"histogram2dcontour\"}],\"mesh3d\":[{\"colorbar\":{\"outlinewidth\":0,\"ticks\":\"\"},\"type\":\"mesh3d\"}],\"parcoords\":[{\"line\":{\"colorbar\":{\"outlinewidth\":0,\"ticks\":\"\"}},\"type\":\"parcoords\"}],\"pie\":[{\"automargin\":true,\"type\":\"pie\"}],\"scatter\":[{\"marker\":{\"colorbar\":{\"outlinewidth\":0,\"ticks\":\"\"}},\"type\":\"scatter\"}],\"scatter3d\":[{\"line\":{\"colorbar\":{\"outlinewidth\":0,\"ticks\":\"\"}},\"marker\":{\"colorbar\":{\"outlinewidth\":0,\"ticks\":\"\"}},\"type\":\"scatter3d\"}],\"scattercarpet\":[{\"marker\":{\"colorbar\":{\"outlinewidth\":0,\"ticks\":\"\"}},\"type\":\"scattercarpet\"}],\"scattergeo\":[{\"marker\":{\"colorbar\":{\"outlinewidth\":0,\"ticks\":\"\"}},\"type\":\"scattergeo\"}],\"scattergl\":[{\"marker\":{\"colorbar\":{\"outlinewidth\":0,\"ticks\":\"\"}},\"type\":\"scattergl\"}],\"scattermapbox\":[{\"marker\":{\"colorbar\":{\"outlinewidth\":0,\"ticks\":\"\"}},\"type\":\"scattermapbox\"}],\"scatterpolar\":[{\"marker\":{\"colorbar\":{\"outlinewidth\":0,\"ticks\":\"\"}},\"type\":\"scatterpolar\"}],\"scatterpolargl\":[{\"marker\":{\"colorbar\":{\"outlinewidth\":0,\"ticks\":\"\"}},\"type\":\"scatterpolargl\"}],\"scatterternary\":[{\"marker\":{\"colorbar\":{\"outlinewidth\":0,\"ticks\":\"\"}},\"type\":\"scatterternary\"}],\"surface\":[{\"colorbar\":{\"outlinewidth\":0,\"ticks\":\"\"},\"colorscale\":[[0.0,\"#0d0887\"],[0.1111111111111111,\"#46039f\"],[0.2222222222222222,\"#7201a8\"],[0.3333333333333333,\"#9c179e\"],[0.4444444444444444,\"#bd3786\"],[0.5555555555555556,\"#d8576b\"],[0.6666666666666666,\"#ed7953\"],[0.7777777777777778,\"#fb9f3a\"],[0.8888888888888888,\"#fdca26\"],[1.0,\"#f0f921\"]],\"type\":\"surface\"}],\"table\":[{\"cells\":{\"fill\":{\"color\":\"#EBF0F8\"},\"line\":{\"color\":\"white\"}},\"header\":{\"fill\":{\"color\":\"#C8D4E3\"},\"line\":{\"color\":\"white\"}},\"type\":\"table\"}]},\"layout\":{\"annotationdefaults\":{\"arrowcolor\":\"#2a3f5f\",\"arrowhead\":0,\"arrowwidth\":1},\"autotypenumbers\":\"strict\",\"coloraxis\":{\"colorbar\":{\"outlinewidth\":0,\"ticks\":\"\"}},\"colorscale\":{\"diverging\":[[0,\"#8e0152\"],[0.1,\"#c51b7d\"],[0.2,\"#de77ae\"],[0.3,\"#f1b6da\"],[0.4,\"#fde0ef\"],[0.5,\"#f7f7f7\"],[0.6,\"#e6f5d0\"],[0.7,\"#b8e186\"],[0.8,\"#7fbc41\"],[0.9,\"#4d9221\"],[1,\"#276419\"]],\"sequential\":[[0.0,\"#0d0887\"],[0.1111111111111111,\"#46039f\"],[0.2222222222222222,\"#7201a8\"],[0.3333333333333333,\"#9c179e\"],[0.4444444444444444,\"#bd3786\"],[0.5555555555555556,\"#d8576b\"],[0.6666666666666666,\"#ed7953\"],[0.7777777777777778,\"#fb9f3a\"],[0.8888888888888888,\"#fdca26\"],[1.0,\"#f0f921\"]],\"sequentialminus\":[[0.0,\"#0d0887\"],[0.1111111111111111,\"#46039f\"],[0.2222222222222222,\"#7201a8\"],[0.3333333333333333,\"#9c179e\"],[0.4444444444444444,\"#bd3786\"],[0.5555555555555556,\"#d8576b\"],[0.6666666666666666,\"#ed7953\"],[0.7777777777777778,\"#fb9f3a\"],[0.8888888888888888,\"#fdca26\"],[1.0,\"#f0f921\"]]},\"colorway\":[\"#636efa\",\"#EF553B\",\"#00cc96\",\"#ab63fa\",\"#FFA15A\",\"#19d3f3\",\"#FF6692\",\"#B6E880\",\"#FF97FF\",\"#FECB52\"],\"font\":{\"color\":\"#2a3f5f\"},\"geo\":{\"bgcolor\":\"white\",\"lakecolor\":\"white\",\"landcolor\":\"#E5ECF6\",\"showlakes\":true,\"showland\":true,\"subunitcolor\":\"white\"},\"hoverlabel\":{\"align\":\"left\"},\"hovermode\":\"closest\",\"mapbox\":{\"style\":\"light\"},\"paper_bgcolor\":\"white\",\"plot_bgcolor\":\"#E5ECF6\",\"polar\":{\"angularaxis\":{\"gridcolor\":\"white\",\"linecolor\":\"white\",\"ticks\":\"\"},\"bgcolor\":\"#E5ECF6\",\"radialaxis\":{\"gridcolor\":\"white\",\"linecolor\":\"white\",\"ticks\":\"\"}},\"scene\":{\"xaxis\":{\"backgroundcolor\":\"#E5ECF6\",\"gridcolor\":\"white\",\"gridwidth\":2,\"linecolor\":\"white\",\"showbackground\":true,\"ticks\":\"\",\"zerolinecolor\":\"white\"},\"yaxis\":{\"backgroundcolor\":\"#E5ECF6\",\"gridcolor\":\"white\",\"gridwidth\":2,\"linecolor\":\"white\",\"showbackground\":true,\"ticks\":\"\",\"zerolinecolor\":\"white\"},\"zaxis\":{\"backgroundcolor\":\"#E5ECF6\",\"gridcolor\":\"white\",\"gridwidth\":2,\"linecolor\":\"white\",\"showbackground\":true,\"ticks\":\"\",\"zerolinecolor\":\"white\"}},\"shapedefaults\":{\"line\":{\"color\":\"#2a3f5f\"}},\"ternary\":{\"aaxis\":{\"gridcolor\":\"white\",\"linecolor\":\"white\",\"ticks\":\"\"},\"baxis\":{\"gridcolor\":\"white\",\"linecolor\":\"white\",\"ticks\":\"\"},\"bgcolor\":\"#E5ECF6\",\"caxis\":{\"gridcolor\":\"white\",\"linecolor\":\"white\",\"ticks\":\"\"}},\"title\":{\"x\":0.05},\"xaxis\":{\"automargin\":true,\"gridcolor\":\"white\",\"linecolor\":\"white\",\"ticks\":\"\",\"title\":{\"standoff\":15},\"zerolinecolor\":\"white\",\"zerolinewidth\":2},\"yaxis\":{\"automargin\":true,\"gridcolor\":\"white\",\"linecolor\":\"white\",\"ticks\":\"\",\"title\":{\"standoff\":15},\"zerolinecolor\":\"white\",\"zerolinewidth\":2}}},\"xaxis\":{\"anchor\":\"y\",\"domain\":[0.0,1.0],\"scaleanchor\":\"y\",\"constrain\":\"domain\",\"title\":{\"text\":\"pos\"}},\"yaxis\":{\"anchor\":\"x\",\"domain\":[0.0,1.0],\"autorange\":\"reversed\",\"constrain\":\"domain\",\"title\":{\"text\":\"layer\"}},\"coloraxis\":{\"colorbar\":{\"title\":{\"text\":\"logit diff\"}},\"colorscale\":[[0.0,\"rgb(103,0,31)\"],[0.1,\"rgb(178,24,43)\"],[0.2,\"rgb(214,96,77)\"],[0.3,\"rgb(244,165,130)\"],[0.4,\"rgb(253,219,199)\"],[0.5,\"rgb(247,247,247)\"],[0.6,\"rgb(209,229,240)\"],[0.7,\"rgb(146,197,222)\"],[0.8,\"rgb(67,147,195)\"],[0.9,\"rgb(33,102,172)\"],[1.0,\"rgb(5,48,97)\"]],\"cmid\":0.0},\"title\":{\"text\":\"Patching with Alex / Carroll / Alex\"},\"height\":380,\"width\":600},                        {\"responsive\": true}                    ).then(function(){\n",
              "                            \n",
              "var gd = document.getElementById('8195fa39-74a9-4402-8b3e-4643bf8ffc6e');\n",
              "var x = new MutationObserver(function (mutations, observer) {{\n",
              "        var display = window.getComputedStyle(gd).display;\n",
              "        if (!display || display === 'none') {{\n",
              "            console.log([gd, 'removed!']);\n",
              "            Plotly.purge(gd);\n",
              "            observer.disconnect();\n",
              "        }}\n",
              "}});\n",
              "\n",
              "// Listen for the removal of the full notebook cells\n",
              "var notebookContainer = gd.closest('#notebook-container');\n",
              "if (notebookContainer) {{\n",
              "    x.observe(notebookContainer, {childList: true});\n",
              "}}\n",
              "\n",
              "// Listen for the clearing of the current output cell\n",
              "var outputEl = gd.closest('.output');\n",
              "if (outputEl) {{\n",
              "    x.observe(outputEl, {childList: true});\n",
              "}}\n",
              "\n",
              "                        })                };                            </script>        </div>\n",
              "</body>\n",
              "</html>"
            ]
          },
          "metadata": {}
        },
        {
          "output_type": "display_data",
          "data": {
            "text/html": [
              "<html>\n",
              "<head><meta charset=\"utf-8\" /></head>\n",
              "<body>\n",
              "    <div>            <script src=\"https://cdnjs.cloudflare.com/ajax/libs/mathjax/2.7.5/MathJax.js?config=TeX-AMS-MML_SVG\"></script><script type=\"text/javascript\">if (window.MathJax) {MathJax.Hub.Config({SVG: {font: \"STIX-Web\"}});}</script>                <script type=\"text/javascript\">window.PlotlyConfig = {MathJaxConfig: 'local'};</script>\n",
              "        <script src=\"https://cdn.plot.ly/plotly-2.8.3.min.js\"></script>                <div id=\"d443aa07-88f5-456f-8595-c8df2654e510\" class=\"plotly-graph-div\" style=\"height:380px; width:600px;\"></div>            <script type=\"text/javascript\">                                    window.PLOTLYENV=window.PLOTLYENV || {};                                    if (document.getElementById(\"d443aa07-88f5-456f-8595-c8df2654e510\")) {                    Plotly.newPlot(                        \"d443aa07-88f5-456f-8595-c8df2654e510\",                        [{\"coloraxis\":\"coloraxis\",\"name\":\"0\",\"x\":[\"(pos  0) <|BOS|>\",\"(pos  1) Her\",\"(pos  2)  name\",\"(pos  3)  was\",\"(pos  4)  Alex\",\"(pos  5)  Hart\",\"(pos  6) .\",\"(pos  7)  Tomorrow\",\"(pos  8)  at\",\"(pos  9)  lunch\",\"(pos 10)  time\",\"(pos 11)  Alex\"],\"y\":[\"blocks.0.hook_resid_pre\",\"blocks.0.hook_resid_post\",\"blocks.1.hook_resid_post\"],\"z\":[[8.731980323791504,8.731980323791504,8.731980323791504,8.731980323791504,3.4623327255249023,8.731980323791504,8.731980323791504,8.731980323791504,8.731980323791504,8.731980323791504,8.731980323791504,8.731980323791504],[8.731980323791504,8.731980323791504,8.731980323791504,8.731980323791504,8.847657203674316,4.898470878601074,8.746757507324219,8.732219696044922,8.728830337524414,8.72893238067627,8.731882095336914,6.479619979858398],[8.731980323791504,8.731980323791504,8.731980323791504,8.731980323791504,8.731980323791504,8.731980323791504,8.731980323791504,8.731980323791504,8.731980323791504,8.731980323791504,8.731980323791504,3.4623327255249023]],\"type\":\"heatmap\",\"xaxis\":\"x\",\"yaxis\":\"y\",\"hovertemplate\":\"pos: %{x}<br>layer: %{y}<br>logit diff: %{z}<extra></extra>\"}],                        {\"template\":{\"data\":{\"bar\":[{\"error_x\":{\"color\":\"#2a3f5f\"},\"error_y\":{\"color\":\"#2a3f5f\"},\"marker\":{\"line\":{\"color\":\"#E5ECF6\",\"width\":0.5},\"pattern\":{\"fillmode\":\"overlay\",\"size\":10,\"solidity\":0.2}},\"type\":\"bar\"}],\"barpolar\":[{\"marker\":{\"line\":{\"color\":\"#E5ECF6\",\"width\":0.5},\"pattern\":{\"fillmode\":\"overlay\",\"size\":10,\"solidity\":0.2}},\"type\":\"barpolar\"}],\"carpet\":[{\"aaxis\":{\"endlinecolor\":\"#2a3f5f\",\"gridcolor\":\"white\",\"linecolor\":\"white\",\"minorgridcolor\":\"white\",\"startlinecolor\":\"#2a3f5f\"},\"baxis\":{\"endlinecolor\":\"#2a3f5f\",\"gridcolor\":\"white\",\"linecolor\":\"white\",\"minorgridcolor\":\"white\",\"startlinecolor\":\"#2a3f5f\"},\"type\":\"carpet\"}],\"choropleth\":[{\"colorbar\":{\"outlinewidth\":0,\"ticks\":\"\"},\"type\":\"choropleth\"}],\"contour\":[{\"colorbar\":{\"outlinewidth\":0,\"ticks\":\"\"},\"colorscale\":[[0.0,\"#0d0887\"],[0.1111111111111111,\"#46039f\"],[0.2222222222222222,\"#7201a8\"],[0.3333333333333333,\"#9c179e\"],[0.4444444444444444,\"#bd3786\"],[0.5555555555555556,\"#d8576b\"],[0.6666666666666666,\"#ed7953\"],[0.7777777777777778,\"#fb9f3a\"],[0.8888888888888888,\"#fdca26\"],[1.0,\"#f0f921\"]],\"type\":\"contour\"}],\"contourcarpet\":[{\"colorbar\":{\"outlinewidth\":0,\"ticks\":\"\"},\"type\":\"contourcarpet\"}],\"heatmap\":[{\"colorbar\":{\"outlinewidth\":0,\"ticks\":\"\"},\"colorscale\":[[0.0,\"#0d0887\"],[0.1111111111111111,\"#46039f\"],[0.2222222222222222,\"#7201a8\"],[0.3333333333333333,\"#9c179e\"],[0.4444444444444444,\"#bd3786\"],[0.5555555555555556,\"#d8576b\"],[0.6666666666666666,\"#ed7953\"],[0.7777777777777778,\"#fb9f3a\"],[0.8888888888888888,\"#fdca26\"],[1.0,\"#f0f921\"]],\"type\":\"heatmap\"}],\"heatmapgl\":[{\"colorbar\":{\"outlinewidth\":0,\"ticks\":\"\"},\"colorscale\":[[0.0,\"#0d0887\"],[0.1111111111111111,\"#46039f\"],[0.2222222222222222,\"#7201a8\"],[0.3333333333333333,\"#9c179e\"],[0.4444444444444444,\"#bd3786\"],[0.5555555555555556,\"#d8576b\"],[0.6666666666666666,\"#ed7953\"],[0.7777777777777778,\"#fb9f3a\"],[0.8888888888888888,\"#fdca26\"],[1.0,\"#f0f921\"]],\"type\":\"heatmapgl\"}],\"histogram\":[{\"marker\":{\"pattern\":{\"fillmode\":\"overlay\",\"size\":10,\"solidity\":0.2}},\"type\":\"histogram\"}],\"histogram2d\":[{\"colorbar\":{\"outlinewidth\":0,\"ticks\":\"\"},\"colorscale\":[[0.0,\"#0d0887\"],[0.1111111111111111,\"#46039f\"],[0.2222222222222222,\"#7201a8\"],[0.3333333333333333,\"#9c179e\"],[0.4444444444444444,\"#bd3786\"],[0.5555555555555556,\"#d8576b\"],[0.6666666666666666,\"#ed7953\"],[0.7777777777777778,\"#fb9f3a\"],[0.8888888888888888,\"#fdca26\"],[1.0,\"#f0f921\"]],\"type\":\"histogram2d\"}],\"histogram2dcontour\":[{\"colorbar\":{\"outlinewidth\":0,\"ticks\":\"\"},\"colorscale\":[[0.0,\"#0d0887\"],[0.1111111111111111,\"#46039f\"],[0.2222222222222222,\"#7201a8\"],[0.3333333333333333,\"#9c179e\"],[0.4444444444444444,\"#bd3786\"],[0.5555555555555556,\"#d8576b\"],[0.6666666666666666,\"#ed7953\"],[0.7777777777777778,\"#fb9f3a\"],[0.8888888888888888,\"#fdca26\"],[1.0,\"#f0f921\"]],\"type\":\"histogram2dcontour\"}],\"mesh3d\":[{\"colorbar\":{\"outlinewidth\":0,\"ticks\":\"\"},\"type\":\"mesh3d\"}],\"parcoords\":[{\"line\":{\"colorbar\":{\"outlinewidth\":0,\"ticks\":\"\"}},\"type\":\"parcoords\"}],\"pie\":[{\"automargin\":true,\"type\":\"pie\"}],\"scatter\":[{\"marker\":{\"colorbar\":{\"outlinewidth\":0,\"ticks\":\"\"}},\"type\":\"scatter\"}],\"scatter3d\":[{\"line\":{\"colorbar\":{\"outlinewidth\":0,\"ticks\":\"\"}},\"marker\":{\"colorbar\":{\"outlinewidth\":0,\"ticks\":\"\"}},\"type\":\"scatter3d\"}],\"scattercarpet\":[{\"marker\":{\"colorbar\":{\"outlinewidth\":0,\"ticks\":\"\"}},\"type\":\"scattercarpet\"}],\"scattergeo\":[{\"marker\":{\"colorbar\":{\"outlinewidth\":0,\"ticks\":\"\"}},\"type\":\"scattergeo\"}],\"scattergl\":[{\"marker\":{\"colorbar\":{\"outlinewidth\":0,\"ticks\":\"\"}},\"type\":\"scattergl\"}],\"scattermapbox\":[{\"marker\":{\"colorbar\":{\"outlinewidth\":0,\"ticks\":\"\"}},\"type\":\"scattermapbox\"}],\"scatterpolar\":[{\"marker\":{\"colorbar\":{\"outlinewidth\":0,\"ticks\":\"\"}},\"type\":\"scatterpolar\"}],\"scatterpolargl\":[{\"marker\":{\"colorbar\":{\"outlinewidth\":0,\"ticks\":\"\"}},\"type\":\"scatterpolargl\"}],\"scatterternary\":[{\"marker\":{\"colorbar\":{\"outlinewidth\":0,\"ticks\":\"\"}},\"type\":\"scatterternary\"}],\"surface\":[{\"colorbar\":{\"outlinewidth\":0,\"ticks\":\"\"},\"colorscale\":[[0.0,\"#0d0887\"],[0.1111111111111111,\"#46039f\"],[0.2222222222222222,\"#7201a8\"],[0.3333333333333333,\"#9c179e\"],[0.4444444444444444,\"#bd3786\"],[0.5555555555555556,\"#d8576b\"],[0.6666666666666666,\"#ed7953\"],[0.7777777777777778,\"#fb9f3a\"],[0.8888888888888888,\"#fdca26\"],[1.0,\"#f0f921\"]],\"type\":\"surface\"}],\"table\":[{\"cells\":{\"fill\":{\"color\":\"#EBF0F8\"},\"line\":{\"color\":\"white\"}},\"header\":{\"fill\":{\"color\":\"#C8D4E3\"},\"line\":{\"color\":\"white\"}},\"type\":\"table\"}]},\"layout\":{\"annotationdefaults\":{\"arrowcolor\":\"#2a3f5f\",\"arrowhead\":0,\"arrowwidth\":1},\"autotypenumbers\":\"strict\",\"coloraxis\":{\"colorbar\":{\"outlinewidth\":0,\"ticks\":\"\"}},\"colorscale\":{\"diverging\":[[0,\"#8e0152\"],[0.1,\"#c51b7d\"],[0.2,\"#de77ae\"],[0.3,\"#f1b6da\"],[0.4,\"#fde0ef\"],[0.5,\"#f7f7f7\"],[0.6,\"#e6f5d0\"],[0.7,\"#b8e186\"],[0.8,\"#7fbc41\"],[0.9,\"#4d9221\"],[1,\"#276419\"]],\"sequential\":[[0.0,\"#0d0887\"],[0.1111111111111111,\"#46039f\"],[0.2222222222222222,\"#7201a8\"],[0.3333333333333333,\"#9c179e\"],[0.4444444444444444,\"#bd3786\"],[0.5555555555555556,\"#d8576b\"],[0.6666666666666666,\"#ed7953\"],[0.7777777777777778,\"#fb9f3a\"],[0.8888888888888888,\"#fdca26\"],[1.0,\"#f0f921\"]],\"sequentialminus\":[[0.0,\"#0d0887\"],[0.1111111111111111,\"#46039f\"],[0.2222222222222222,\"#7201a8\"],[0.3333333333333333,\"#9c179e\"],[0.4444444444444444,\"#bd3786\"],[0.5555555555555556,\"#d8576b\"],[0.6666666666666666,\"#ed7953\"],[0.7777777777777778,\"#fb9f3a\"],[0.8888888888888888,\"#fdca26\"],[1.0,\"#f0f921\"]]},\"colorway\":[\"#636efa\",\"#EF553B\",\"#00cc96\",\"#ab63fa\",\"#FFA15A\",\"#19d3f3\",\"#FF6692\",\"#B6E880\",\"#FF97FF\",\"#FECB52\"],\"font\":{\"color\":\"#2a3f5f\"},\"geo\":{\"bgcolor\":\"white\",\"lakecolor\":\"white\",\"landcolor\":\"#E5ECF6\",\"showlakes\":true,\"showland\":true,\"subunitcolor\":\"white\"},\"hoverlabel\":{\"align\":\"left\"},\"hovermode\":\"closest\",\"mapbox\":{\"style\":\"light\"},\"paper_bgcolor\":\"white\",\"plot_bgcolor\":\"#E5ECF6\",\"polar\":{\"angularaxis\":{\"gridcolor\":\"white\",\"linecolor\":\"white\",\"ticks\":\"\"},\"bgcolor\":\"#E5ECF6\",\"radialaxis\":{\"gridcolor\":\"white\",\"linecolor\":\"white\",\"ticks\":\"\"}},\"scene\":{\"xaxis\":{\"backgroundcolor\":\"#E5ECF6\",\"gridcolor\":\"white\",\"gridwidth\":2,\"linecolor\":\"white\",\"showbackground\":true,\"ticks\":\"\",\"zerolinecolor\":\"white\"},\"yaxis\":{\"backgroundcolor\":\"#E5ECF6\",\"gridcolor\":\"white\",\"gridwidth\":2,\"linecolor\":\"white\",\"showbackground\":true,\"ticks\":\"\",\"zerolinecolor\":\"white\"},\"zaxis\":{\"backgroundcolor\":\"#E5ECF6\",\"gridcolor\":\"white\",\"gridwidth\":2,\"linecolor\":\"white\",\"showbackground\":true,\"ticks\":\"\",\"zerolinecolor\":\"white\"}},\"shapedefaults\":{\"line\":{\"color\":\"#2a3f5f\"}},\"ternary\":{\"aaxis\":{\"gridcolor\":\"white\",\"linecolor\":\"white\",\"ticks\":\"\"},\"baxis\":{\"gridcolor\":\"white\",\"linecolor\":\"white\",\"ticks\":\"\"},\"bgcolor\":\"#E5ECF6\",\"caxis\":{\"gridcolor\":\"white\",\"linecolor\":\"white\",\"ticks\":\"\"}},\"title\":{\"x\":0.05},\"xaxis\":{\"automargin\":true,\"gridcolor\":\"white\",\"linecolor\":\"white\",\"ticks\":\"\",\"title\":{\"standoff\":15},\"zerolinecolor\":\"white\",\"zerolinewidth\":2},\"yaxis\":{\"automargin\":true,\"gridcolor\":\"white\",\"linecolor\":\"white\",\"ticks\":\"\",\"title\":{\"standoff\":15},\"zerolinecolor\":\"white\",\"zerolinewidth\":2}}},\"xaxis\":{\"anchor\":\"y\",\"domain\":[0.0,1.0],\"scaleanchor\":\"y\",\"constrain\":\"domain\",\"title\":{\"text\":\"pos\"}},\"yaxis\":{\"anchor\":\"x\",\"domain\":[0.0,1.0],\"autorange\":\"reversed\",\"constrain\":\"domain\",\"title\":{\"text\":\"layer\"}},\"coloraxis\":{\"colorbar\":{\"title\":{\"text\":\"logit diff\"}},\"colorscale\":[[0.0,\"rgb(103,0,31)\"],[0.1,\"rgb(178,24,43)\"],[0.2,\"rgb(214,96,77)\"],[0.3,\"rgb(244,165,130)\"],[0.4,\"rgb(253,219,199)\"],[0.5,\"rgb(247,247,247)\"],[0.6,\"rgb(209,229,240)\"],[0.7,\"rgb(146,197,222)\"],[0.8,\"rgb(67,147,195)\"],[0.9,\"rgb(33,102,172)\"],[1.0,\"rgb(5,48,97)\"]],\"cmid\":0.0},\"title\":{\"text\":\"Patching with Sarah / Hart / Alex\"},\"height\":380,\"width\":600},                        {\"responsive\": true}                    ).then(function(){\n",
              "                            \n",
              "var gd = document.getElementById('d443aa07-88f5-456f-8595-c8df2654e510');\n",
              "var x = new MutationObserver(function (mutations, observer) {{\n",
              "        var display = window.getComputedStyle(gd).display;\n",
              "        if (!display || display === 'none') {{\n",
              "            console.log([gd, 'removed!']);\n",
              "            Plotly.purge(gd);\n",
              "            observer.disconnect();\n",
              "        }}\n",
              "}});\n",
              "\n",
              "// Listen for the removal of the full notebook cells\n",
              "var notebookContainer = gd.closest('#notebook-container');\n",
              "if (notebookContainer) {{\n",
              "    x.observe(notebookContainer, {childList: true});\n",
              "}}\n",
              "\n",
              "// Listen for the clearing of the current output cell\n",
              "var outputEl = gd.closest('.output');\n",
              "if (outputEl) {{\n",
              "    x.observe(outputEl, {childList: true});\n",
              "}}\n",
              "\n",
              "                        })                };                            </script>        </div>\n",
              "</body>\n",
              "</html>"
            ]
          },
          "metadata": {}
        },
        {
          "output_type": "display_data",
          "data": {
            "text/html": [
              "<html>\n",
              "<head><meta charset=\"utf-8\" /></head>\n",
              "<body>\n",
              "    <div>            <script src=\"https://cdnjs.cloudflare.com/ajax/libs/mathjax/2.7.5/MathJax.js?config=TeX-AMS-MML_SVG\"></script><script type=\"text/javascript\">if (window.MathJax) {MathJax.Hub.Config({SVG: {font: \"STIX-Web\"}});}</script>                <script type=\"text/javascript\">window.PlotlyConfig = {MathJaxConfig: 'local'};</script>\n",
              "        <script src=\"https://cdn.plot.ly/plotly-2.8.3.min.js\"></script>                <div id=\"e640cb0e-879b-4f4e-9012-9061c75a3a7b\" class=\"plotly-graph-div\" style=\"height:380px; width:600px;\"></div>            <script type=\"text/javascript\">                                    window.PLOTLYENV=window.PLOTLYENV || {};                                    if (document.getElementById(\"e640cb0e-879b-4f4e-9012-9061c75a3a7b\")) {                    Plotly.newPlot(                        \"e640cb0e-879b-4f4e-9012-9061c75a3a7b\",                        [{\"coloraxis\":\"coloraxis\",\"name\":\"0\",\"x\":[\"(pos  0) <|BOS|>\",\"(pos  1) Her\",\"(pos  2)  name\",\"(pos  3)  was\",\"(pos  4)  Alex\",\"(pos  5)  Hart\",\"(pos  6) .\",\"(pos  7)  Tomorrow\",\"(pos  8)  at\",\"(pos  9)  lunch\",\"(pos 10)  time\",\"(pos 11)  Alex\"],\"y\":[\"blocks.0.hook_resid_pre\",\"blocks.0.hook_resid_post\",\"blocks.1.hook_resid_post\"],\"z\":[[8.731980323791504,8.731980323791504,8.731980323791504,8.731980323791504,8.731980323791504,8.731980323791504,8.731980323791504,8.731980323791504,8.731980323791504,8.731980323791504,8.731980323791504,2.6088523864746094],[8.731980323791504,8.731980323791504,8.731980323791504,8.731980323791504,8.731980323791504,8.731980323791504,8.731980323791504,8.731980323791504,8.731980323791504,8.731980323791504,8.731980323791504,2.6088523864746094],[8.731980323791504,8.731980323791504,8.731980323791504,8.731980323791504,8.731980323791504,8.731980323791504,8.731980323791504,8.731980323791504,8.731980323791504,8.731980323791504,8.731980323791504,2.6088523864746094]],\"type\":\"heatmap\",\"xaxis\":\"x\",\"yaxis\":\"y\",\"hovertemplate\":\"pos: %{x}<br>layer: %{y}<br>logit diff: %{z}<extra></extra>\"}],                        {\"template\":{\"data\":{\"bar\":[{\"error_x\":{\"color\":\"#2a3f5f\"},\"error_y\":{\"color\":\"#2a3f5f\"},\"marker\":{\"line\":{\"color\":\"#E5ECF6\",\"width\":0.5},\"pattern\":{\"fillmode\":\"overlay\",\"size\":10,\"solidity\":0.2}},\"type\":\"bar\"}],\"barpolar\":[{\"marker\":{\"line\":{\"color\":\"#E5ECF6\",\"width\":0.5},\"pattern\":{\"fillmode\":\"overlay\",\"size\":10,\"solidity\":0.2}},\"type\":\"barpolar\"}],\"carpet\":[{\"aaxis\":{\"endlinecolor\":\"#2a3f5f\",\"gridcolor\":\"white\",\"linecolor\":\"white\",\"minorgridcolor\":\"white\",\"startlinecolor\":\"#2a3f5f\"},\"baxis\":{\"endlinecolor\":\"#2a3f5f\",\"gridcolor\":\"white\",\"linecolor\":\"white\",\"minorgridcolor\":\"white\",\"startlinecolor\":\"#2a3f5f\"},\"type\":\"carpet\"}],\"choropleth\":[{\"colorbar\":{\"outlinewidth\":0,\"ticks\":\"\"},\"type\":\"choropleth\"}],\"contour\":[{\"colorbar\":{\"outlinewidth\":0,\"ticks\":\"\"},\"colorscale\":[[0.0,\"#0d0887\"],[0.1111111111111111,\"#46039f\"],[0.2222222222222222,\"#7201a8\"],[0.3333333333333333,\"#9c179e\"],[0.4444444444444444,\"#bd3786\"],[0.5555555555555556,\"#d8576b\"],[0.6666666666666666,\"#ed7953\"],[0.7777777777777778,\"#fb9f3a\"],[0.8888888888888888,\"#fdca26\"],[1.0,\"#f0f921\"]],\"type\":\"contour\"}],\"contourcarpet\":[{\"colorbar\":{\"outlinewidth\":0,\"ticks\":\"\"},\"type\":\"contourcarpet\"}],\"heatmap\":[{\"colorbar\":{\"outlinewidth\":0,\"ticks\":\"\"},\"colorscale\":[[0.0,\"#0d0887\"],[0.1111111111111111,\"#46039f\"],[0.2222222222222222,\"#7201a8\"],[0.3333333333333333,\"#9c179e\"],[0.4444444444444444,\"#bd3786\"],[0.5555555555555556,\"#d8576b\"],[0.6666666666666666,\"#ed7953\"],[0.7777777777777778,\"#fb9f3a\"],[0.8888888888888888,\"#fdca26\"],[1.0,\"#f0f921\"]],\"type\":\"heatmap\"}],\"heatmapgl\":[{\"colorbar\":{\"outlinewidth\":0,\"ticks\":\"\"},\"colorscale\":[[0.0,\"#0d0887\"],[0.1111111111111111,\"#46039f\"],[0.2222222222222222,\"#7201a8\"],[0.3333333333333333,\"#9c179e\"],[0.4444444444444444,\"#bd3786\"],[0.5555555555555556,\"#d8576b\"],[0.6666666666666666,\"#ed7953\"],[0.7777777777777778,\"#fb9f3a\"],[0.8888888888888888,\"#fdca26\"],[1.0,\"#f0f921\"]],\"type\":\"heatmapgl\"}],\"histogram\":[{\"marker\":{\"pattern\":{\"fillmode\":\"overlay\",\"size\":10,\"solidity\":0.2}},\"type\":\"histogram\"}],\"histogram2d\":[{\"colorbar\":{\"outlinewidth\":0,\"ticks\":\"\"},\"colorscale\":[[0.0,\"#0d0887\"],[0.1111111111111111,\"#46039f\"],[0.2222222222222222,\"#7201a8\"],[0.3333333333333333,\"#9c179e\"],[0.4444444444444444,\"#bd3786\"],[0.5555555555555556,\"#d8576b\"],[0.6666666666666666,\"#ed7953\"],[0.7777777777777778,\"#fb9f3a\"],[0.8888888888888888,\"#fdca26\"],[1.0,\"#f0f921\"]],\"type\":\"histogram2d\"}],\"histogram2dcontour\":[{\"colorbar\":{\"outlinewidth\":0,\"ticks\":\"\"},\"colorscale\":[[0.0,\"#0d0887\"],[0.1111111111111111,\"#46039f\"],[0.2222222222222222,\"#7201a8\"],[0.3333333333333333,\"#9c179e\"],[0.4444444444444444,\"#bd3786\"],[0.5555555555555556,\"#d8576b\"],[0.6666666666666666,\"#ed7953\"],[0.7777777777777778,\"#fb9f3a\"],[0.8888888888888888,\"#fdca26\"],[1.0,\"#f0f921\"]],\"type\":\"histogram2dcontour\"}],\"mesh3d\":[{\"colorbar\":{\"outlinewidth\":0,\"ticks\":\"\"},\"type\":\"mesh3d\"}],\"parcoords\":[{\"line\":{\"colorbar\":{\"outlinewidth\":0,\"ticks\":\"\"}},\"type\":\"parcoords\"}],\"pie\":[{\"automargin\":true,\"type\":\"pie\"}],\"scatter\":[{\"marker\":{\"colorbar\":{\"outlinewidth\":0,\"ticks\":\"\"}},\"type\":\"scatter\"}],\"scatter3d\":[{\"line\":{\"colorbar\":{\"outlinewidth\":0,\"ticks\":\"\"}},\"marker\":{\"colorbar\":{\"outlinewidth\":0,\"ticks\":\"\"}},\"type\":\"scatter3d\"}],\"scattercarpet\":[{\"marker\":{\"colorbar\":{\"outlinewidth\":0,\"ticks\":\"\"}},\"type\":\"scattercarpet\"}],\"scattergeo\":[{\"marker\":{\"colorbar\":{\"outlinewidth\":0,\"ticks\":\"\"}},\"type\":\"scattergeo\"}],\"scattergl\":[{\"marker\":{\"colorbar\":{\"outlinewidth\":0,\"ticks\":\"\"}},\"type\":\"scattergl\"}],\"scattermapbox\":[{\"marker\":{\"colorbar\":{\"outlinewidth\":0,\"ticks\":\"\"}},\"type\":\"scattermapbox\"}],\"scatterpolar\":[{\"marker\":{\"colorbar\":{\"outlinewidth\":0,\"ticks\":\"\"}},\"type\":\"scatterpolar\"}],\"scatterpolargl\":[{\"marker\":{\"colorbar\":{\"outlinewidth\":0,\"ticks\":\"\"}},\"type\":\"scatterpolargl\"}],\"scatterternary\":[{\"marker\":{\"colorbar\":{\"outlinewidth\":0,\"ticks\":\"\"}},\"type\":\"scatterternary\"}],\"surface\":[{\"colorbar\":{\"outlinewidth\":0,\"ticks\":\"\"},\"colorscale\":[[0.0,\"#0d0887\"],[0.1111111111111111,\"#46039f\"],[0.2222222222222222,\"#7201a8\"],[0.3333333333333333,\"#9c179e\"],[0.4444444444444444,\"#bd3786\"],[0.5555555555555556,\"#d8576b\"],[0.6666666666666666,\"#ed7953\"],[0.7777777777777778,\"#fb9f3a\"],[0.8888888888888888,\"#fdca26\"],[1.0,\"#f0f921\"]],\"type\":\"surface\"}],\"table\":[{\"cells\":{\"fill\":{\"color\":\"#EBF0F8\"},\"line\":{\"color\":\"white\"}},\"header\":{\"fill\":{\"color\":\"#C8D4E3\"},\"line\":{\"color\":\"white\"}},\"type\":\"table\"}]},\"layout\":{\"annotationdefaults\":{\"arrowcolor\":\"#2a3f5f\",\"arrowhead\":0,\"arrowwidth\":1},\"autotypenumbers\":\"strict\",\"coloraxis\":{\"colorbar\":{\"outlinewidth\":0,\"ticks\":\"\"}},\"colorscale\":{\"diverging\":[[0,\"#8e0152\"],[0.1,\"#c51b7d\"],[0.2,\"#de77ae\"],[0.3,\"#f1b6da\"],[0.4,\"#fde0ef\"],[0.5,\"#f7f7f7\"],[0.6,\"#e6f5d0\"],[0.7,\"#b8e186\"],[0.8,\"#7fbc41\"],[0.9,\"#4d9221\"],[1,\"#276419\"]],\"sequential\":[[0.0,\"#0d0887\"],[0.1111111111111111,\"#46039f\"],[0.2222222222222222,\"#7201a8\"],[0.3333333333333333,\"#9c179e\"],[0.4444444444444444,\"#bd3786\"],[0.5555555555555556,\"#d8576b\"],[0.6666666666666666,\"#ed7953\"],[0.7777777777777778,\"#fb9f3a\"],[0.8888888888888888,\"#fdca26\"],[1.0,\"#f0f921\"]],\"sequentialminus\":[[0.0,\"#0d0887\"],[0.1111111111111111,\"#46039f\"],[0.2222222222222222,\"#7201a8\"],[0.3333333333333333,\"#9c179e\"],[0.4444444444444444,\"#bd3786\"],[0.5555555555555556,\"#d8576b\"],[0.6666666666666666,\"#ed7953\"],[0.7777777777777778,\"#fb9f3a\"],[0.8888888888888888,\"#fdca26\"],[1.0,\"#f0f921\"]]},\"colorway\":[\"#636efa\",\"#EF553B\",\"#00cc96\",\"#ab63fa\",\"#FFA15A\",\"#19d3f3\",\"#FF6692\",\"#B6E880\",\"#FF97FF\",\"#FECB52\"],\"font\":{\"color\":\"#2a3f5f\"},\"geo\":{\"bgcolor\":\"white\",\"lakecolor\":\"white\",\"landcolor\":\"#E5ECF6\",\"showlakes\":true,\"showland\":true,\"subunitcolor\":\"white\"},\"hoverlabel\":{\"align\":\"left\"},\"hovermode\":\"closest\",\"mapbox\":{\"style\":\"light\"},\"paper_bgcolor\":\"white\",\"plot_bgcolor\":\"#E5ECF6\",\"polar\":{\"angularaxis\":{\"gridcolor\":\"white\",\"linecolor\":\"white\",\"ticks\":\"\"},\"bgcolor\":\"#E5ECF6\",\"radialaxis\":{\"gridcolor\":\"white\",\"linecolor\":\"white\",\"ticks\":\"\"}},\"scene\":{\"xaxis\":{\"backgroundcolor\":\"#E5ECF6\",\"gridcolor\":\"white\",\"gridwidth\":2,\"linecolor\":\"white\",\"showbackground\":true,\"ticks\":\"\",\"zerolinecolor\":\"white\"},\"yaxis\":{\"backgroundcolor\":\"#E5ECF6\",\"gridcolor\":\"white\",\"gridwidth\":2,\"linecolor\":\"white\",\"showbackground\":true,\"ticks\":\"\",\"zerolinecolor\":\"white\"},\"zaxis\":{\"backgroundcolor\":\"#E5ECF6\",\"gridcolor\":\"white\",\"gridwidth\":2,\"linecolor\":\"white\",\"showbackground\":true,\"ticks\":\"\",\"zerolinecolor\":\"white\"}},\"shapedefaults\":{\"line\":{\"color\":\"#2a3f5f\"}},\"ternary\":{\"aaxis\":{\"gridcolor\":\"white\",\"linecolor\":\"white\",\"ticks\":\"\"},\"baxis\":{\"gridcolor\":\"white\",\"linecolor\":\"white\",\"ticks\":\"\"},\"bgcolor\":\"#E5ECF6\",\"caxis\":{\"gridcolor\":\"white\",\"linecolor\":\"white\",\"ticks\":\"\"}},\"title\":{\"x\":0.05},\"xaxis\":{\"automargin\":true,\"gridcolor\":\"white\",\"linecolor\":\"white\",\"ticks\":\"\",\"title\":{\"standoff\":15},\"zerolinecolor\":\"white\",\"zerolinewidth\":2},\"yaxis\":{\"automargin\":true,\"gridcolor\":\"white\",\"linecolor\":\"white\",\"ticks\":\"\",\"title\":{\"standoff\":15},\"zerolinecolor\":\"white\",\"zerolinewidth\":2}}},\"xaxis\":{\"anchor\":\"y\",\"domain\":[0.0,1.0],\"scaleanchor\":\"y\",\"constrain\":\"domain\",\"title\":{\"text\":\"pos\"}},\"yaxis\":{\"anchor\":\"x\",\"domain\":[0.0,1.0],\"autorange\":\"reversed\",\"constrain\":\"domain\",\"title\":{\"text\":\"layer\"}},\"coloraxis\":{\"colorbar\":{\"title\":{\"text\":\"logit diff\"}},\"colorscale\":[[0.0,\"rgb(103,0,31)\"],[0.1,\"rgb(178,24,43)\"],[0.2,\"rgb(214,96,77)\"],[0.3,\"rgb(244,165,130)\"],[0.4,\"rgb(253,219,199)\"],[0.5,\"rgb(247,247,247)\"],[0.6,\"rgb(209,229,240)\"],[0.7,\"rgb(146,197,222)\"],[0.8,\"rgb(67,147,195)\"],[0.9,\"rgb(33,102,172)\"],[1.0,\"rgb(5,48,97)\"]],\"cmid\":0.0},\"title\":{\"text\":\"Patching with Alex / Hart / Sarah\"},\"height\":380,\"width\":600},                        {\"responsive\": true}                    ).then(function(){\n",
              "                            \n",
              "var gd = document.getElementById('e640cb0e-879b-4f4e-9012-9061c75a3a7b');\n",
              "var x = new MutationObserver(function (mutations, observer) {{\n",
              "        var display = window.getComputedStyle(gd).display;\n",
              "        if (!display || display === 'none') {{\n",
              "            console.log([gd, 'removed!']);\n",
              "            Plotly.purge(gd);\n",
              "            observer.disconnect();\n",
              "        }}\n",
              "}});\n",
              "\n",
              "// Listen for the removal of the full notebook cells\n",
              "var notebookContainer = gd.closest('#notebook-container');\n",
              "if (notebookContainer) {{\n",
              "    x.observe(notebookContainer, {childList: true});\n",
              "}}\n",
              "\n",
              "// Listen for the clearing of the current output cell\n",
              "var outputEl = gd.closest('.output');\n",
              "if (outputEl) {{\n",
              "    x.observe(outputEl, {childList: true});\n",
              "}}\n",
              "\n",
              "                        })                };                            </script>        </div>\n",
              "</body>\n",
              "</html>"
            ]
          },
          "metadata": {}
        }
      ],
      "source": [
        "model_2l = HookedTransformer.from_pretrained(\"gelu-2l\")\n",
        "\n",
        "clean_prompt = \"Her name was Alex Hart. Tomorrow at lunch time Alex\"\n",
        "clean_tokens = model_2l.to_str_tokens(clean_prompt)\n",
        "\n",
        "# Indices of the right and wrong answers (lastnames) to judge what the model predicts\n",
        "clean_answer_index = model_2l.tokenizer.encode(\" Hart\")[0]\n",
        "corrupt_answer_index = model_2l.tokenizer.encode(\" Carroll\")[0]\n",
        "\n",
        "def patch_residual_stream(activations, hook, layer=\"blocks.6.hook_resid_post\", pos=5):\n",
        "   # The residual stream dimensions are [batch, position, d_embed]\n",
        "   activations[:, pos, :] = corrupt_cache[layer][:, pos, :]\n",
        "   return activations\n",
        "\n",
        "layers = [\"blocks.0.hook_resid_pre\", *[f\"blocks.{i}.hook_resid_post\" for i in range(model_2l.cfg.n_layers)]]\n",
        "n_layers = len(layers)\n",
        "n_pos = len(clean_tokens)\n",
        "\n",
        "\n",
        "for corrupt_prompt in [\"Her name was Alex Carroll. Tomorrow at lunch time Alex\",\n",
        "                       \"Her name was Sarah Hart. Tomorrow at lunch time Alex\",\n",
        "                       \"Her name was Alex Hart. Tomorrow at lunch time Sarah\"]:\n",
        "    corrupt_tokens = model_2l.to_str_tokens(corrupt_prompt)\n",
        "    _, corrupt_cache = model_2l.run_with_cache(corrupt_prompt)\n",
        "\n",
        "    # Test this patch at any layer and any position\n",
        "    patching_effect = torch.zeros(n_layers, n_pos)\n",
        "    for l, layer in enumerate(layers):\n",
        "        for pos in range(n_pos):\n",
        "            torch.cuda.empty_cache()\n",
        "            fwd_hooks = [(layer, partial(patch_residual_stream, layer=layer, pos=pos))]\n",
        "            prediction_logits = model_2l.run_with_hooks(clean_prompt, fwd_hooks=fwd_hooks)[0, -1]\n",
        "            patching_effect[l, pos] = prediction_logits[clean_answer_index] - prediction_logits[corrupt_answer_index]\n",
        "\n",
        "    # Plot\n",
        "    token_labels = [f\"(pos {i:2}) {t}\" for i, t in enumerate(clean_tokens)]\n",
        "    imshow(patching_effect, xticks=token_labels, yticks=layers, xlabel=\"pos\", ylabel=\"layer\",\n",
        "           zlabel=\"logit diff\", title=f\"Patching with{corrupt_tokens[4]} /{corrupt_tokens[5]} /{corrupt_tokens[11]}\", width=600, height=380)\n"
      ]
    },
    {
      "cell_type": "markdown",
      "metadata": {
        "id": "0XQJGI2wPmBw"
      },
      "source": [
        "# Method 2"
      ]
    },
    {
      "cell_type": "code",
      "execution_count": null,
      "metadata": {
        "id": "3HhuFAVnPstZ"
      },
      "outputs": [],
      "source": [
        "model_2l.cfg.use_attn_result = True\n"
      ]
    },
    {
      "cell_type": "code",
      "execution_count": null,
      "metadata": {
        "id": "bqkgORPlPn4e"
      },
      "outputs": [],
      "source": [
        "clean_prompt = \"Her name was Alex Hart. Tomorrow at lunch time Alex\"\n",
        "#corrupt_prompt = \"Her name was Sarah Hart. Tomorrow at lunch time Alex\"\n",
        "#corrupt_prompt = \"Her name was Alex Hart. Tomorrow at lunch time Sarah\"\n",
        "corrupt_prompt = \"Her name was Alex Carroll. Tomorrow at lunch time Alex\"\n",
        "clean_tokens = model_2l.to_str_tokens(clean_prompt)\n",
        "_, corrupt_cache = model_2l.run_with_cache(corrupt_prompt)\n",
        "\n",
        "clean_answer_index = model_2l.tokenizer.encode(\" Hart\")[0]\n",
        "corrupt_answer_index = model_2l.tokenizer.encode(\" Carroll\")[0]\n",
        "\n",
        "n_layers = model_2l.cfg.n_layers\n",
        "n_heads = model_2l.cfg.n_heads\n",
        "n_pos = len(clean_tokens)\n",
        "\n",
        "def patch_head_result(activations, hook, layer=None, head=None):\n",
        "   activations[:, :, head, :] = corrupt_cache[hook.name][:, :, head, :]\n",
        "   return activations\n",
        "\n",
        "patching_effect = torch.zeros(n_layers, n_heads)\n",
        "for layer in range(n_layers):\n",
        "    for head in range(n_heads):\n",
        "       fwd_hooks = [(f\"blocks.{layer}.attn.hook_result\", partial(patch_head_result, layer=layer, head=head))]\n",
        "       prediction_logits = model_2l.run_with_hooks(clean_prompt, fwd_hooks=fwd_hooks)[0, -1]\n",
        "       patching_effect[layer, head] = prediction_logits[clean_answer_index] - prediction_logits[corrupt_answer_index]"
      ]
    },
    {
      "cell_type": "code",
      "execution_count": null,
      "metadata": {
        "colab": {
          "base_uri": "https://localhost:8080/",
          "height": 397
        },
        "id": "pSDlG6LQX6Je",
        "outputId": "7f30805a-f407-4d62-d1a2-c347c9e65755"
      },
      "outputs": [
        {
          "output_type": "display_data",
          "data": {
            "text/html": [
              "<html>\n",
              "<head><meta charset=\"utf-8\" /></head>\n",
              "<body>\n",
              "    <div>            <script src=\"https://cdnjs.cloudflare.com/ajax/libs/mathjax/2.7.5/MathJax.js?config=TeX-AMS-MML_SVG\"></script><script type=\"text/javascript\">if (window.MathJax) {MathJax.Hub.Config({SVG: {font: \"STIX-Web\"}});}</script>                <script type=\"text/javascript\">window.PlotlyConfig = {MathJaxConfig: 'local'};</script>\n",
              "        <script src=\"https://cdn.plot.ly/plotly-2.8.3.min.js\"></script>                <div id=\"238b35e0-f114-46e6-9050-95428076dd1a\" class=\"plotly-graph-div\" style=\"height:380px; width:600px;\"></div>            <script type=\"text/javascript\">                                    window.PLOTLYENV=window.PLOTLYENV || {};                                    if (document.getElementById(\"238b35e0-f114-46e6-9050-95428076dd1a\")) {                    Plotly.newPlot(                        \"238b35e0-f114-46e6-9050-95428076dd1a\",                        [{\"coloraxis\":\"coloraxis\",\"name\":\"0\",\"x\":[\"(head  0)\",\"(head  1)\",\"(head  2)\",\"(head  3)\",\"(head  4)\",\"(head  5)\",\"(head  6)\",\"(head  7)\"],\"y\":[\"(layer  0)\",\"(layer  1)\"],\"z\":[[8.618917465209961,8.477667808532715,8.708264350891113,8.728070259094238,8.745976448059082,8.69736099243164,8.340620994567871,8.725570678710938],[8.764363288879395,7.4033966064453125,8.73929214477539,8.705284118652344,8.454391479492188,8.847054481506348,-4.535637855529785,8.78610610961914]],\"type\":\"heatmap\",\"xaxis\":\"x\",\"yaxis\":\"y\",\"hovertemplate\":\"head: %{x}<br>layer: %{y}<br>Logit difference: %{z}<extra></extra>\"}],                        {\"template\":{\"data\":{\"bar\":[{\"error_x\":{\"color\":\"#2a3f5f\"},\"error_y\":{\"color\":\"#2a3f5f\"},\"marker\":{\"line\":{\"color\":\"#E5ECF6\",\"width\":0.5},\"pattern\":{\"fillmode\":\"overlay\",\"size\":10,\"solidity\":0.2}},\"type\":\"bar\"}],\"barpolar\":[{\"marker\":{\"line\":{\"color\":\"#E5ECF6\",\"width\":0.5},\"pattern\":{\"fillmode\":\"overlay\",\"size\":10,\"solidity\":0.2}},\"type\":\"barpolar\"}],\"carpet\":[{\"aaxis\":{\"endlinecolor\":\"#2a3f5f\",\"gridcolor\":\"white\",\"linecolor\":\"white\",\"minorgridcolor\":\"white\",\"startlinecolor\":\"#2a3f5f\"},\"baxis\":{\"endlinecolor\":\"#2a3f5f\",\"gridcolor\":\"white\",\"linecolor\":\"white\",\"minorgridcolor\":\"white\",\"startlinecolor\":\"#2a3f5f\"},\"type\":\"carpet\"}],\"choropleth\":[{\"colorbar\":{\"outlinewidth\":0,\"ticks\":\"\"},\"type\":\"choropleth\"}],\"contour\":[{\"colorbar\":{\"outlinewidth\":0,\"ticks\":\"\"},\"colorscale\":[[0.0,\"#0d0887\"],[0.1111111111111111,\"#46039f\"],[0.2222222222222222,\"#7201a8\"],[0.3333333333333333,\"#9c179e\"],[0.4444444444444444,\"#bd3786\"],[0.5555555555555556,\"#d8576b\"],[0.6666666666666666,\"#ed7953\"],[0.7777777777777778,\"#fb9f3a\"],[0.8888888888888888,\"#fdca26\"],[1.0,\"#f0f921\"]],\"type\":\"contour\"}],\"contourcarpet\":[{\"colorbar\":{\"outlinewidth\":0,\"ticks\":\"\"},\"type\":\"contourcarpet\"}],\"heatmap\":[{\"colorbar\":{\"outlinewidth\":0,\"ticks\":\"\"},\"colorscale\":[[0.0,\"#0d0887\"],[0.1111111111111111,\"#46039f\"],[0.2222222222222222,\"#7201a8\"],[0.3333333333333333,\"#9c179e\"],[0.4444444444444444,\"#bd3786\"],[0.5555555555555556,\"#d8576b\"],[0.6666666666666666,\"#ed7953\"],[0.7777777777777778,\"#fb9f3a\"],[0.8888888888888888,\"#fdca26\"],[1.0,\"#f0f921\"]],\"type\":\"heatmap\"}],\"heatmapgl\":[{\"colorbar\":{\"outlinewidth\":0,\"ticks\":\"\"},\"colorscale\":[[0.0,\"#0d0887\"],[0.1111111111111111,\"#46039f\"],[0.2222222222222222,\"#7201a8\"],[0.3333333333333333,\"#9c179e\"],[0.4444444444444444,\"#bd3786\"],[0.5555555555555556,\"#d8576b\"],[0.6666666666666666,\"#ed7953\"],[0.7777777777777778,\"#fb9f3a\"],[0.8888888888888888,\"#fdca26\"],[1.0,\"#f0f921\"]],\"type\":\"heatmapgl\"}],\"histogram\":[{\"marker\":{\"pattern\":{\"fillmode\":\"overlay\",\"size\":10,\"solidity\":0.2}},\"type\":\"histogram\"}],\"histogram2d\":[{\"colorbar\":{\"outlinewidth\":0,\"ticks\":\"\"},\"colorscale\":[[0.0,\"#0d0887\"],[0.1111111111111111,\"#46039f\"],[0.2222222222222222,\"#7201a8\"],[0.3333333333333333,\"#9c179e\"],[0.4444444444444444,\"#bd3786\"],[0.5555555555555556,\"#d8576b\"],[0.6666666666666666,\"#ed7953\"],[0.7777777777777778,\"#fb9f3a\"],[0.8888888888888888,\"#fdca26\"],[1.0,\"#f0f921\"]],\"type\":\"histogram2d\"}],\"histogram2dcontour\":[{\"colorbar\":{\"outlinewidth\":0,\"ticks\":\"\"},\"colorscale\":[[0.0,\"#0d0887\"],[0.1111111111111111,\"#46039f\"],[0.2222222222222222,\"#7201a8\"],[0.3333333333333333,\"#9c179e\"],[0.4444444444444444,\"#bd3786\"],[0.5555555555555556,\"#d8576b\"],[0.6666666666666666,\"#ed7953\"],[0.7777777777777778,\"#fb9f3a\"],[0.8888888888888888,\"#fdca26\"],[1.0,\"#f0f921\"]],\"type\":\"histogram2dcontour\"}],\"mesh3d\":[{\"colorbar\":{\"outlinewidth\":0,\"ticks\":\"\"},\"type\":\"mesh3d\"}],\"parcoords\":[{\"line\":{\"colorbar\":{\"outlinewidth\":0,\"ticks\":\"\"}},\"type\":\"parcoords\"}],\"pie\":[{\"automargin\":true,\"type\":\"pie\"}],\"scatter\":[{\"marker\":{\"colorbar\":{\"outlinewidth\":0,\"ticks\":\"\"}},\"type\":\"scatter\"}],\"scatter3d\":[{\"line\":{\"colorbar\":{\"outlinewidth\":0,\"ticks\":\"\"}},\"marker\":{\"colorbar\":{\"outlinewidth\":0,\"ticks\":\"\"}},\"type\":\"scatter3d\"}],\"scattercarpet\":[{\"marker\":{\"colorbar\":{\"outlinewidth\":0,\"ticks\":\"\"}},\"type\":\"scattercarpet\"}],\"scattergeo\":[{\"marker\":{\"colorbar\":{\"outlinewidth\":0,\"ticks\":\"\"}},\"type\":\"scattergeo\"}],\"scattergl\":[{\"marker\":{\"colorbar\":{\"outlinewidth\":0,\"ticks\":\"\"}},\"type\":\"scattergl\"}],\"scattermapbox\":[{\"marker\":{\"colorbar\":{\"outlinewidth\":0,\"ticks\":\"\"}},\"type\":\"scattermapbox\"}],\"scatterpolar\":[{\"marker\":{\"colorbar\":{\"outlinewidth\":0,\"ticks\":\"\"}},\"type\":\"scatterpolar\"}],\"scatterpolargl\":[{\"marker\":{\"colorbar\":{\"outlinewidth\":0,\"ticks\":\"\"}},\"type\":\"scatterpolargl\"}],\"scatterternary\":[{\"marker\":{\"colorbar\":{\"outlinewidth\":0,\"ticks\":\"\"}},\"type\":\"scatterternary\"}],\"surface\":[{\"colorbar\":{\"outlinewidth\":0,\"ticks\":\"\"},\"colorscale\":[[0.0,\"#0d0887\"],[0.1111111111111111,\"#46039f\"],[0.2222222222222222,\"#7201a8\"],[0.3333333333333333,\"#9c179e\"],[0.4444444444444444,\"#bd3786\"],[0.5555555555555556,\"#d8576b\"],[0.6666666666666666,\"#ed7953\"],[0.7777777777777778,\"#fb9f3a\"],[0.8888888888888888,\"#fdca26\"],[1.0,\"#f0f921\"]],\"type\":\"surface\"}],\"table\":[{\"cells\":{\"fill\":{\"color\":\"#EBF0F8\"},\"line\":{\"color\":\"white\"}},\"header\":{\"fill\":{\"color\":\"#C8D4E3\"},\"line\":{\"color\":\"white\"}},\"type\":\"table\"}]},\"layout\":{\"annotationdefaults\":{\"arrowcolor\":\"#2a3f5f\",\"arrowhead\":0,\"arrowwidth\":1},\"autotypenumbers\":\"strict\",\"coloraxis\":{\"colorbar\":{\"outlinewidth\":0,\"ticks\":\"\"}},\"colorscale\":{\"diverging\":[[0,\"#8e0152\"],[0.1,\"#c51b7d\"],[0.2,\"#de77ae\"],[0.3,\"#f1b6da\"],[0.4,\"#fde0ef\"],[0.5,\"#f7f7f7\"],[0.6,\"#e6f5d0\"],[0.7,\"#b8e186\"],[0.8,\"#7fbc41\"],[0.9,\"#4d9221\"],[1,\"#276419\"]],\"sequential\":[[0.0,\"#0d0887\"],[0.1111111111111111,\"#46039f\"],[0.2222222222222222,\"#7201a8\"],[0.3333333333333333,\"#9c179e\"],[0.4444444444444444,\"#bd3786\"],[0.5555555555555556,\"#d8576b\"],[0.6666666666666666,\"#ed7953\"],[0.7777777777777778,\"#fb9f3a\"],[0.8888888888888888,\"#fdca26\"],[1.0,\"#f0f921\"]],\"sequentialminus\":[[0.0,\"#0d0887\"],[0.1111111111111111,\"#46039f\"],[0.2222222222222222,\"#7201a8\"],[0.3333333333333333,\"#9c179e\"],[0.4444444444444444,\"#bd3786\"],[0.5555555555555556,\"#d8576b\"],[0.6666666666666666,\"#ed7953\"],[0.7777777777777778,\"#fb9f3a\"],[0.8888888888888888,\"#fdca26\"],[1.0,\"#f0f921\"]]},\"colorway\":[\"#636efa\",\"#EF553B\",\"#00cc96\",\"#ab63fa\",\"#FFA15A\",\"#19d3f3\",\"#FF6692\",\"#B6E880\",\"#FF97FF\",\"#FECB52\"],\"font\":{\"color\":\"#2a3f5f\"},\"geo\":{\"bgcolor\":\"white\",\"lakecolor\":\"white\",\"landcolor\":\"#E5ECF6\",\"showlakes\":true,\"showland\":true,\"subunitcolor\":\"white\"},\"hoverlabel\":{\"align\":\"left\"},\"hovermode\":\"closest\",\"mapbox\":{\"style\":\"light\"},\"paper_bgcolor\":\"white\",\"plot_bgcolor\":\"#E5ECF6\",\"polar\":{\"angularaxis\":{\"gridcolor\":\"white\",\"linecolor\":\"white\",\"ticks\":\"\"},\"bgcolor\":\"#E5ECF6\",\"radialaxis\":{\"gridcolor\":\"white\",\"linecolor\":\"white\",\"ticks\":\"\"}},\"scene\":{\"xaxis\":{\"backgroundcolor\":\"#E5ECF6\",\"gridcolor\":\"white\",\"gridwidth\":2,\"linecolor\":\"white\",\"showbackground\":true,\"ticks\":\"\",\"zerolinecolor\":\"white\"},\"yaxis\":{\"backgroundcolor\":\"#E5ECF6\",\"gridcolor\":\"white\",\"gridwidth\":2,\"linecolor\":\"white\",\"showbackground\":true,\"ticks\":\"\",\"zerolinecolor\":\"white\"},\"zaxis\":{\"backgroundcolor\":\"#E5ECF6\",\"gridcolor\":\"white\",\"gridwidth\":2,\"linecolor\":\"white\",\"showbackground\":true,\"ticks\":\"\",\"zerolinecolor\":\"white\"}},\"shapedefaults\":{\"line\":{\"color\":\"#2a3f5f\"}},\"ternary\":{\"aaxis\":{\"gridcolor\":\"white\",\"linecolor\":\"white\",\"ticks\":\"\"},\"baxis\":{\"gridcolor\":\"white\",\"linecolor\":\"white\",\"ticks\":\"\"},\"bgcolor\":\"#E5ECF6\",\"caxis\":{\"gridcolor\":\"white\",\"linecolor\":\"white\",\"ticks\":\"\"}},\"title\":{\"x\":0.05},\"xaxis\":{\"automargin\":true,\"gridcolor\":\"white\",\"linecolor\":\"white\",\"ticks\":\"\",\"title\":{\"standoff\":15},\"zerolinecolor\":\"white\",\"zerolinewidth\":2},\"yaxis\":{\"automargin\":true,\"gridcolor\":\"white\",\"linecolor\":\"white\",\"ticks\":\"\",\"title\":{\"standoff\":15},\"zerolinecolor\":\"white\",\"zerolinewidth\":2}}},\"xaxis\":{\"anchor\":\"y\",\"domain\":[0.0,1.0],\"scaleanchor\":\"y\",\"constrain\":\"domain\",\"title\":{\"text\":\"head\"}},\"yaxis\":{\"anchor\":\"x\",\"domain\":[0.0,1.0],\"autorange\":\"reversed\",\"constrain\":\"domain\",\"title\":{\"text\":\"layer\"}},\"coloraxis\":{\"colorbar\":{\"title\":{\"text\":\"Logit difference\"}},\"colorscale\":[[0.0,\"rgb(103,0,31)\"],[0.1,\"rgb(178,24,43)\"],[0.2,\"rgb(214,96,77)\"],[0.3,\"rgb(244,165,130)\"],[0.4,\"rgb(253,219,199)\"],[0.5,\"rgb(247,247,247)\"],[0.6,\"rgb(209,229,240)\"],[0.7,\"rgb(146,197,222)\"],[0.8,\"rgb(67,147,195)\"],[0.9,\"rgb(33,102,172)\"],[1.0,\"rgb(5,48,97)\"]],\"cmid\":0.0},\"title\":{\"text\":\"Patching with 1st occurrence of first name\"},\"height\":380,\"width\":600},                        {\"responsive\": true}                    ).then(function(){\n",
              "                            \n",
              "var gd = document.getElementById('238b35e0-f114-46e6-9050-95428076dd1a');\n",
              "var x = new MutationObserver(function (mutations, observer) {{\n",
              "        var display = window.getComputedStyle(gd).display;\n",
              "        if (!display || display === 'none') {{\n",
              "            console.log([gd, 'removed!']);\n",
              "            Plotly.purge(gd);\n",
              "            observer.disconnect();\n",
              "        }}\n",
              "}});\n",
              "\n",
              "// Listen for the removal of the full notebook cells\n",
              "var notebookContainer = gd.closest('#notebook-container');\n",
              "if (notebookContainer) {{\n",
              "    x.observe(notebookContainer, {childList: true});\n",
              "}}\n",
              "\n",
              "// Listen for the clearing of the current output cell\n",
              "var outputEl = gd.closest('.output');\n",
              "if (outputEl) {{\n",
              "    x.observe(outputEl, {childList: true});\n",
              "}}\n",
              "\n",
              "                        })                };                            </script>        </div>\n",
              "</body>\n",
              "</html>"
            ]
          },
          "metadata": {}
        }
      ],
      "source": [
        "# Plot\n",
        "token_labels = [f\"(pos {i:2}) {t}\" for i, t in enumerate(clean_tokens)]\n",
        "head_labels = [f\"(head {i:2})\" for i in range(n_heads)]\n",
        "layer_labels = [f\"(layer {i:2})\" for i in range(n_layers)]\n",
        "\n",
        "imshow(patching_effect, xticks=head_labels, yticks=layer_labels, xlabel=\"head\", ylabel=\"layer\",\n",
        "       zlabel=\"Logit difference\", title=\"Patching with 1st occurrence of first name\", width=600, height=380)\n"
      ]
    },
    {
      "cell_type": "code",
      "execution_count": null,
      "metadata": {
        "colab": {
          "base_uri": "https://localhost:8080/",
          "height": 1000
        },
        "id": "2YfnEGxDPo2B",
        "outputId": "d76e1bc2-48ca-4927-c38d-ff82cd4c5769"
      },
      "outputs": [
        {
          "output_type": "display_data",
          "data": {
            "text/html": [
              "<html>\n",
              "<head><meta charset=\"utf-8\" /></head>\n",
              "<body>\n",
              "    <div>            <script src=\"https://cdnjs.cloudflare.com/ajax/libs/mathjax/2.7.5/MathJax.js?config=TeX-AMS-MML_SVG\"></script><script type=\"text/javascript\">if (window.MathJax) {MathJax.Hub.Config({SVG: {font: \"STIX-Web\"}});}</script>                <script type=\"text/javascript\">window.PlotlyConfig = {MathJaxConfig: 'local'};</script>\n",
              "        <script src=\"https://cdn.plot.ly/plotly-2.8.3.min.js\"></script>                <div id=\"31989783-fd8b-471c-92f8-e8b8ffa563f8\" class=\"plotly-graph-div\" style=\"height:380px; width:600px;\"></div>            <script type=\"text/javascript\">                                    window.PLOTLYENV=window.PLOTLYENV || {};                                    if (document.getElementById(\"31989783-fd8b-471c-92f8-e8b8ffa563f8\")) {                    Plotly.newPlot(                        \"31989783-fd8b-471c-92f8-e8b8ffa563f8\",                        [{\"coloraxis\":\"coloraxis\",\"name\":\"0\",\"x\":[\"(layer  0)\",\"(layer  1)\"],\"y\":[\"(head  0)\",\"(head  1)\",\"(head  2)\",\"(head  3)\",\"(head  4)\",\"(head  5)\",\"(head  6)\",\"(head  7)\"],\"z\":[[8.618917465209961,8.764363288879395],[8.477667808532715,7.4033966064453125],[8.708264350891113,8.73929214477539],[8.728070259094238,8.705284118652344],[8.745976448059082,8.454391479492188],[8.69736099243164,8.847054481506348],[8.340620994567871,-4.535637855529785],[8.725570678710938,8.78610610961914]],\"type\":\"heatmap\",\"xaxis\":\"x\",\"yaxis\":\"y\",\"hovertemplate\":\"layer: %{x}<br>head: %{y}<br>Logit difference: %{z}<extra></extra>\"}],                        {\"template\":{\"data\":{\"bar\":[{\"error_x\":{\"color\":\"#2a3f5f\"},\"error_y\":{\"color\":\"#2a3f5f\"},\"marker\":{\"line\":{\"color\":\"#E5ECF6\",\"width\":0.5},\"pattern\":{\"fillmode\":\"overlay\",\"size\":10,\"solidity\":0.2}},\"type\":\"bar\"}],\"barpolar\":[{\"marker\":{\"line\":{\"color\":\"#E5ECF6\",\"width\":0.5},\"pattern\":{\"fillmode\":\"overlay\",\"size\":10,\"solidity\":0.2}},\"type\":\"barpolar\"}],\"carpet\":[{\"aaxis\":{\"endlinecolor\":\"#2a3f5f\",\"gridcolor\":\"white\",\"linecolor\":\"white\",\"minorgridcolor\":\"white\",\"startlinecolor\":\"#2a3f5f\"},\"baxis\":{\"endlinecolor\":\"#2a3f5f\",\"gridcolor\":\"white\",\"linecolor\":\"white\",\"minorgridcolor\":\"white\",\"startlinecolor\":\"#2a3f5f\"},\"type\":\"carpet\"}],\"choropleth\":[{\"colorbar\":{\"outlinewidth\":0,\"ticks\":\"\"},\"type\":\"choropleth\"}],\"contour\":[{\"colorbar\":{\"outlinewidth\":0,\"ticks\":\"\"},\"colorscale\":[[0.0,\"#0d0887\"],[0.1111111111111111,\"#46039f\"],[0.2222222222222222,\"#7201a8\"],[0.3333333333333333,\"#9c179e\"],[0.4444444444444444,\"#bd3786\"],[0.5555555555555556,\"#d8576b\"],[0.6666666666666666,\"#ed7953\"],[0.7777777777777778,\"#fb9f3a\"],[0.8888888888888888,\"#fdca26\"],[1.0,\"#f0f921\"]],\"type\":\"contour\"}],\"contourcarpet\":[{\"colorbar\":{\"outlinewidth\":0,\"ticks\":\"\"},\"type\":\"contourcarpet\"}],\"heatmap\":[{\"colorbar\":{\"outlinewidth\":0,\"ticks\":\"\"},\"colorscale\":[[0.0,\"#0d0887\"],[0.1111111111111111,\"#46039f\"],[0.2222222222222222,\"#7201a8\"],[0.3333333333333333,\"#9c179e\"],[0.4444444444444444,\"#bd3786\"],[0.5555555555555556,\"#d8576b\"],[0.6666666666666666,\"#ed7953\"],[0.7777777777777778,\"#fb9f3a\"],[0.8888888888888888,\"#fdca26\"],[1.0,\"#f0f921\"]],\"type\":\"heatmap\"}],\"heatmapgl\":[{\"colorbar\":{\"outlinewidth\":0,\"ticks\":\"\"},\"colorscale\":[[0.0,\"#0d0887\"],[0.1111111111111111,\"#46039f\"],[0.2222222222222222,\"#7201a8\"],[0.3333333333333333,\"#9c179e\"],[0.4444444444444444,\"#bd3786\"],[0.5555555555555556,\"#d8576b\"],[0.6666666666666666,\"#ed7953\"],[0.7777777777777778,\"#fb9f3a\"],[0.8888888888888888,\"#fdca26\"],[1.0,\"#f0f921\"]],\"type\":\"heatmapgl\"}],\"histogram\":[{\"marker\":{\"pattern\":{\"fillmode\":\"overlay\",\"size\":10,\"solidity\":0.2}},\"type\":\"histogram\"}],\"histogram2d\":[{\"colorbar\":{\"outlinewidth\":0,\"ticks\":\"\"},\"colorscale\":[[0.0,\"#0d0887\"],[0.1111111111111111,\"#46039f\"],[0.2222222222222222,\"#7201a8\"],[0.3333333333333333,\"#9c179e\"],[0.4444444444444444,\"#bd3786\"],[0.5555555555555556,\"#d8576b\"],[0.6666666666666666,\"#ed7953\"],[0.7777777777777778,\"#fb9f3a\"],[0.8888888888888888,\"#fdca26\"],[1.0,\"#f0f921\"]],\"type\":\"histogram2d\"}],\"histogram2dcontour\":[{\"colorbar\":{\"outlinewidth\":0,\"ticks\":\"\"},\"colorscale\":[[0.0,\"#0d0887\"],[0.1111111111111111,\"#46039f\"],[0.2222222222222222,\"#7201a8\"],[0.3333333333333333,\"#9c179e\"],[0.4444444444444444,\"#bd3786\"],[0.5555555555555556,\"#d8576b\"],[0.6666666666666666,\"#ed7953\"],[0.7777777777777778,\"#fb9f3a\"],[0.8888888888888888,\"#fdca26\"],[1.0,\"#f0f921\"]],\"type\":\"histogram2dcontour\"}],\"mesh3d\":[{\"colorbar\":{\"outlinewidth\":0,\"ticks\":\"\"},\"type\":\"mesh3d\"}],\"parcoords\":[{\"line\":{\"colorbar\":{\"outlinewidth\":0,\"ticks\":\"\"}},\"type\":\"parcoords\"}],\"pie\":[{\"automargin\":true,\"type\":\"pie\"}],\"scatter\":[{\"marker\":{\"colorbar\":{\"outlinewidth\":0,\"ticks\":\"\"}},\"type\":\"scatter\"}],\"scatter3d\":[{\"line\":{\"colorbar\":{\"outlinewidth\":0,\"ticks\":\"\"}},\"marker\":{\"colorbar\":{\"outlinewidth\":0,\"ticks\":\"\"}},\"type\":\"scatter3d\"}],\"scattercarpet\":[{\"marker\":{\"colorbar\":{\"outlinewidth\":0,\"ticks\":\"\"}},\"type\":\"scattercarpet\"}],\"scattergeo\":[{\"marker\":{\"colorbar\":{\"outlinewidth\":0,\"ticks\":\"\"}},\"type\":\"scattergeo\"}],\"scattergl\":[{\"marker\":{\"colorbar\":{\"outlinewidth\":0,\"ticks\":\"\"}},\"type\":\"scattergl\"}],\"scattermapbox\":[{\"marker\":{\"colorbar\":{\"outlinewidth\":0,\"ticks\":\"\"}},\"type\":\"scattermapbox\"}],\"scatterpolar\":[{\"marker\":{\"colorbar\":{\"outlinewidth\":0,\"ticks\":\"\"}},\"type\":\"scatterpolar\"}],\"scatterpolargl\":[{\"marker\":{\"colorbar\":{\"outlinewidth\":0,\"ticks\":\"\"}},\"type\":\"scatterpolargl\"}],\"scatterternary\":[{\"marker\":{\"colorbar\":{\"outlinewidth\":0,\"ticks\":\"\"}},\"type\":\"scatterternary\"}],\"surface\":[{\"colorbar\":{\"outlinewidth\":0,\"ticks\":\"\"},\"colorscale\":[[0.0,\"#0d0887\"],[0.1111111111111111,\"#46039f\"],[0.2222222222222222,\"#7201a8\"],[0.3333333333333333,\"#9c179e\"],[0.4444444444444444,\"#bd3786\"],[0.5555555555555556,\"#d8576b\"],[0.6666666666666666,\"#ed7953\"],[0.7777777777777778,\"#fb9f3a\"],[0.8888888888888888,\"#fdca26\"],[1.0,\"#f0f921\"]],\"type\":\"surface\"}],\"table\":[{\"cells\":{\"fill\":{\"color\":\"#EBF0F8\"},\"line\":{\"color\":\"white\"}},\"header\":{\"fill\":{\"color\":\"#C8D4E3\"},\"line\":{\"color\":\"white\"}},\"type\":\"table\"}]},\"layout\":{\"annotationdefaults\":{\"arrowcolor\":\"#2a3f5f\",\"arrowhead\":0,\"arrowwidth\":1},\"autotypenumbers\":\"strict\",\"coloraxis\":{\"colorbar\":{\"outlinewidth\":0,\"ticks\":\"\"}},\"colorscale\":{\"diverging\":[[0,\"#8e0152\"],[0.1,\"#c51b7d\"],[0.2,\"#de77ae\"],[0.3,\"#f1b6da\"],[0.4,\"#fde0ef\"],[0.5,\"#f7f7f7\"],[0.6,\"#e6f5d0\"],[0.7,\"#b8e186\"],[0.8,\"#7fbc41\"],[0.9,\"#4d9221\"],[1,\"#276419\"]],\"sequential\":[[0.0,\"#0d0887\"],[0.1111111111111111,\"#46039f\"],[0.2222222222222222,\"#7201a8\"],[0.3333333333333333,\"#9c179e\"],[0.4444444444444444,\"#bd3786\"],[0.5555555555555556,\"#d8576b\"],[0.6666666666666666,\"#ed7953\"],[0.7777777777777778,\"#fb9f3a\"],[0.8888888888888888,\"#fdca26\"],[1.0,\"#f0f921\"]],\"sequentialminus\":[[0.0,\"#0d0887\"],[0.1111111111111111,\"#46039f\"],[0.2222222222222222,\"#7201a8\"],[0.3333333333333333,\"#9c179e\"],[0.4444444444444444,\"#bd3786\"],[0.5555555555555556,\"#d8576b\"],[0.6666666666666666,\"#ed7953\"],[0.7777777777777778,\"#fb9f3a\"],[0.8888888888888888,\"#fdca26\"],[1.0,\"#f0f921\"]]},\"colorway\":[\"#636efa\",\"#EF553B\",\"#00cc96\",\"#ab63fa\",\"#FFA15A\",\"#19d3f3\",\"#FF6692\",\"#B6E880\",\"#FF97FF\",\"#FECB52\"],\"font\":{\"color\":\"#2a3f5f\"},\"geo\":{\"bgcolor\":\"white\",\"lakecolor\":\"white\",\"landcolor\":\"#E5ECF6\",\"showlakes\":true,\"showland\":true,\"subunitcolor\":\"white\"},\"hoverlabel\":{\"align\":\"left\"},\"hovermode\":\"closest\",\"mapbox\":{\"style\":\"light\"},\"paper_bgcolor\":\"white\",\"plot_bgcolor\":\"#E5ECF6\",\"polar\":{\"angularaxis\":{\"gridcolor\":\"white\",\"linecolor\":\"white\",\"ticks\":\"\"},\"bgcolor\":\"#E5ECF6\",\"radialaxis\":{\"gridcolor\":\"white\",\"linecolor\":\"white\",\"ticks\":\"\"}},\"scene\":{\"xaxis\":{\"backgroundcolor\":\"#E5ECF6\",\"gridcolor\":\"white\",\"gridwidth\":2,\"linecolor\":\"white\",\"showbackground\":true,\"ticks\":\"\",\"zerolinecolor\":\"white\"},\"yaxis\":{\"backgroundcolor\":\"#E5ECF6\",\"gridcolor\":\"white\",\"gridwidth\":2,\"linecolor\":\"white\",\"showbackground\":true,\"ticks\":\"\",\"zerolinecolor\":\"white\"},\"zaxis\":{\"backgroundcolor\":\"#E5ECF6\",\"gridcolor\":\"white\",\"gridwidth\":2,\"linecolor\":\"white\",\"showbackground\":true,\"ticks\":\"\",\"zerolinecolor\":\"white\"}},\"shapedefaults\":{\"line\":{\"color\":\"#2a3f5f\"}},\"ternary\":{\"aaxis\":{\"gridcolor\":\"white\",\"linecolor\":\"white\",\"ticks\":\"\"},\"baxis\":{\"gridcolor\":\"white\",\"linecolor\":\"white\",\"ticks\":\"\"},\"bgcolor\":\"#E5ECF6\",\"caxis\":{\"gridcolor\":\"white\",\"linecolor\":\"white\",\"ticks\":\"\"}},\"title\":{\"x\":0.05},\"xaxis\":{\"automargin\":true,\"gridcolor\":\"white\",\"linecolor\":\"white\",\"ticks\":\"\",\"title\":{\"standoff\":15},\"zerolinecolor\":\"white\",\"zerolinewidth\":2},\"yaxis\":{\"automargin\":true,\"gridcolor\":\"white\",\"linecolor\":\"white\",\"ticks\":\"\",\"title\":{\"standoff\":15},\"zerolinecolor\":\"white\",\"zerolinewidth\":2}}},\"xaxis\":{\"anchor\":\"y\",\"domain\":[0.0,1.0],\"scaleanchor\":\"y\",\"constrain\":\"domain\",\"title\":{\"text\":\"layer\"}},\"yaxis\":{\"anchor\":\"x\",\"domain\":[0.0,1.0],\"autorange\":\"reversed\",\"constrain\":\"domain\",\"title\":{\"text\":\"head\"}},\"coloraxis\":{\"colorbar\":{\"title\":{\"text\":\"Logit difference\"}},\"colorscale\":[[0.0,\"rgb(103,0,31)\"],[0.1,\"rgb(178,24,43)\"],[0.2,\"rgb(214,96,77)\"],[0.3,\"rgb(244,165,130)\"],[0.4,\"rgb(253,219,199)\"],[0.5,\"rgb(247,247,247)\"],[0.6,\"rgb(209,229,240)\"],[0.7,\"rgb(146,197,222)\"],[0.8,\"rgb(67,147,195)\"],[0.9,\"rgb(33,102,172)\"],[1.0,\"rgb(5,48,97)\"]],\"cmid\":0.0},\"title\":{\"text\":\"Patching with Alex / Carroll / Alex\"},\"height\":380,\"width\":600},                        {\"responsive\": true}                    ).then(function(){\n",
              "                            \n",
              "var gd = document.getElementById('31989783-fd8b-471c-92f8-e8b8ffa563f8');\n",
              "var x = new MutationObserver(function (mutations, observer) {{\n",
              "        var display = window.getComputedStyle(gd).display;\n",
              "        if (!display || display === 'none') {{\n",
              "            console.log([gd, 'removed!']);\n",
              "            Plotly.purge(gd);\n",
              "            observer.disconnect();\n",
              "        }}\n",
              "}});\n",
              "\n",
              "// Listen for the removal of the full notebook cells\n",
              "var notebookContainer = gd.closest('#notebook-container');\n",
              "if (notebookContainer) {{\n",
              "    x.observe(notebookContainer, {childList: true});\n",
              "}}\n",
              "\n",
              "// Listen for the clearing of the current output cell\n",
              "var outputEl = gd.closest('.output');\n",
              "if (outputEl) {{\n",
              "    x.observe(outputEl, {childList: true});\n",
              "}}\n",
              "\n",
              "                        })                };                            </script>        </div>\n",
              "</body>\n",
              "</html>"
            ]
          },
          "metadata": {}
        },
        {
          "output_type": "display_data",
          "data": {
            "text/html": [
              "<html>\n",
              "<head><meta charset=\"utf-8\" /></head>\n",
              "<body>\n",
              "    <div>            <script src=\"https://cdnjs.cloudflare.com/ajax/libs/mathjax/2.7.5/MathJax.js?config=TeX-AMS-MML_SVG\"></script><script type=\"text/javascript\">if (window.MathJax) {MathJax.Hub.Config({SVG: {font: \"STIX-Web\"}});}</script>                <script type=\"text/javascript\">window.PlotlyConfig = {MathJaxConfig: 'local'};</script>\n",
              "        <script src=\"https://cdn.plot.ly/plotly-2.8.3.min.js\"></script>                <div id=\"3b78e7f2-8732-4c54-b07f-98b4cec9299b\" class=\"plotly-graph-div\" style=\"height:380px; width:600px;\"></div>            <script type=\"text/javascript\">                                    window.PLOTLYENV=window.PLOTLYENV || {};                                    if (document.getElementById(\"3b78e7f2-8732-4c54-b07f-98b4cec9299b\")) {                    Plotly.newPlot(                        \"3b78e7f2-8732-4c54-b07f-98b4cec9299b\",                        [{\"coloraxis\":\"coloraxis\",\"name\":\"0\",\"x\":[\"(layer  0)\",\"(layer  1)\"],\"y\":[\"(head  0)\",\"(head  1)\",\"(head  2)\",\"(head  3)\",\"(head  4)\",\"(head  5)\",\"(head  6)\",\"(head  7)\"],\"z\":[[8.576138496398926,8.487653732299805],[6.131082534790039,8.56688404083252],[6.262894630432129,8.720520973205566],[8.75832462310791,8.683199882507324],[8.709452629089355,8.698003768920898],[8.703640937805176,8.734010696411133],[8.835062026977539,3.9788122177124023],[8.727948188781738,8.808161735534668]],\"type\":\"heatmap\",\"xaxis\":\"x\",\"yaxis\":\"y\",\"hovertemplate\":\"layer: %{x}<br>head: %{y}<br>Logit difference: %{z}<extra></extra>\"}],                        {\"template\":{\"data\":{\"bar\":[{\"error_x\":{\"color\":\"#2a3f5f\"},\"error_y\":{\"color\":\"#2a3f5f\"},\"marker\":{\"line\":{\"color\":\"#E5ECF6\",\"width\":0.5},\"pattern\":{\"fillmode\":\"overlay\",\"size\":10,\"solidity\":0.2}},\"type\":\"bar\"}],\"barpolar\":[{\"marker\":{\"line\":{\"color\":\"#E5ECF6\",\"width\":0.5},\"pattern\":{\"fillmode\":\"overlay\",\"size\":10,\"solidity\":0.2}},\"type\":\"barpolar\"}],\"carpet\":[{\"aaxis\":{\"endlinecolor\":\"#2a3f5f\",\"gridcolor\":\"white\",\"linecolor\":\"white\",\"minorgridcolor\":\"white\",\"startlinecolor\":\"#2a3f5f\"},\"baxis\":{\"endlinecolor\":\"#2a3f5f\",\"gridcolor\":\"white\",\"linecolor\":\"white\",\"minorgridcolor\":\"white\",\"startlinecolor\":\"#2a3f5f\"},\"type\":\"carpet\"}],\"choropleth\":[{\"colorbar\":{\"outlinewidth\":0,\"ticks\":\"\"},\"type\":\"choropleth\"}],\"contour\":[{\"colorbar\":{\"outlinewidth\":0,\"ticks\":\"\"},\"colorscale\":[[0.0,\"#0d0887\"],[0.1111111111111111,\"#46039f\"],[0.2222222222222222,\"#7201a8\"],[0.3333333333333333,\"#9c179e\"],[0.4444444444444444,\"#bd3786\"],[0.5555555555555556,\"#d8576b\"],[0.6666666666666666,\"#ed7953\"],[0.7777777777777778,\"#fb9f3a\"],[0.8888888888888888,\"#fdca26\"],[1.0,\"#f0f921\"]],\"type\":\"contour\"}],\"contourcarpet\":[{\"colorbar\":{\"outlinewidth\":0,\"ticks\":\"\"},\"type\":\"contourcarpet\"}],\"heatmap\":[{\"colorbar\":{\"outlinewidth\":0,\"ticks\":\"\"},\"colorscale\":[[0.0,\"#0d0887\"],[0.1111111111111111,\"#46039f\"],[0.2222222222222222,\"#7201a8\"],[0.3333333333333333,\"#9c179e\"],[0.4444444444444444,\"#bd3786\"],[0.5555555555555556,\"#d8576b\"],[0.6666666666666666,\"#ed7953\"],[0.7777777777777778,\"#fb9f3a\"],[0.8888888888888888,\"#fdca26\"],[1.0,\"#f0f921\"]],\"type\":\"heatmap\"}],\"heatmapgl\":[{\"colorbar\":{\"outlinewidth\":0,\"ticks\":\"\"},\"colorscale\":[[0.0,\"#0d0887\"],[0.1111111111111111,\"#46039f\"],[0.2222222222222222,\"#7201a8\"],[0.3333333333333333,\"#9c179e\"],[0.4444444444444444,\"#bd3786\"],[0.5555555555555556,\"#d8576b\"],[0.6666666666666666,\"#ed7953\"],[0.7777777777777778,\"#fb9f3a\"],[0.8888888888888888,\"#fdca26\"],[1.0,\"#f0f921\"]],\"type\":\"heatmapgl\"}],\"histogram\":[{\"marker\":{\"pattern\":{\"fillmode\":\"overlay\",\"size\":10,\"solidity\":0.2}},\"type\":\"histogram\"}],\"histogram2d\":[{\"colorbar\":{\"outlinewidth\":0,\"ticks\":\"\"},\"colorscale\":[[0.0,\"#0d0887\"],[0.1111111111111111,\"#46039f\"],[0.2222222222222222,\"#7201a8\"],[0.3333333333333333,\"#9c179e\"],[0.4444444444444444,\"#bd3786\"],[0.5555555555555556,\"#d8576b\"],[0.6666666666666666,\"#ed7953\"],[0.7777777777777778,\"#fb9f3a\"],[0.8888888888888888,\"#fdca26\"],[1.0,\"#f0f921\"]],\"type\":\"histogram2d\"}],\"histogram2dcontour\":[{\"colorbar\":{\"outlinewidth\":0,\"ticks\":\"\"},\"colorscale\":[[0.0,\"#0d0887\"],[0.1111111111111111,\"#46039f\"],[0.2222222222222222,\"#7201a8\"],[0.3333333333333333,\"#9c179e\"],[0.4444444444444444,\"#bd3786\"],[0.5555555555555556,\"#d8576b\"],[0.6666666666666666,\"#ed7953\"],[0.7777777777777778,\"#fb9f3a\"],[0.8888888888888888,\"#fdca26\"],[1.0,\"#f0f921\"]],\"type\":\"histogram2dcontour\"}],\"mesh3d\":[{\"colorbar\":{\"outlinewidth\":0,\"ticks\":\"\"},\"type\":\"mesh3d\"}],\"parcoords\":[{\"line\":{\"colorbar\":{\"outlinewidth\":0,\"ticks\":\"\"}},\"type\":\"parcoords\"}],\"pie\":[{\"automargin\":true,\"type\":\"pie\"}],\"scatter\":[{\"marker\":{\"colorbar\":{\"outlinewidth\":0,\"ticks\":\"\"}},\"type\":\"scatter\"}],\"scatter3d\":[{\"line\":{\"colorbar\":{\"outlinewidth\":0,\"ticks\":\"\"}},\"marker\":{\"colorbar\":{\"outlinewidth\":0,\"ticks\":\"\"}},\"type\":\"scatter3d\"}],\"scattercarpet\":[{\"marker\":{\"colorbar\":{\"outlinewidth\":0,\"ticks\":\"\"}},\"type\":\"scattercarpet\"}],\"scattergeo\":[{\"marker\":{\"colorbar\":{\"outlinewidth\":0,\"ticks\":\"\"}},\"type\":\"scattergeo\"}],\"scattergl\":[{\"marker\":{\"colorbar\":{\"outlinewidth\":0,\"ticks\":\"\"}},\"type\":\"scattergl\"}],\"scattermapbox\":[{\"marker\":{\"colorbar\":{\"outlinewidth\":0,\"ticks\":\"\"}},\"type\":\"scattermapbox\"}],\"scatterpolar\":[{\"marker\":{\"colorbar\":{\"outlinewidth\":0,\"ticks\":\"\"}},\"type\":\"scatterpolar\"}],\"scatterpolargl\":[{\"marker\":{\"colorbar\":{\"outlinewidth\":0,\"ticks\":\"\"}},\"type\":\"scatterpolargl\"}],\"scatterternary\":[{\"marker\":{\"colorbar\":{\"outlinewidth\":0,\"ticks\":\"\"}},\"type\":\"scatterternary\"}],\"surface\":[{\"colorbar\":{\"outlinewidth\":0,\"ticks\":\"\"},\"colorscale\":[[0.0,\"#0d0887\"],[0.1111111111111111,\"#46039f\"],[0.2222222222222222,\"#7201a8\"],[0.3333333333333333,\"#9c179e\"],[0.4444444444444444,\"#bd3786\"],[0.5555555555555556,\"#d8576b\"],[0.6666666666666666,\"#ed7953\"],[0.7777777777777778,\"#fb9f3a\"],[0.8888888888888888,\"#fdca26\"],[1.0,\"#f0f921\"]],\"type\":\"surface\"}],\"table\":[{\"cells\":{\"fill\":{\"color\":\"#EBF0F8\"},\"line\":{\"color\":\"white\"}},\"header\":{\"fill\":{\"color\":\"#C8D4E3\"},\"line\":{\"color\":\"white\"}},\"type\":\"table\"}]},\"layout\":{\"annotationdefaults\":{\"arrowcolor\":\"#2a3f5f\",\"arrowhead\":0,\"arrowwidth\":1},\"autotypenumbers\":\"strict\",\"coloraxis\":{\"colorbar\":{\"outlinewidth\":0,\"ticks\":\"\"}},\"colorscale\":{\"diverging\":[[0,\"#8e0152\"],[0.1,\"#c51b7d\"],[0.2,\"#de77ae\"],[0.3,\"#f1b6da\"],[0.4,\"#fde0ef\"],[0.5,\"#f7f7f7\"],[0.6,\"#e6f5d0\"],[0.7,\"#b8e186\"],[0.8,\"#7fbc41\"],[0.9,\"#4d9221\"],[1,\"#276419\"]],\"sequential\":[[0.0,\"#0d0887\"],[0.1111111111111111,\"#46039f\"],[0.2222222222222222,\"#7201a8\"],[0.3333333333333333,\"#9c179e\"],[0.4444444444444444,\"#bd3786\"],[0.5555555555555556,\"#d8576b\"],[0.6666666666666666,\"#ed7953\"],[0.7777777777777778,\"#fb9f3a\"],[0.8888888888888888,\"#fdca26\"],[1.0,\"#f0f921\"]],\"sequentialminus\":[[0.0,\"#0d0887\"],[0.1111111111111111,\"#46039f\"],[0.2222222222222222,\"#7201a8\"],[0.3333333333333333,\"#9c179e\"],[0.4444444444444444,\"#bd3786\"],[0.5555555555555556,\"#d8576b\"],[0.6666666666666666,\"#ed7953\"],[0.7777777777777778,\"#fb9f3a\"],[0.8888888888888888,\"#fdca26\"],[1.0,\"#f0f921\"]]},\"colorway\":[\"#636efa\",\"#EF553B\",\"#00cc96\",\"#ab63fa\",\"#FFA15A\",\"#19d3f3\",\"#FF6692\",\"#B6E880\",\"#FF97FF\",\"#FECB52\"],\"font\":{\"color\":\"#2a3f5f\"},\"geo\":{\"bgcolor\":\"white\",\"lakecolor\":\"white\",\"landcolor\":\"#E5ECF6\",\"showlakes\":true,\"showland\":true,\"subunitcolor\":\"white\"},\"hoverlabel\":{\"align\":\"left\"},\"hovermode\":\"closest\",\"mapbox\":{\"style\":\"light\"},\"paper_bgcolor\":\"white\",\"plot_bgcolor\":\"#E5ECF6\",\"polar\":{\"angularaxis\":{\"gridcolor\":\"white\",\"linecolor\":\"white\",\"ticks\":\"\"},\"bgcolor\":\"#E5ECF6\",\"radialaxis\":{\"gridcolor\":\"white\",\"linecolor\":\"white\",\"ticks\":\"\"}},\"scene\":{\"xaxis\":{\"backgroundcolor\":\"#E5ECF6\",\"gridcolor\":\"white\",\"gridwidth\":2,\"linecolor\":\"white\",\"showbackground\":true,\"ticks\":\"\",\"zerolinecolor\":\"white\"},\"yaxis\":{\"backgroundcolor\":\"#E5ECF6\",\"gridcolor\":\"white\",\"gridwidth\":2,\"linecolor\":\"white\",\"showbackground\":true,\"ticks\":\"\",\"zerolinecolor\":\"white\"},\"zaxis\":{\"backgroundcolor\":\"#E5ECF6\",\"gridcolor\":\"white\",\"gridwidth\":2,\"linecolor\":\"white\",\"showbackground\":true,\"ticks\":\"\",\"zerolinecolor\":\"white\"}},\"shapedefaults\":{\"line\":{\"color\":\"#2a3f5f\"}},\"ternary\":{\"aaxis\":{\"gridcolor\":\"white\",\"linecolor\":\"white\",\"ticks\":\"\"},\"baxis\":{\"gridcolor\":\"white\",\"linecolor\":\"white\",\"ticks\":\"\"},\"bgcolor\":\"#E5ECF6\",\"caxis\":{\"gridcolor\":\"white\",\"linecolor\":\"white\",\"ticks\":\"\"}},\"title\":{\"x\":0.05},\"xaxis\":{\"automargin\":true,\"gridcolor\":\"white\",\"linecolor\":\"white\",\"ticks\":\"\",\"title\":{\"standoff\":15},\"zerolinecolor\":\"white\",\"zerolinewidth\":2},\"yaxis\":{\"automargin\":true,\"gridcolor\":\"white\",\"linecolor\":\"white\",\"ticks\":\"\",\"title\":{\"standoff\":15},\"zerolinecolor\":\"white\",\"zerolinewidth\":2}}},\"xaxis\":{\"anchor\":\"y\",\"domain\":[0.0,1.0],\"scaleanchor\":\"y\",\"constrain\":\"domain\",\"title\":{\"text\":\"layer\"}},\"yaxis\":{\"anchor\":\"x\",\"domain\":[0.0,1.0],\"autorange\":\"reversed\",\"constrain\":\"domain\",\"title\":{\"text\":\"head\"}},\"coloraxis\":{\"colorbar\":{\"title\":{\"text\":\"Logit difference\"}},\"colorscale\":[[0.0,\"rgb(103,0,31)\"],[0.1,\"rgb(178,24,43)\"],[0.2,\"rgb(214,96,77)\"],[0.3,\"rgb(244,165,130)\"],[0.4,\"rgb(253,219,199)\"],[0.5,\"rgb(247,247,247)\"],[0.6,\"rgb(209,229,240)\"],[0.7,\"rgb(146,197,222)\"],[0.8,\"rgb(67,147,195)\"],[0.9,\"rgb(33,102,172)\"],[1.0,\"rgb(5,48,97)\"]],\"cmid\":0.0},\"title\":{\"text\":\"Patching with Sarah / Hart / Alex\"},\"height\":380,\"width\":600},                        {\"responsive\": true}                    ).then(function(){\n",
              "                            \n",
              "var gd = document.getElementById('3b78e7f2-8732-4c54-b07f-98b4cec9299b');\n",
              "var x = new MutationObserver(function (mutations, observer) {{\n",
              "        var display = window.getComputedStyle(gd).display;\n",
              "        if (!display || display === 'none') {{\n",
              "            console.log([gd, 'removed!']);\n",
              "            Plotly.purge(gd);\n",
              "            observer.disconnect();\n",
              "        }}\n",
              "}});\n",
              "\n",
              "// Listen for the removal of the full notebook cells\n",
              "var notebookContainer = gd.closest('#notebook-container');\n",
              "if (notebookContainer) {{\n",
              "    x.observe(notebookContainer, {childList: true});\n",
              "}}\n",
              "\n",
              "// Listen for the clearing of the current output cell\n",
              "var outputEl = gd.closest('.output');\n",
              "if (outputEl) {{\n",
              "    x.observe(outputEl, {childList: true});\n",
              "}}\n",
              "\n",
              "                        })                };                            </script>        </div>\n",
              "</body>\n",
              "</html>"
            ]
          },
          "metadata": {}
        },
        {
          "output_type": "display_data",
          "data": {
            "text/html": [
              "<html>\n",
              "<head><meta charset=\"utf-8\" /></head>\n",
              "<body>\n",
              "    <div>            <script src=\"https://cdnjs.cloudflare.com/ajax/libs/mathjax/2.7.5/MathJax.js?config=TeX-AMS-MML_SVG\"></script><script type=\"text/javascript\">if (window.MathJax) {MathJax.Hub.Config({SVG: {font: \"STIX-Web\"}});}</script>                <script type=\"text/javascript\">window.PlotlyConfig = {MathJaxConfig: 'local'};</script>\n",
              "        <script src=\"https://cdn.plot.ly/plotly-2.8.3.min.js\"></script>                <div id=\"6563d7cd-3d76-4596-afd5-c6fe4133251d\" class=\"plotly-graph-div\" style=\"height:380px; width:600px;\"></div>            <script type=\"text/javascript\">                                    window.PLOTLYENV=window.PLOTLYENV || {};                                    if (document.getElementById(\"6563d7cd-3d76-4596-afd5-c6fe4133251d\")) {                    Plotly.newPlot(                        \"6563d7cd-3d76-4596-afd5-c6fe4133251d\",                        [{\"coloraxis\":\"coloraxis\",\"name\":\"0\",\"x\":[\"(layer  0)\",\"(layer  1)\"],\"y\":[\"(head  0)\",\"(head  1)\",\"(head  2)\",\"(head  3)\",\"(head  4)\",\"(head  5)\",\"(head  6)\",\"(head  7)\"],\"z\":[[8.758501052856445,8.559744834899902],[5.615339279174805,8.579911231994629],[8.505202293395996,8.746639251708984],[8.707050323486328,8.648324966430664],[8.722942352294922,8.723311424255371],[8.744368553161621,8.748735427856445],[8.94919204711914,3.8728275299072266],[8.767730712890625,8.797223091125488]],\"type\":\"heatmap\",\"xaxis\":\"x\",\"yaxis\":\"y\",\"hovertemplate\":\"layer: %{x}<br>head: %{y}<br>Logit difference: %{z}<extra></extra>\"}],                        {\"template\":{\"data\":{\"bar\":[{\"error_x\":{\"color\":\"#2a3f5f\"},\"error_y\":{\"color\":\"#2a3f5f\"},\"marker\":{\"line\":{\"color\":\"#E5ECF6\",\"width\":0.5},\"pattern\":{\"fillmode\":\"overlay\",\"size\":10,\"solidity\":0.2}},\"type\":\"bar\"}],\"barpolar\":[{\"marker\":{\"line\":{\"color\":\"#E5ECF6\",\"width\":0.5},\"pattern\":{\"fillmode\":\"overlay\",\"size\":10,\"solidity\":0.2}},\"type\":\"barpolar\"}],\"carpet\":[{\"aaxis\":{\"endlinecolor\":\"#2a3f5f\",\"gridcolor\":\"white\",\"linecolor\":\"white\",\"minorgridcolor\":\"white\",\"startlinecolor\":\"#2a3f5f\"},\"baxis\":{\"endlinecolor\":\"#2a3f5f\",\"gridcolor\":\"white\",\"linecolor\":\"white\",\"minorgridcolor\":\"white\",\"startlinecolor\":\"#2a3f5f\"},\"type\":\"carpet\"}],\"choropleth\":[{\"colorbar\":{\"outlinewidth\":0,\"ticks\":\"\"},\"type\":\"choropleth\"}],\"contour\":[{\"colorbar\":{\"outlinewidth\":0,\"ticks\":\"\"},\"colorscale\":[[0.0,\"#0d0887\"],[0.1111111111111111,\"#46039f\"],[0.2222222222222222,\"#7201a8\"],[0.3333333333333333,\"#9c179e\"],[0.4444444444444444,\"#bd3786\"],[0.5555555555555556,\"#d8576b\"],[0.6666666666666666,\"#ed7953\"],[0.7777777777777778,\"#fb9f3a\"],[0.8888888888888888,\"#fdca26\"],[1.0,\"#f0f921\"]],\"type\":\"contour\"}],\"contourcarpet\":[{\"colorbar\":{\"outlinewidth\":0,\"ticks\":\"\"},\"type\":\"contourcarpet\"}],\"heatmap\":[{\"colorbar\":{\"outlinewidth\":0,\"ticks\":\"\"},\"colorscale\":[[0.0,\"#0d0887\"],[0.1111111111111111,\"#46039f\"],[0.2222222222222222,\"#7201a8\"],[0.3333333333333333,\"#9c179e\"],[0.4444444444444444,\"#bd3786\"],[0.5555555555555556,\"#d8576b\"],[0.6666666666666666,\"#ed7953\"],[0.7777777777777778,\"#fb9f3a\"],[0.8888888888888888,\"#fdca26\"],[1.0,\"#f0f921\"]],\"type\":\"heatmap\"}],\"heatmapgl\":[{\"colorbar\":{\"outlinewidth\":0,\"ticks\":\"\"},\"colorscale\":[[0.0,\"#0d0887\"],[0.1111111111111111,\"#46039f\"],[0.2222222222222222,\"#7201a8\"],[0.3333333333333333,\"#9c179e\"],[0.4444444444444444,\"#bd3786\"],[0.5555555555555556,\"#d8576b\"],[0.6666666666666666,\"#ed7953\"],[0.7777777777777778,\"#fb9f3a\"],[0.8888888888888888,\"#fdca26\"],[1.0,\"#f0f921\"]],\"type\":\"heatmapgl\"}],\"histogram\":[{\"marker\":{\"pattern\":{\"fillmode\":\"overlay\",\"size\":10,\"solidity\":0.2}},\"type\":\"histogram\"}],\"histogram2d\":[{\"colorbar\":{\"outlinewidth\":0,\"ticks\":\"\"},\"colorscale\":[[0.0,\"#0d0887\"],[0.1111111111111111,\"#46039f\"],[0.2222222222222222,\"#7201a8\"],[0.3333333333333333,\"#9c179e\"],[0.4444444444444444,\"#bd3786\"],[0.5555555555555556,\"#d8576b\"],[0.6666666666666666,\"#ed7953\"],[0.7777777777777778,\"#fb9f3a\"],[0.8888888888888888,\"#fdca26\"],[1.0,\"#f0f921\"]],\"type\":\"histogram2d\"}],\"histogram2dcontour\":[{\"colorbar\":{\"outlinewidth\":0,\"ticks\":\"\"},\"colorscale\":[[0.0,\"#0d0887\"],[0.1111111111111111,\"#46039f\"],[0.2222222222222222,\"#7201a8\"],[0.3333333333333333,\"#9c179e\"],[0.4444444444444444,\"#bd3786\"],[0.5555555555555556,\"#d8576b\"],[0.6666666666666666,\"#ed7953\"],[0.7777777777777778,\"#fb9f3a\"],[0.8888888888888888,\"#fdca26\"],[1.0,\"#f0f921\"]],\"type\":\"histogram2dcontour\"}],\"mesh3d\":[{\"colorbar\":{\"outlinewidth\":0,\"ticks\":\"\"},\"type\":\"mesh3d\"}],\"parcoords\":[{\"line\":{\"colorbar\":{\"outlinewidth\":0,\"ticks\":\"\"}},\"type\":\"parcoords\"}],\"pie\":[{\"automargin\":true,\"type\":\"pie\"}],\"scatter\":[{\"marker\":{\"colorbar\":{\"outlinewidth\":0,\"ticks\":\"\"}},\"type\":\"scatter\"}],\"scatter3d\":[{\"line\":{\"colorbar\":{\"outlinewidth\":0,\"ticks\":\"\"}},\"marker\":{\"colorbar\":{\"outlinewidth\":0,\"ticks\":\"\"}},\"type\":\"scatter3d\"}],\"scattercarpet\":[{\"marker\":{\"colorbar\":{\"outlinewidth\":0,\"ticks\":\"\"}},\"type\":\"scattercarpet\"}],\"scattergeo\":[{\"marker\":{\"colorbar\":{\"outlinewidth\":0,\"ticks\":\"\"}},\"type\":\"scattergeo\"}],\"scattergl\":[{\"marker\":{\"colorbar\":{\"outlinewidth\":0,\"ticks\":\"\"}},\"type\":\"scattergl\"}],\"scattermapbox\":[{\"marker\":{\"colorbar\":{\"outlinewidth\":0,\"ticks\":\"\"}},\"type\":\"scattermapbox\"}],\"scatterpolar\":[{\"marker\":{\"colorbar\":{\"outlinewidth\":0,\"ticks\":\"\"}},\"type\":\"scatterpolar\"}],\"scatterpolargl\":[{\"marker\":{\"colorbar\":{\"outlinewidth\":0,\"ticks\":\"\"}},\"type\":\"scatterpolargl\"}],\"scatterternary\":[{\"marker\":{\"colorbar\":{\"outlinewidth\":0,\"ticks\":\"\"}},\"type\":\"scatterternary\"}],\"surface\":[{\"colorbar\":{\"outlinewidth\":0,\"ticks\":\"\"},\"colorscale\":[[0.0,\"#0d0887\"],[0.1111111111111111,\"#46039f\"],[0.2222222222222222,\"#7201a8\"],[0.3333333333333333,\"#9c179e\"],[0.4444444444444444,\"#bd3786\"],[0.5555555555555556,\"#d8576b\"],[0.6666666666666666,\"#ed7953\"],[0.7777777777777778,\"#fb9f3a\"],[0.8888888888888888,\"#fdca26\"],[1.0,\"#f0f921\"]],\"type\":\"surface\"}],\"table\":[{\"cells\":{\"fill\":{\"color\":\"#EBF0F8\"},\"line\":{\"color\":\"white\"}},\"header\":{\"fill\":{\"color\":\"#C8D4E3\"},\"line\":{\"color\":\"white\"}},\"type\":\"table\"}]},\"layout\":{\"annotationdefaults\":{\"arrowcolor\":\"#2a3f5f\",\"arrowhead\":0,\"arrowwidth\":1},\"autotypenumbers\":\"strict\",\"coloraxis\":{\"colorbar\":{\"outlinewidth\":0,\"ticks\":\"\"}},\"colorscale\":{\"diverging\":[[0,\"#8e0152\"],[0.1,\"#c51b7d\"],[0.2,\"#de77ae\"],[0.3,\"#f1b6da\"],[0.4,\"#fde0ef\"],[0.5,\"#f7f7f7\"],[0.6,\"#e6f5d0\"],[0.7,\"#b8e186\"],[0.8,\"#7fbc41\"],[0.9,\"#4d9221\"],[1,\"#276419\"]],\"sequential\":[[0.0,\"#0d0887\"],[0.1111111111111111,\"#46039f\"],[0.2222222222222222,\"#7201a8\"],[0.3333333333333333,\"#9c179e\"],[0.4444444444444444,\"#bd3786\"],[0.5555555555555556,\"#d8576b\"],[0.6666666666666666,\"#ed7953\"],[0.7777777777777778,\"#fb9f3a\"],[0.8888888888888888,\"#fdca26\"],[1.0,\"#f0f921\"]],\"sequentialminus\":[[0.0,\"#0d0887\"],[0.1111111111111111,\"#46039f\"],[0.2222222222222222,\"#7201a8\"],[0.3333333333333333,\"#9c179e\"],[0.4444444444444444,\"#bd3786\"],[0.5555555555555556,\"#d8576b\"],[0.6666666666666666,\"#ed7953\"],[0.7777777777777778,\"#fb9f3a\"],[0.8888888888888888,\"#fdca26\"],[1.0,\"#f0f921\"]]},\"colorway\":[\"#636efa\",\"#EF553B\",\"#00cc96\",\"#ab63fa\",\"#FFA15A\",\"#19d3f3\",\"#FF6692\",\"#B6E880\",\"#FF97FF\",\"#FECB52\"],\"font\":{\"color\":\"#2a3f5f\"},\"geo\":{\"bgcolor\":\"white\",\"lakecolor\":\"white\",\"landcolor\":\"#E5ECF6\",\"showlakes\":true,\"showland\":true,\"subunitcolor\":\"white\"},\"hoverlabel\":{\"align\":\"left\"},\"hovermode\":\"closest\",\"mapbox\":{\"style\":\"light\"},\"paper_bgcolor\":\"white\",\"plot_bgcolor\":\"#E5ECF6\",\"polar\":{\"angularaxis\":{\"gridcolor\":\"white\",\"linecolor\":\"white\",\"ticks\":\"\"},\"bgcolor\":\"#E5ECF6\",\"radialaxis\":{\"gridcolor\":\"white\",\"linecolor\":\"white\",\"ticks\":\"\"}},\"scene\":{\"xaxis\":{\"backgroundcolor\":\"#E5ECF6\",\"gridcolor\":\"white\",\"gridwidth\":2,\"linecolor\":\"white\",\"showbackground\":true,\"ticks\":\"\",\"zerolinecolor\":\"white\"},\"yaxis\":{\"backgroundcolor\":\"#E5ECF6\",\"gridcolor\":\"white\",\"gridwidth\":2,\"linecolor\":\"white\",\"showbackground\":true,\"ticks\":\"\",\"zerolinecolor\":\"white\"},\"zaxis\":{\"backgroundcolor\":\"#E5ECF6\",\"gridcolor\":\"white\",\"gridwidth\":2,\"linecolor\":\"white\",\"showbackground\":true,\"ticks\":\"\",\"zerolinecolor\":\"white\"}},\"shapedefaults\":{\"line\":{\"color\":\"#2a3f5f\"}},\"ternary\":{\"aaxis\":{\"gridcolor\":\"white\",\"linecolor\":\"white\",\"ticks\":\"\"},\"baxis\":{\"gridcolor\":\"white\",\"linecolor\":\"white\",\"ticks\":\"\"},\"bgcolor\":\"#E5ECF6\",\"caxis\":{\"gridcolor\":\"white\",\"linecolor\":\"white\",\"ticks\":\"\"}},\"title\":{\"x\":0.05},\"xaxis\":{\"automargin\":true,\"gridcolor\":\"white\",\"linecolor\":\"white\",\"ticks\":\"\",\"title\":{\"standoff\":15},\"zerolinecolor\":\"white\",\"zerolinewidth\":2},\"yaxis\":{\"automargin\":true,\"gridcolor\":\"white\",\"linecolor\":\"white\",\"ticks\":\"\",\"title\":{\"standoff\":15},\"zerolinecolor\":\"white\",\"zerolinewidth\":2}}},\"xaxis\":{\"anchor\":\"y\",\"domain\":[0.0,1.0],\"scaleanchor\":\"y\",\"constrain\":\"domain\",\"title\":{\"text\":\"layer\"}},\"yaxis\":{\"anchor\":\"x\",\"domain\":[0.0,1.0],\"autorange\":\"reversed\",\"constrain\":\"domain\",\"title\":{\"text\":\"head\"}},\"coloraxis\":{\"colorbar\":{\"title\":{\"text\":\"Logit difference\"}},\"colorscale\":[[0.0,\"rgb(103,0,31)\"],[0.1,\"rgb(178,24,43)\"],[0.2,\"rgb(214,96,77)\"],[0.3,\"rgb(244,165,130)\"],[0.4,\"rgb(253,219,199)\"],[0.5,\"rgb(247,247,247)\"],[0.6,\"rgb(209,229,240)\"],[0.7,\"rgb(146,197,222)\"],[0.8,\"rgb(67,147,195)\"],[0.9,\"rgb(33,102,172)\"],[1.0,\"rgb(5,48,97)\"]],\"cmid\":0.0},\"title\":{\"text\":\"Patching with Alex / Hart / Sarah\"},\"height\":380,\"width\":600},                        {\"responsive\": true}                    ).then(function(){\n",
              "                            \n",
              "var gd = document.getElementById('6563d7cd-3d76-4596-afd5-c6fe4133251d');\n",
              "var x = new MutationObserver(function (mutations, observer) {{\n",
              "        var display = window.getComputedStyle(gd).display;\n",
              "        if (!display || display === 'none') {{\n",
              "            console.log([gd, 'removed!']);\n",
              "            Plotly.purge(gd);\n",
              "            observer.disconnect();\n",
              "        }}\n",
              "}});\n",
              "\n",
              "// Listen for the removal of the full notebook cells\n",
              "var notebookContainer = gd.closest('#notebook-container');\n",
              "if (notebookContainer) {{\n",
              "    x.observe(notebookContainer, {childList: true});\n",
              "}}\n",
              "\n",
              "// Listen for the clearing of the current output cell\n",
              "var outputEl = gd.closest('.output');\n",
              "if (outputEl) {{\n",
              "    x.observe(outputEl, {childList: true});\n",
              "}}\n",
              "\n",
              "                        })                };                            </script>        </div>\n",
              "</body>\n",
              "</html>"
            ]
          },
          "metadata": {}
        }
      ],
      "source": [
        "model_2l.cfg.use_attn_result = True\n",
        "\n",
        "\n",
        "clean_prompt = \"Her name was Alex Hart. Tomorrow at lunch time Alex\"\n",
        "clean_tokens = model_2l.to_str_tokens(clean_prompt)\n",
        "\n",
        "# Indices of the right and wrong answers (lastnames) to judge what the model predicts\n",
        "clean_answer_index = model_2l.tokenizer.encode(\" Hart\")[0]\n",
        "corrupt_answer_index = model_2l.tokenizer.encode(\" Carroll\")[0]\n",
        "\n",
        "\n",
        "n_layers = model_2l.cfg.n_layers\n",
        "n_heads = model_2l.cfg.n_heads\n",
        "n_pos = len(clean_tokens)\n",
        "\n",
        "def patch_head_result(activations, hook, layer=None, head=None):\n",
        "   activations[:, :, head, :] = corrupt_cache[hook.name][:, :, head, :]\n",
        "   return activations\n",
        "\n",
        "\n",
        "\n",
        "for corrupt_prompt in [\"Her name was Alex Carroll. Tomorrow at lunch time Alex\",\n",
        "                       \"Her name was Sarah Hart. Tomorrow at lunch time Alex\",\n",
        "                       \"Her name was Alex Hart. Tomorrow at lunch time Sarah\"]:\n",
        "    corrupt_tokens = model_2l.to_str_tokens(corrupt_prompt)\n",
        "    _, corrupt_cache = model_2l.run_with_cache(corrupt_prompt)\n",
        "\n",
        "    patching_effect = torch.zeros(n_layers, n_heads)\n",
        "    for layer in range(n_layers):\n",
        "        for head in range(n_heads):\n",
        "           fwd_hooks = [(f\"blocks.{layer}.attn.hook_result\", partial(patch_head_result, layer=layer, head=head))]\n",
        "           prediction_logits = model_2l.run_with_hooks(clean_prompt, fwd_hooks=fwd_hooks)[0, -1]\n",
        "           patching_effect[layer, head] = prediction_logits[clean_answer_index] - prediction_logits[corrupt_answer_index]\n",
        "\n",
        "    # Plot\n",
        "    head_labels = [f\"(head {i:2})\" for i in range(n_heads)]\n",
        "    layer_labels = [f\"(layer {i:2})\" for i in range(n_layers)]\n",
        "\n",
        "    imshow(patching_effect.T, yticks=head_labels, xticks=layer_labels, ylabel=\"head\", xlabel=\"layer\",\n",
        "           zlabel=\"Logit difference\", title=f\"Patching with{corrupt_tokens[4]} /{corrupt_tokens[5]} /{corrupt_tokens[11]}\", width=600, height=380)\n"
      ]
    },
    {
      "cell_type": "code",
      "execution_count": null,
      "metadata": {
        "id": "7eHSFpx0U30Y"
      },
      "outputs": [],
      "source": []
    },
    {
      "cell_type": "markdown",
      "metadata": {
        "id": "zBQDrShsZswq"
      },
      "source": [
        "## Bonus"
      ]
    },
    {
      "cell_type": "code",
      "execution_count": null,
      "metadata": {
        "id": "RsxU0S9QZtfd"
      },
      "outputs": [],
      "source": [
        "clean_prompt = \"Her name was Alex Hart. Tomorrow at lunch time Alex\"\n",
        "#corrupt_prompt = \"Her name was Sarah Hart. Tomorrow at lunch time Alex\"\n",
        "#corrupt_prompt = \"Her name was Alex Hart. Tomorrow at lunch time Sarah\"\n",
        "corrupt_prompt = \"Her name was Alex Carroll. Tomorrow at lunch time Alex\"\n",
        "corrupt_tokens = model_2l.to_str_tokens(corrupt_prompt)\n",
        "clean_tokens = model_2l.to_str_tokens(clean_prompt)\n",
        "_, corrupt_cache = model_2l.run_with_cache(corrupt_prompt)\n",
        "\n",
        "clean_answer_index = model_2l.tokenizer.encode(\" Hart\")[0]\n",
        "corrupt_answer_index = model_2l.tokenizer.encode(\" Carroll\")[0]\n",
        "\n",
        "n_layers = model_2l.cfg.n_layers\n",
        "n_heads = model_2l.cfg.n_heads\n",
        "n_pos = len(clean_tokens)\n",
        "\n",
        "def patch_head_result(activations, hook, layer=None, head=None, pos=None):\n",
        "   activations[:, pos, head, :] = corrupt_cache[hook.name][:, pos, head, :]\n",
        "   return activations\n",
        "\n",
        "patching_effect = torch.zeros(n_layers*n_heads, n_pos)\n",
        "for layer in range(n_layers):\n",
        "    for head in range(n_heads):\n",
        "      for pos in range(n_pos):\n",
        "          fwd_hooks = [(f\"blocks.{layer}.attn.hook_result\", partial(patch_head_result, layer=layer, head=head, pos=pos))]\n",
        "          prediction_logits = model_2l.run_with_hooks(clean_prompt, fwd_hooks=fwd_hooks)[0, -1]\n",
        "          patching_effect[n_heads*layer+head, pos] = prediction_logits[clean_answer_index] - prediction_logits[corrupt_answer_index]"
      ]
    },
    {
      "cell_type": "code",
      "execution_count": null,
      "metadata": {
        "colab": {
          "base_uri": "https://localhost:8080/",
          "height": 817
        },
        "id": "nSe9g4jRZ6DH",
        "outputId": "0bf37e54-5503-4365-cb91-e9092e9548c2"
      },
      "outputs": [
        {
          "output_type": "display_data",
          "data": {
            "text/html": [
              "<html>\n",
              "<head><meta charset=\"utf-8\" /></head>\n",
              "<body>\n",
              "    <div>            <script src=\"https://cdnjs.cloudflare.com/ajax/libs/mathjax/2.7.5/MathJax.js?config=TeX-AMS-MML_SVG\"></script><script type=\"text/javascript\">if (window.MathJax) {MathJax.Hub.Config({SVG: {font: \"STIX-Web\"}});}</script>                <script type=\"text/javascript\">window.PlotlyConfig = {MathJaxConfig: 'local'};</script>\n",
              "        <script src=\"https://cdn.plot.ly/plotly-2.8.3.min.js\"></script>                <div id=\"02311955-04b6-4ba9-8575-d87949a5ae29\" class=\"plotly-graph-div\" style=\"height:800px; width:700px;\"></div>            <script type=\"text/javascript\">                                    window.PLOTLYENV=window.PLOTLYENV || {};                                    if (document.getElementById(\"02311955-04b6-4ba9-8575-d87949a5ae29\")) {                    Plotly.newPlot(                        \"02311955-04b6-4ba9-8575-d87949a5ae29\",                        [{\"coloraxis\":\"coloraxis\",\"name\":\"0\",\"x\":[\"(pos  0) <|BOS|>\",\"(pos  1) Her\",\"(pos  2)  name\",\"(pos  3)  was\",\"(pos  4)  Alex\",\"(pos  5)  Hart\",\"(pos  6) .\",\"(pos  7)  Tomorrow\",\"(pos  8)  at\",\"(pos  9)  lunch\",\"(pos 10)  time\",\"(pos 11)  Alex\"],\"y\":[\"0.0\",\"0.1\",\"0.2\",\"0.3\",\"0.4\",\"0.5\",\"0.6\",\"0.7\",\"1.0\",\"1.1\",\"1.2\",\"1.3\",\"1.4\",\"1.5\",\"1.6\",\"1.7\"],\"z\":[[8.731978416442871,8.731978416442871,8.731978416442871,8.731978416442871,8.731978416442871,8.588034629821777,8.73189640045166,8.730173110961914,8.727815628051758,8.730642318725586,8.732551574707031,8.76315975189209],[8.731978416442871,8.731978416442871,8.731978416442871,8.731978416442871,8.731978416442871,8.477357864379883,8.73204231262207,8.7320556640625,8.731956481933594,8.732278823852539,8.732050895690918,8.731810569763184],[8.731978416442871,8.731978416442871,8.731978416442871,8.731978416442871,8.731978416442871,8.660871505737305,8.769929885864258,8.737985610961914,8.729422569274902,8.732022285461426,8.732035636901855,8.733994483947754],[8.731978416442871,8.731978416442871,8.731978416442871,8.731978416442871,8.731978416442871,8.720516204833984,8.719009399414062,8.724708557128906,8.731131553649902,8.729989051818848,8.731515884399414,8.761363983154297],[8.731978416442871,8.731978416442871,8.731978416442871,8.731978416442871,8.731978416442871,8.743030548095703,8.737074851989746,8.730338096618652,8.737125396728516,8.730273246765137,8.731512069702148,8.728466033935547],[8.731978416442871,8.731978416442871,8.731978416442871,8.731978416442871,8.731978416442871,8.650151252746582,8.710694313049316,8.771507263183594,8.74116325378418,8.729321479797363,8.73024845123291,8.745831489562988],[8.731978416442871,8.731978416442871,8.731978416442871,8.731978416442871,8.731978416442871,8.539122581481934,8.677690505981445,8.717058181762695,8.730011940002441,8.726890563964844,8.729918479919434,8.614324569702148],[8.731978416442871,8.731978416442871,8.731978416442871,8.731978416442871,8.731978416442871,8.731287002563477,8.724584579467773,8.734025955200195,8.731935501098633,8.732015609741211,8.731947898864746,8.73166561126709],[8.731978416442871,8.731978416442871,8.731978416442871,8.731978416442871,8.731978416442871,8.731978416442871,8.731978416442871,8.731978416442871,8.731978416442871,8.731978416442871,8.731978416442871,8.764363288879395],[8.731978416442871,8.731978416442871,8.731978416442871,8.731978416442871,8.731978416442871,8.731978416442871,8.731978416442871,8.731978416442871,8.731978416442871,8.731978416442871,8.731978416442871,7.4033966064453125],[8.731978416442871,8.731978416442871,8.731978416442871,8.731978416442871,8.731978416442871,8.731978416442871,8.731978416442871,8.731978416442871,8.731978416442871,8.731978416442871,8.731978416442871,8.73929214477539],[8.731978416442871,8.731978416442871,8.731978416442871,8.731978416442871,8.731978416442871,8.731978416442871,8.731978416442871,8.731978416442871,8.731978416442871,8.731978416442871,8.731978416442871,8.705284118652344],[8.731978416442871,8.731978416442871,8.731978416442871,8.731978416442871,8.731978416442871,8.731978416442871,8.731978416442871,8.731978416442871,8.731978416442871,8.731978416442871,8.731978416442871,8.454391479492188],[8.731978416442871,8.731978416442871,8.731978416442871,8.731978416442871,8.731978416442871,8.731978416442871,8.731978416442871,8.731978416442871,8.731978416442871,8.731978416442871,8.731978416442871,8.847054481506348],[8.731978416442871,8.731978416442871,8.731978416442871,8.731978416442871,8.731978416442871,8.731978416442871,8.731978416442871,8.731978416442871,8.731978416442871,8.731978416442871,8.731978416442871,-4.535637855529785],[8.731978416442871,8.731978416442871,8.731978416442871,8.731978416442871,8.731978416442871,8.731978416442871,8.731978416442871,8.731978416442871,8.731978416442871,8.731978416442871,8.731978416442871,8.78610610961914]],\"type\":\"heatmap\",\"xaxis\":\"x\",\"yaxis\":\"y\",\"hovertemplate\":\"position: %{x}<br>layer.head: %{y}<br>Logit difference: %{z}<extra></extra>\"}],                        {\"template\":{\"data\":{\"bar\":[{\"error_x\":{\"color\":\"#2a3f5f\"},\"error_y\":{\"color\":\"#2a3f5f\"},\"marker\":{\"line\":{\"color\":\"#E5ECF6\",\"width\":0.5},\"pattern\":{\"fillmode\":\"overlay\",\"size\":10,\"solidity\":0.2}},\"type\":\"bar\"}],\"barpolar\":[{\"marker\":{\"line\":{\"color\":\"#E5ECF6\",\"width\":0.5},\"pattern\":{\"fillmode\":\"overlay\",\"size\":10,\"solidity\":0.2}},\"type\":\"barpolar\"}],\"carpet\":[{\"aaxis\":{\"endlinecolor\":\"#2a3f5f\",\"gridcolor\":\"white\",\"linecolor\":\"white\",\"minorgridcolor\":\"white\",\"startlinecolor\":\"#2a3f5f\"},\"baxis\":{\"endlinecolor\":\"#2a3f5f\",\"gridcolor\":\"white\",\"linecolor\":\"white\",\"minorgridcolor\":\"white\",\"startlinecolor\":\"#2a3f5f\"},\"type\":\"carpet\"}],\"choropleth\":[{\"colorbar\":{\"outlinewidth\":0,\"ticks\":\"\"},\"type\":\"choropleth\"}],\"contour\":[{\"colorbar\":{\"outlinewidth\":0,\"ticks\":\"\"},\"colorscale\":[[0.0,\"#0d0887\"],[0.1111111111111111,\"#46039f\"],[0.2222222222222222,\"#7201a8\"],[0.3333333333333333,\"#9c179e\"],[0.4444444444444444,\"#bd3786\"],[0.5555555555555556,\"#d8576b\"],[0.6666666666666666,\"#ed7953\"],[0.7777777777777778,\"#fb9f3a\"],[0.8888888888888888,\"#fdca26\"],[1.0,\"#f0f921\"]],\"type\":\"contour\"}],\"contourcarpet\":[{\"colorbar\":{\"outlinewidth\":0,\"ticks\":\"\"},\"type\":\"contourcarpet\"}],\"heatmap\":[{\"colorbar\":{\"outlinewidth\":0,\"ticks\":\"\"},\"colorscale\":[[0.0,\"#0d0887\"],[0.1111111111111111,\"#46039f\"],[0.2222222222222222,\"#7201a8\"],[0.3333333333333333,\"#9c179e\"],[0.4444444444444444,\"#bd3786\"],[0.5555555555555556,\"#d8576b\"],[0.6666666666666666,\"#ed7953\"],[0.7777777777777778,\"#fb9f3a\"],[0.8888888888888888,\"#fdca26\"],[1.0,\"#f0f921\"]],\"type\":\"heatmap\"}],\"heatmapgl\":[{\"colorbar\":{\"outlinewidth\":0,\"ticks\":\"\"},\"colorscale\":[[0.0,\"#0d0887\"],[0.1111111111111111,\"#46039f\"],[0.2222222222222222,\"#7201a8\"],[0.3333333333333333,\"#9c179e\"],[0.4444444444444444,\"#bd3786\"],[0.5555555555555556,\"#d8576b\"],[0.6666666666666666,\"#ed7953\"],[0.7777777777777778,\"#fb9f3a\"],[0.8888888888888888,\"#fdca26\"],[1.0,\"#f0f921\"]],\"type\":\"heatmapgl\"}],\"histogram\":[{\"marker\":{\"pattern\":{\"fillmode\":\"overlay\",\"size\":10,\"solidity\":0.2}},\"type\":\"histogram\"}],\"histogram2d\":[{\"colorbar\":{\"outlinewidth\":0,\"ticks\":\"\"},\"colorscale\":[[0.0,\"#0d0887\"],[0.1111111111111111,\"#46039f\"],[0.2222222222222222,\"#7201a8\"],[0.3333333333333333,\"#9c179e\"],[0.4444444444444444,\"#bd3786\"],[0.5555555555555556,\"#d8576b\"],[0.6666666666666666,\"#ed7953\"],[0.7777777777777778,\"#fb9f3a\"],[0.8888888888888888,\"#fdca26\"],[1.0,\"#f0f921\"]],\"type\":\"histogram2d\"}],\"histogram2dcontour\":[{\"colorbar\":{\"outlinewidth\":0,\"ticks\":\"\"},\"colorscale\":[[0.0,\"#0d0887\"],[0.1111111111111111,\"#46039f\"],[0.2222222222222222,\"#7201a8\"],[0.3333333333333333,\"#9c179e\"],[0.4444444444444444,\"#bd3786\"],[0.5555555555555556,\"#d8576b\"],[0.6666666666666666,\"#ed7953\"],[0.7777777777777778,\"#fb9f3a\"],[0.8888888888888888,\"#fdca26\"],[1.0,\"#f0f921\"]],\"type\":\"histogram2dcontour\"}],\"mesh3d\":[{\"colorbar\":{\"outlinewidth\":0,\"ticks\":\"\"},\"type\":\"mesh3d\"}],\"parcoords\":[{\"line\":{\"colorbar\":{\"outlinewidth\":0,\"ticks\":\"\"}},\"type\":\"parcoords\"}],\"pie\":[{\"automargin\":true,\"type\":\"pie\"}],\"scatter\":[{\"marker\":{\"colorbar\":{\"outlinewidth\":0,\"ticks\":\"\"}},\"type\":\"scatter\"}],\"scatter3d\":[{\"line\":{\"colorbar\":{\"outlinewidth\":0,\"ticks\":\"\"}},\"marker\":{\"colorbar\":{\"outlinewidth\":0,\"ticks\":\"\"}},\"type\":\"scatter3d\"}],\"scattercarpet\":[{\"marker\":{\"colorbar\":{\"outlinewidth\":0,\"ticks\":\"\"}},\"type\":\"scattercarpet\"}],\"scattergeo\":[{\"marker\":{\"colorbar\":{\"outlinewidth\":0,\"ticks\":\"\"}},\"type\":\"scattergeo\"}],\"scattergl\":[{\"marker\":{\"colorbar\":{\"outlinewidth\":0,\"ticks\":\"\"}},\"type\":\"scattergl\"}],\"scattermapbox\":[{\"marker\":{\"colorbar\":{\"outlinewidth\":0,\"ticks\":\"\"}},\"type\":\"scattermapbox\"}],\"scatterpolar\":[{\"marker\":{\"colorbar\":{\"outlinewidth\":0,\"ticks\":\"\"}},\"type\":\"scatterpolar\"}],\"scatterpolargl\":[{\"marker\":{\"colorbar\":{\"outlinewidth\":0,\"ticks\":\"\"}},\"type\":\"scatterpolargl\"}],\"scatterternary\":[{\"marker\":{\"colorbar\":{\"outlinewidth\":0,\"ticks\":\"\"}},\"type\":\"scatterternary\"}],\"surface\":[{\"colorbar\":{\"outlinewidth\":0,\"ticks\":\"\"},\"colorscale\":[[0.0,\"#0d0887\"],[0.1111111111111111,\"#46039f\"],[0.2222222222222222,\"#7201a8\"],[0.3333333333333333,\"#9c179e\"],[0.4444444444444444,\"#bd3786\"],[0.5555555555555556,\"#d8576b\"],[0.6666666666666666,\"#ed7953\"],[0.7777777777777778,\"#fb9f3a\"],[0.8888888888888888,\"#fdca26\"],[1.0,\"#f0f921\"]],\"type\":\"surface\"}],\"table\":[{\"cells\":{\"fill\":{\"color\":\"#EBF0F8\"},\"line\":{\"color\":\"white\"}},\"header\":{\"fill\":{\"color\":\"#C8D4E3\"},\"line\":{\"color\":\"white\"}},\"type\":\"table\"}]},\"layout\":{\"annotationdefaults\":{\"arrowcolor\":\"#2a3f5f\",\"arrowhead\":0,\"arrowwidth\":1},\"autotypenumbers\":\"strict\",\"coloraxis\":{\"colorbar\":{\"outlinewidth\":0,\"ticks\":\"\"}},\"colorscale\":{\"diverging\":[[0,\"#8e0152\"],[0.1,\"#c51b7d\"],[0.2,\"#de77ae\"],[0.3,\"#f1b6da\"],[0.4,\"#fde0ef\"],[0.5,\"#f7f7f7\"],[0.6,\"#e6f5d0\"],[0.7,\"#b8e186\"],[0.8,\"#7fbc41\"],[0.9,\"#4d9221\"],[1,\"#276419\"]],\"sequential\":[[0.0,\"#0d0887\"],[0.1111111111111111,\"#46039f\"],[0.2222222222222222,\"#7201a8\"],[0.3333333333333333,\"#9c179e\"],[0.4444444444444444,\"#bd3786\"],[0.5555555555555556,\"#d8576b\"],[0.6666666666666666,\"#ed7953\"],[0.7777777777777778,\"#fb9f3a\"],[0.8888888888888888,\"#fdca26\"],[1.0,\"#f0f921\"]],\"sequentialminus\":[[0.0,\"#0d0887\"],[0.1111111111111111,\"#46039f\"],[0.2222222222222222,\"#7201a8\"],[0.3333333333333333,\"#9c179e\"],[0.4444444444444444,\"#bd3786\"],[0.5555555555555556,\"#d8576b\"],[0.6666666666666666,\"#ed7953\"],[0.7777777777777778,\"#fb9f3a\"],[0.8888888888888888,\"#fdca26\"],[1.0,\"#f0f921\"]]},\"colorway\":[\"#636efa\",\"#EF553B\",\"#00cc96\",\"#ab63fa\",\"#FFA15A\",\"#19d3f3\",\"#FF6692\",\"#B6E880\",\"#FF97FF\",\"#FECB52\"],\"font\":{\"color\":\"#2a3f5f\"},\"geo\":{\"bgcolor\":\"white\",\"lakecolor\":\"white\",\"landcolor\":\"#E5ECF6\",\"showlakes\":true,\"showland\":true,\"subunitcolor\":\"white\"},\"hoverlabel\":{\"align\":\"left\"},\"hovermode\":\"closest\",\"mapbox\":{\"style\":\"light\"},\"paper_bgcolor\":\"white\",\"plot_bgcolor\":\"#E5ECF6\",\"polar\":{\"angularaxis\":{\"gridcolor\":\"white\",\"linecolor\":\"white\",\"ticks\":\"\"},\"bgcolor\":\"#E5ECF6\",\"radialaxis\":{\"gridcolor\":\"white\",\"linecolor\":\"white\",\"ticks\":\"\"}},\"scene\":{\"xaxis\":{\"backgroundcolor\":\"#E5ECF6\",\"gridcolor\":\"white\",\"gridwidth\":2,\"linecolor\":\"white\",\"showbackground\":true,\"ticks\":\"\",\"zerolinecolor\":\"white\"},\"yaxis\":{\"backgroundcolor\":\"#E5ECF6\",\"gridcolor\":\"white\",\"gridwidth\":2,\"linecolor\":\"white\",\"showbackground\":true,\"ticks\":\"\",\"zerolinecolor\":\"white\"},\"zaxis\":{\"backgroundcolor\":\"#E5ECF6\",\"gridcolor\":\"white\",\"gridwidth\":2,\"linecolor\":\"white\",\"showbackground\":true,\"ticks\":\"\",\"zerolinecolor\":\"white\"}},\"shapedefaults\":{\"line\":{\"color\":\"#2a3f5f\"}},\"ternary\":{\"aaxis\":{\"gridcolor\":\"white\",\"linecolor\":\"white\",\"ticks\":\"\"},\"baxis\":{\"gridcolor\":\"white\",\"linecolor\":\"white\",\"ticks\":\"\"},\"bgcolor\":\"#E5ECF6\",\"caxis\":{\"gridcolor\":\"white\",\"linecolor\":\"white\",\"ticks\":\"\"}},\"title\":{\"x\":0.05},\"xaxis\":{\"automargin\":true,\"gridcolor\":\"white\",\"linecolor\":\"white\",\"ticks\":\"\",\"title\":{\"standoff\":15},\"zerolinecolor\":\"white\",\"zerolinewidth\":2},\"yaxis\":{\"automargin\":true,\"gridcolor\":\"white\",\"linecolor\":\"white\",\"ticks\":\"\",\"title\":{\"standoff\":15},\"zerolinecolor\":\"white\",\"zerolinewidth\":2}}},\"xaxis\":{\"anchor\":\"y\",\"domain\":[0.0,1.0],\"scaleanchor\":\"y\",\"constrain\":\"domain\",\"title\":{\"text\":\"position\"}},\"yaxis\":{\"anchor\":\"x\",\"domain\":[0.0,1.0],\"autorange\":\"reversed\",\"constrain\":\"domain\",\"title\":{\"text\":\"layer.head\"}},\"coloraxis\":{\"colorbar\":{\"title\":{\"text\":\"Logit difference\"}},\"colorscale\":[[0.0,\"rgb(103,0,31)\"],[0.1,\"rgb(178,24,43)\"],[0.2,\"rgb(214,96,77)\"],[0.3,\"rgb(244,165,130)\"],[0.4,\"rgb(253,219,199)\"],[0.5,\"rgb(247,247,247)\"],[0.6,\"rgb(209,229,240)\"],[0.7,\"rgb(146,197,222)\"],[0.8,\"rgb(67,147,195)\"],[0.9,\"rgb(33,102,172)\"],[1.0,\"rgb(5,48,97)\"]],\"cmid\":0.0},\"title\":{\"text\":\"Patching with Alex / Carroll / Alex\"},\"height\":800,\"width\":700},                        {\"responsive\": true}                    ).then(function(){\n",
              "                            \n",
              "var gd = document.getElementById('02311955-04b6-4ba9-8575-d87949a5ae29');\n",
              "var x = new MutationObserver(function (mutations, observer) {{\n",
              "        var display = window.getComputedStyle(gd).display;\n",
              "        if (!display || display === 'none') {{\n",
              "            console.log([gd, 'removed!']);\n",
              "            Plotly.purge(gd);\n",
              "            observer.disconnect();\n",
              "        }}\n",
              "}});\n",
              "\n",
              "// Listen for the removal of the full notebook cells\n",
              "var notebookContainer = gd.closest('#notebook-container');\n",
              "if (notebookContainer) {{\n",
              "    x.observe(notebookContainer, {childList: true});\n",
              "}}\n",
              "\n",
              "// Listen for the clearing of the current output cell\n",
              "var outputEl = gd.closest('.output');\n",
              "if (outputEl) {{\n",
              "    x.observe(outputEl, {childList: true});\n",
              "}}\n",
              "\n",
              "                        })                };                            </script>        </div>\n",
              "</body>\n",
              "</html>"
            ]
          },
          "metadata": {}
        }
      ],
      "source": [
        "# Plot\n",
        "token_labels = [f\"(pos {i:2}) {t}\" for i, t in enumerate(clean_tokens)]\n",
        "layerhead_labels = [f\"{l}.{h}\" for l in range(n_layers) for h in range(n_heads)]\n",
        "imshow(patching_effect, xticks=token_labels, yticks=layerhead_labels, xlabel=\"position\", ylabel=\"layer.head\",\n",
        "           zlabel=\"Logit difference\", title=f\"Patching with{corrupt_tokens[4]} /{corrupt_tokens[5]} /{corrupt_tokens[11]}\", width=700, height=800)\n",
        "\n"
      ]
    },
    {
      "cell_type": "code",
      "execution_count": null,
      "metadata": {
        "colab": {
          "base_uri": "https://localhost:8080/",
          "height": 1000
        },
        "id": "QNOLpF76anGr",
        "outputId": "2f79d0ed-9e79-4615-ea1f-80e5bc7d0314"
      },
      "outputs": [
        {
          "output_type": "display_data",
          "data": {
            "text/html": [
              "<html>\n",
              "<head><meta charset=\"utf-8\" /></head>\n",
              "<body>\n",
              "    <div>            <script src=\"https://cdnjs.cloudflare.com/ajax/libs/mathjax/2.7.5/MathJax.js?config=TeX-AMS-MML_SVG\"></script><script type=\"text/javascript\">if (window.MathJax) {MathJax.Hub.Config({SVG: {font: \"STIX-Web\"}});}</script>                <script type=\"text/javascript\">window.PlotlyConfig = {MathJaxConfig: 'local'};</script>\n",
              "        <script src=\"https://cdn.plot.ly/plotly-2.8.3.min.js\"></script>                <div id=\"37e52efe-28f0-4644-80d2-3e5873104ea1\" class=\"plotly-graph-div\" style=\"height:500px; width:500px;\"></div>            <script type=\"text/javascript\">                                    window.PLOTLYENV=window.PLOTLYENV || {};                                    if (document.getElementById(\"37e52efe-28f0-4644-80d2-3e5873104ea1\")) {                    Plotly.newPlot(                        \"37e52efe-28f0-4644-80d2-3e5873104ea1\",                        [{\"coloraxis\":\"coloraxis\",\"name\":\"0\",\"x\":[\"(pos  0) <|BOS|>\",\"(pos  1) Her\",\"(pos  2)  name\",\"(pos  3)  was\",\"(pos  4)  Alex\",\"(pos  5)  Hart\",\"(pos  6) .\",\"(pos  7)  Tomorrow\",\"(pos  8)  at\",\"(pos  9)  lunch\",\"(pos 10)  time\",\"(pos 11)  Alex\"],\"y\":[\"0.0\",\"0.1\",\"0.2\",\"0.3\",\"0.4\",\"0.5\",\"0.6\",\"0.7\",\"1.0\",\"1.1\",\"1.2\",\"1.3\",\"1.4\",\"1.5\",\"1.6\",\"1.7\"],\"z\":[[8.731978416442871,8.731978416442871,8.731978416442871,8.731978416442871,8.731978416442871,8.588034629821777,8.73189640045166,8.730173110961914,8.727815628051758,8.730642318725586,8.732551574707031,8.76315975189209],[8.731978416442871,8.731978416442871,8.731978416442871,8.731978416442871,8.731978416442871,8.477357864379883,8.73204231262207,8.7320556640625,8.731956481933594,8.732278823852539,8.732050895690918,8.731810569763184],[8.731978416442871,8.731978416442871,8.731978416442871,8.731978416442871,8.731978416442871,8.660871505737305,8.769929885864258,8.737985610961914,8.729422569274902,8.732022285461426,8.732035636901855,8.733994483947754],[8.731978416442871,8.731978416442871,8.731978416442871,8.731978416442871,8.731978416442871,8.720516204833984,8.719009399414062,8.724708557128906,8.731131553649902,8.729989051818848,8.731515884399414,8.761363983154297],[8.731978416442871,8.731978416442871,8.731978416442871,8.731978416442871,8.731978416442871,8.743030548095703,8.737074851989746,8.730338096618652,8.737125396728516,8.730273246765137,8.731512069702148,8.728466033935547],[8.731978416442871,8.731978416442871,8.731978416442871,8.731978416442871,8.731978416442871,8.650151252746582,8.710694313049316,8.771507263183594,8.74116325378418,8.729321479797363,8.73024845123291,8.745831489562988],[8.731978416442871,8.731978416442871,8.731978416442871,8.731978416442871,8.731978416442871,8.539122581481934,8.677690505981445,8.717058181762695,8.730011940002441,8.726890563964844,8.729918479919434,8.614324569702148],[8.731978416442871,8.731978416442871,8.731978416442871,8.731978416442871,8.731978416442871,8.731287002563477,8.724584579467773,8.734025955200195,8.731935501098633,8.732015609741211,8.731947898864746,8.73166561126709],[8.731978416442871,8.731978416442871,8.731978416442871,8.731978416442871,8.731978416442871,8.731978416442871,8.731978416442871,8.731978416442871,8.731978416442871,8.731978416442871,8.731978416442871,8.764363288879395],[8.731978416442871,8.731978416442871,8.731978416442871,8.731978416442871,8.731978416442871,8.731978416442871,8.731978416442871,8.731978416442871,8.731978416442871,8.731978416442871,8.731978416442871,7.4033966064453125],[8.731978416442871,8.731978416442871,8.731978416442871,8.731978416442871,8.731978416442871,8.731978416442871,8.731978416442871,8.731978416442871,8.731978416442871,8.731978416442871,8.731978416442871,8.73929214477539],[8.731978416442871,8.731978416442871,8.731978416442871,8.731978416442871,8.731978416442871,8.731978416442871,8.731978416442871,8.731978416442871,8.731978416442871,8.731978416442871,8.731978416442871,8.705284118652344],[8.731978416442871,8.731978416442871,8.731978416442871,8.731978416442871,8.731978416442871,8.731978416442871,8.731978416442871,8.731978416442871,8.731978416442871,8.731978416442871,8.731978416442871,8.454391479492188],[8.731978416442871,8.731978416442871,8.731978416442871,8.731978416442871,8.731978416442871,8.731978416442871,8.731978416442871,8.731978416442871,8.731978416442871,8.731978416442871,8.731978416442871,8.847054481506348],[8.731978416442871,8.731978416442871,8.731978416442871,8.731978416442871,8.731978416442871,8.731978416442871,8.731978416442871,8.731978416442871,8.731978416442871,8.731978416442871,8.731978416442871,-4.535637855529785],[8.731978416442871,8.731978416442871,8.731978416442871,8.731978416442871,8.731978416442871,8.731978416442871,8.731978416442871,8.731978416442871,8.731978416442871,8.731978416442871,8.731978416442871,8.78610610961914]],\"type\":\"heatmap\",\"xaxis\":\"x\",\"yaxis\":\"y\",\"hovertemplate\":\"position: %{x}<br>layer.head: %{y}<br>Logit difference: %{z}<extra></extra>\"}],                        {\"template\":{\"data\":{\"bar\":[{\"error_x\":{\"color\":\"#2a3f5f\"},\"error_y\":{\"color\":\"#2a3f5f\"},\"marker\":{\"line\":{\"color\":\"#E5ECF6\",\"width\":0.5},\"pattern\":{\"fillmode\":\"overlay\",\"size\":10,\"solidity\":0.2}},\"type\":\"bar\"}],\"barpolar\":[{\"marker\":{\"line\":{\"color\":\"#E5ECF6\",\"width\":0.5},\"pattern\":{\"fillmode\":\"overlay\",\"size\":10,\"solidity\":0.2}},\"type\":\"barpolar\"}],\"carpet\":[{\"aaxis\":{\"endlinecolor\":\"#2a3f5f\",\"gridcolor\":\"white\",\"linecolor\":\"white\",\"minorgridcolor\":\"white\",\"startlinecolor\":\"#2a3f5f\"},\"baxis\":{\"endlinecolor\":\"#2a3f5f\",\"gridcolor\":\"white\",\"linecolor\":\"white\",\"minorgridcolor\":\"white\",\"startlinecolor\":\"#2a3f5f\"},\"type\":\"carpet\"}],\"choropleth\":[{\"colorbar\":{\"outlinewidth\":0,\"ticks\":\"\"},\"type\":\"choropleth\"}],\"contour\":[{\"colorbar\":{\"outlinewidth\":0,\"ticks\":\"\"},\"colorscale\":[[0.0,\"#0d0887\"],[0.1111111111111111,\"#46039f\"],[0.2222222222222222,\"#7201a8\"],[0.3333333333333333,\"#9c179e\"],[0.4444444444444444,\"#bd3786\"],[0.5555555555555556,\"#d8576b\"],[0.6666666666666666,\"#ed7953\"],[0.7777777777777778,\"#fb9f3a\"],[0.8888888888888888,\"#fdca26\"],[1.0,\"#f0f921\"]],\"type\":\"contour\"}],\"contourcarpet\":[{\"colorbar\":{\"outlinewidth\":0,\"ticks\":\"\"},\"type\":\"contourcarpet\"}],\"heatmap\":[{\"colorbar\":{\"outlinewidth\":0,\"ticks\":\"\"},\"colorscale\":[[0.0,\"#0d0887\"],[0.1111111111111111,\"#46039f\"],[0.2222222222222222,\"#7201a8\"],[0.3333333333333333,\"#9c179e\"],[0.4444444444444444,\"#bd3786\"],[0.5555555555555556,\"#d8576b\"],[0.6666666666666666,\"#ed7953\"],[0.7777777777777778,\"#fb9f3a\"],[0.8888888888888888,\"#fdca26\"],[1.0,\"#f0f921\"]],\"type\":\"heatmap\"}],\"heatmapgl\":[{\"colorbar\":{\"outlinewidth\":0,\"ticks\":\"\"},\"colorscale\":[[0.0,\"#0d0887\"],[0.1111111111111111,\"#46039f\"],[0.2222222222222222,\"#7201a8\"],[0.3333333333333333,\"#9c179e\"],[0.4444444444444444,\"#bd3786\"],[0.5555555555555556,\"#d8576b\"],[0.6666666666666666,\"#ed7953\"],[0.7777777777777778,\"#fb9f3a\"],[0.8888888888888888,\"#fdca26\"],[1.0,\"#f0f921\"]],\"type\":\"heatmapgl\"}],\"histogram\":[{\"marker\":{\"pattern\":{\"fillmode\":\"overlay\",\"size\":10,\"solidity\":0.2}},\"type\":\"histogram\"}],\"histogram2d\":[{\"colorbar\":{\"outlinewidth\":0,\"ticks\":\"\"},\"colorscale\":[[0.0,\"#0d0887\"],[0.1111111111111111,\"#46039f\"],[0.2222222222222222,\"#7201a8\"],[0.3333333333333333,\"#9c179e\"],[0.4444444444444444,\"#bd3786\"],[0.5555555555555556,\"#d8576b\"],[0.6666666666666666,\"#ed7953\"],[0.7777777777777778,\"#fb9f3a\"],[0.8888888888888888,\"#fdca26\"],[1.0,\"#f0f921\"]],\"type\":\"histogram2d\"}],\"histogram2dcontour\":[{\"colorbar\":{\"outlinewidth\":0,\"ticks\":\"\"},\"colorscale\":[[0.0,\"#0d0887\"],[0.1111111111111111,\"#46039f\"],[0.2222222222222222,\"#7201a8\"],[0.3333333333333333,\"#9c179e\"],[0.4444444444444444,\"#bd3786\"],[0.5555555555555556,\"#d8576b\"],[0.6666666666666666,\"#ed7953\"],[0.7777777777777778,\"#fb9f3a\"],[0.8888888888888888,\"#fdca26\"],[1.0,\"#f0f921\"]],\"type\":\"histogram2dcontour\"}],\"mesh3d\":[{\"colorbar\":{\"outlinewidth\":0,\"ticks\":\"\"},\"type\":\"mesh3d\"}],\"parcoords\":[{\"line\":{\"colorbar\":{\"outlinewidth\":0,\"ticks\":\"\"}},\"type\":\"parcoords\"}],\"pie\":[{\"automargin\":true,\"type\":\"pie\"}],\"scatter\":[{\"marker\":{\"colorbar\":{\"outlinewidth\":0,\"ticks\":\"\"}},\"type\":\"scatter\"}],\"scatter3d\":[{\"line\":{\"colorbar\":{\"outlinewidth\":0,\"ticks\":\"\"}},\"marker\":{\"colorbar\":{\"outlinewidth\":0,\"ticks\":\"\"}},\"type\":\"scatter3d\"}],\"scattercarpet\":[{\"marker\":{\"colorbar\":{\"outlinewidth\":0,\"ticks\":\"\"}},\"type\":\"scattercarpet\"}],\"scattergeo\":[{\"marker\":{\"colorbar\":{\"outlinewidth\":0,\"ticks\":\"\"}},\"type\":\"scattergeo\"}],\"scattergl\":[{\"marker\":{\"colorbar\":{\"outlinewidth\":0,\"ticks\":\"\"}},\"type\":\"scattergl\"}],\"scattermapbox\":[{\"marker\":{\"colorbar\":{\"outlinewidth\":0,\"ticks\":\"\"}},\"type\":\"scattermapbox\"}],\"scatterpolar\":[{\"marker\":{\"colorbar\":{\"outlinewidth\":0,\"ticks\":\"\"}},\"type\":\"scatterpolar\"}],\"scatterpolargl\":[{\"marker\":{\"colorbar\":{\"outlinewidth\":0,\"ticks\":\"\"}},\"type\":\"scatterpolargl\"}],\"scatterternary\":[{\"marker\":{\"colorbar\":{\"outlinewidth\":0,\"ticks\":\"\"}},\"type\":\"scatterternary\"}],\"surface\":[{\"colorbar\":{\"outlinewidth\":0,\"ticks\":\"\"},\"colorscale\":[[0.0,\"#0d0887\"],[0.1111111111111111,\"#46039f\"],[0.2222222222222222,\"#7201a8\"],[0.3333333333333333,\"#9c179e\"],[0.4444444444444444,\"#bd3786\"],[0.5555555555555556,\"#d8576b\"],[0.6666666666666666,\"#ed7953\"],[0.7777777777777778,\"#fb9f3a\"],[0.8888888888888888,\"#fdca26\"],[1.0,\"#f0f921\"]],\"type\":\"surface\"}],\"table\":[{\"cells\":{\"fill\":{\"color\":\"#EBF0F8\"},\"line\":{\"color\":\"white\"}},\"header\":{\"fill\":{\"color\":\"#C8D4E3\"},\"line\":{\"color\":\"white\"}},\"type\":\"table\"}]},\"layout\":{\"annotationdefaults\":{\"arrowcolor\":\"#2a3f5f\",\"arrowhead\":0,\"arrowwidth\":1},\"autotypenumbers\":\"strict\",\"coloraxis\":{\"colorbar\":{\"outlinewidth\":0,\"ticks\":\"\"}},\"colorscale\":{\"diverging\":[[0,\"#8e0152\"],[0.1,\"#c51b7d\"],[0.2,\"#de77ae\"],[0.3,\"#f1b6da\"],[0.4,\"#fde0ef\"],[0.5,\"#f7f7f7\"],[0.6,\"#e6f5d0\"],[0.7,\"#b8e186\"],[0.8,\"#7fbc41\"],[0.9,\"#4d9221\"],[1,\"#276419\"]],\"sequential\":[[0.0,\"#0d0887\"],[0.1111111111111111,\"#46039f\"],[0.2222222222222222,\"#7201a8\"],[0.3333333333333333,\"#9c179e\"],[0.4444444444444444,\"#bd3786\"],[0.5555555555555556,\"#d8576b\"],[0.6666666666666666,\"#ed7953\"],[0.7777777777777778,\"#fb9f3a\"],[0.8888888888888888,\"#fdca26\"],[1.0,\"#f0f921\"]],\"sequentialminus\":[[0.0,\"#0d0887\"],[0.1111111111111111,\"#46039f\"],[0.2222222222222222,\"#7201a8\"],[0.3333333333333333,\"#9c179e\"],[0.4444444444444444,\"#bd3786\"],[0.5555555555555556,\"#d8576b\"],[0.6666666666666666,\"#ed7953\"],[0.7777777777777778,\"#fb9f3a\"],[0.8888888888888888,\"#fdca26\"],[1.0,\"#f0f921\"]]},\"colorway\":[\"#636efa\",\"#EF553B\",\"#00cc96\",\"#ab63fa\",\"#FFA15A\",\"#19d3f3\",\"#FF6692\",\"#B6E880\",\"#FF97FF\",\"#FECB52\"],\"font\":{\"color\":\"#2a3f5f\"},\"geo\":{\"bgcolor\":\"white\",\"lakecolor\":\"white\",\"landcolor\":\"#E5ECF6\",\"showlakes\":true,\"showland\":true,\"subunitcolor\":\"white\"},\"hoverlabel\":{\"align\":\"left\"},\"hovermode\":\"closest\",\"mapbox\":{\"style\":\"light\"},\"paper_bgcolor\":\"white\",\"plot_bgcolor\":\"#E5ECF6\",\"polar\":{\"angularaxis\":{\"gridcolor\":\"white\",\"linecolor\":\"white\",\"ticks\":\"\"},\"bgcolor\":\"#E5ECF6\",\"radialaxis\":{\"gridcolor\":\"white\",\"linecolor\":\"white\",\"ticks\":\"\"}},\"scene\":{\"xaxis\":{\"backgroundcolor\":\"#E5ECF6\",\"gridcolor\":\"white\",\"gridwidth\":2,\"linecolor\":\"white\",\"showbackground\":true,\"ticks\":\"\",\"zerolinecolor\":\"white\"},\"yaxis\":{\"backgroundcolor\":\"#E5ECF6\",\"gridcolor\":\"white\",\"gridwidth\":2,\"linecolor\":\"white\",\"showbackground\":true,\"ticks\":\"\",\"zerolinecolor\":\"white\"},\"zaxis\":{\"backgroundcolor\":\"#E5ECF6\",\"gridcolor\":\"white\",\"gridwidth\":2,\"linecolor\":\"white\",\"showbackground\":true,\"ticks\":\"\",\"zerolinecolor\":\"white\"}},\"shapedefaults\":{\"line\":{\"color\":\"#2a3f5f\"}},\"ternary\":{\"aaxis\":{\"gridcolor\":\"white\",\"linecolor\":\"white\",\"ticks\":\"\"},\"baxis\":{\"gridcolor\":\"white\",\"linecolor\":\"white\",\"ticks\":\"\"},\"bgcolor\":\"#E5ECF6\",\"caxis\":{\"gridcolor\":\"white\",\"linecolor\":\"white\",\"ticks\":\"\"}},\"title\":{\"x\":0.05},\"xaxis\":{\"automargin\":true,\"gridcolor\":\"white\",\"linecolor\":\"white\",\"ticks\":\"\",\"title\":{\"standoff\":15},\"zerolinecolor\":\"white\",\"zerolinewidth\":2},\"yaxis\":{\"automargin\":true,\"gridcolor\":\"white\",\"linecolor\":\"white\",\"ticks\":\"\",\"title\":{\"standoff\":15},\"zerolinecolor\":\"white\",\"zerolinewidth\":2}}},\"xaxis\":{\"anchor\":\"y\",\"domain\":[0.0,1.0],\"scaleanchor\":\"y\",\"constrain\":\"domain\",\"title\":{\"text\":\"position\"}},\"yaxis\":{\"anchor\":\"x\",\"domain\":[0.0,1.0],\"autorange\":\"reversed\",\"constrain\":\"domain\",\"title\":{\"text\":\"layer.head\"}},\"coloraxis\":{\"colorbar\":{\"title\":{\"text\":\"Logit difference\"}},\"colorscale\":[[0.0,\"rgb(103,0,31)\"],[0.1,\"rgb(178,24,43)\"],[0.2,\"rgb(214,96,77)\"],[0.3,\"rgb(244,165,130)\"],[0.4,\"rgb(253,219,199)\"],[0.5,\"rgb(247,247,247)\"],[0.6,\"rgb(209,229,240)\"],[0.7,\"rgb(146,197,222)\"],[0.8,\"rgb(67,147,195)\"],[0.9,\"rgb(33,102,172)\"],[1.0,\"rgb(5,48,97)\"]],\"cmid\":0.0},\"title\":{\"text\":\"Patching with Alex / Carroll / Alex\"},\"height\":500,\"width\":500},                        {\"responsive\": true}                    ).then(function(){\n",
              "                            \n",
              "var gd = document.getElementById('37e52efe-28f0-4644-80d2-3e5873104ea1');\n",
              "var x = new MutationObserver(function (mutations, observer) {{\n",
              "        var display = window.getComputedStyle(gd).display;\n",
              "        if (!display || display === 'none') {{\n",
              "            console.log([gd, 'removed!']);\n",
              "            Plotly.purge(gd);\n",
              "            observer.disconnect();\n",
              "        }}\n",
              "}});\n",
              "\n",
              "// Listen for the removal of the full notebook cells\n",
              "var notebookContainer = gd.closest('#notebook-container');\n",
              "if (notebookContainer) {{\n",
              "    x.observe(notebookContainer, {childList: true});\n",
              "}}\n",
              "\n",
              "// Listen for the clearing of the current output cell\n",
              "var outputEl = gd.closest('.output');\n",
              "if (outputEl) {{\n",
              "    x.observe(outputEl, {childList: true});\n",
              "}}\n",
              "\n",
              "                        })                };                            </script>        </div>\n",
              "</body>\n",
              "</html>"
            ]
          },
          "metadata": {}
        },
        {
          "output_type": "display_data",
          "data": {
            "text/html": [
              "<html>\n",
              "<head><meta charset=\"utf-8\" /></head>\n",
              "<body>\n",
              "    <div>            <script src=\"https://cdnjs.cloudflare.com/ajax/libs/mathjax/2.7.5/MathJax.js?config=TeX-AMS-MML_SVG\"></script><script type=\"text/javascript\">if (window.MathJax) {MathJax.Hub.Config({SVG: {font: \"STIX-Web\"}});}</script>                <script type=\"text/javascript\">window.PlotlyConfig = {MathJaxConfig: 'local'};</script>\n",
              "        <script src=\"https://cdn.plot.ly/plotly-2.8.3.min.js\"></script>                <div id=\"59337277-2e02-4527-83c9-82c8fb8812e2\" class=\"plotly-graph-div\" style=\"height:500px; width:500px;\"></div>            <script type=\"text/javascript\">                                    window.PLOTLYENV=window.PLOTLYENV || {};                                    if (document.getElementById(\"59337277-2e02-4527-83c9-82c8fb8812e2\")) {                    Plotly.newPlot(                        \"59337277-2e02-4527-83c9-82c8fb8812e2\",                        [{\"coloraxis\":\"coloraxis\",\"name\":\"0\",\"x\":[\"(pos  0) <|BOS|>\",\"(pos  1) Her\",\"(pos  2)  name\",\"(pos  3)  was\",\"(pos  4)  Alex\",\"(pos  5)  Hart\",\"(pos  6) .\",\"(pos  7)  Tomorrow\",\"(pos  8)  at\",\"(pos  9)  lunch\",\"(pos 10)  time\",\"(pos 11)  Alex\"],\"y\":[\"0.0\",\"0.1\",\"0.2\",\"0.3\",\"0.4\",\"0.5\",\"0.6\",\"0.7\",\"1.0\",\"1.1\",\"1.2\",\"1.3\",\"1.4\",\"1.5\",\"1.6\",\"1.7\"],\"z\":[[8.731978416442871,8.731978416442871,8.731978416442871,8.731978416442871,8.729142189025879,8.573040962219238,8.727682113647461,8.737712860107422,8.725343704223633,8.72749137878418,8.730844497680664,8.747846603393555],[8.731978416442871,8.731978416442871,8.731978416442871,8.731978416442871,8.695643424987793,8.73169994354248,8.731925964355469,8.732678413391113,8.732222557067871,8.732349395751953,8.731939315795898,6.139362335205078],[8.731978416442871,8.731978416442871,8.731978416442871,8.731978416442871,8.729446411132812,6.181722640991211,8.751069068908691,8.73277473449707,8.730732917785645,8.732015609741211,8.73193073272705,8.73039722442627],[8.731978416442871,8.731978416442871,8.731978416442871,8.731978416442871,8.730079650878906,8.746858596801758,8.73568344116211,8.724943161010742,8.735248565673828,8.731062889099121,8.734621047973633,8.741823196411133],[8.731978416442871,8.731978416442871,8.731978416442871,8.731978416442871,8.736335754394531,8.712812423706055,8.728271484375,8.730504989624023,8.730175018310547,8.733139991760254,8.73230266571045,8.729578971862793],[8.731978416442871,8.731978416442871,8.731978416442871,8.731978416442871,8.731637954711914,8.63687515258789,8.758590698242188,8.728212356567383,8.748250007629395,8.732805252075195,8.73210334777832,8.736141204833984],[8.731978416442871,8.731978416442871,8.731978416442871,8.731978416442871,8.766158103942871,8.673613548278809,8.743886947631836,8.736265182495117,8.71861743927002,8.73144245147705,8.729710578918457,8.849686622619629],[8.731978416442871,8.731978416442871,8.731978416442871,8.731978416442871,8.730385780334473,8.732556343078613,8.728683471679688,8.731925010681152,8.731648445129395,8.732022285461426,8.731980323791504,8.732709884643555],[8.731978416442871,8.731978416442871,8.731978416442871,8.731978416442871,8.731978416442871,8.731978416442871,8.731978416442871,8.731978416442871,8.731978416442871,8.731978416442871,8.731978416442871,8.487653732299805],[8.731978416442871,8.731978416442871,8.731978416442871,8.731978416442871,8.731978416442871,8.731978416442871,8.731978416442871,8.731978416442871,8.731978416442871,8.731978416442871,8.731978416442871,8.56688404083252],[8.731978416442871,8.731978416442871,8.731978416442871,8.731978416442871,8.731978416442871,8.731978416442871,8.731978416442871,8.731978416442871,8.731978416442871,8.731978416442871,8.731978416442871,8.720520973205566],[8.731978416442871,8.731978416442871,8.731978416442871,8.731978416442871,8.731978416442871,8.731978416442871,8.731978416442871,8.731978416442871,8.731978416442871,8.731978416442871,8.731978416442871,8.683199882507324],[8.731978416442871,8.731978416442871,8.731978416442871,8.731978416442871,8.731978416442871,8.731978416442871,8.731978416442871,8.731978416442871,8.731978416442871,8.731978416442871,8.731978416442871,8.698003768920898],[8.731978416442871,8.731978416442871,8.731978416442871,8.731978416442871,8.731978416442871,8.731978416442871,8.731978416442871,8.731978416442871,8.731978416442871,8.731978416442871,8.731978416442871,8.734010696411133],[8.731978416442871,8.731978416442871,8.731978416442871,8.731978416442871,8.731978416442871,8.731978416442871,8.731978416442871,8.731978416442871,8.731978416442871,8.731978416442871,8.731978416442871,3.9788122177124023],[8.731978416442871,8.731978416442871,8.731978416442871,8.731978416442871,8.731978416442871,8.731978416442871,8.731978416442871,8.731978416442871,8.731978416442871,8.731978416442871,8.731978416442871,8.808161735534668]],\"type\":\"heatmap\",\"xaxis\":\"x\",\"yaxis\":\"y\",\"hovertemplate\":\"position: %{x}<br>layer.head: %{y}<br>Logit difference: %{z}<extra></extra>\"}],                        {\"template\":{\"data\":{\"bar\":[{\"error_x\":{\"color\":\"#2a3f5f\"},\"error_y\":{\"color\":\"#2a3f5f\"},\"marker\":{\"line\":{\"color\":\"#E5ECF6\",\"width\":0.5},\"pattern\":{\"fillmode\":\"overlay\",\"size\":10,\"solidity\":0.2}},\"type\":\"bar\"}],\"barpolar\":[{\"marker\":{\"line\":{\"color\":\"#E5ECF6\",\"width\":0.5},\"pattern\":{\"fillmode\":\"overlay\",\"size\":10,\"solidity\":0.2}},\"type\":\"barpolar\"}],\"carpet\":[{\"aaxis\":{\"endlinecolor\":\"#2a3f5f\",\"gridcolor\":\"white\",\"linecolor\":\"white\",\"minorgridcolor\":\"white\",\"startlinecolor\":\"#2a3f5f\"},\"baxis\":{\"endlinecolor\":\"#2a3f5f\",\"gridcolor\":\"white\",\"linecolor\":\"white\",\"minorgridcolor\":\"white\",\"startlinecolor\":\"#2a3f5f\"},\"type\":\"carpet\"}],\"choropleth\":[{\"colorbar\":{\"outlinewidth\":0,\"ticks\":\"\"},\"type\":\"choropleth\"}],\"contour\":[{\"colorbar\":{\"outlinewidth\":0,\"ticks\":\"\"},\"colorscale\":[[0.0,\"#0d0887\"],[0.1111111111111111,\"#46039f\"],[0.2222222222222222,\"#7201a8\"],[0.3333333333333333,\"#9c179e\"],[0.4444444444444444,\"#bd3786\"],[0.5555555555555556,\"#d8576b\"],[0.6666666666666666,\"#ed7953\"],[0.7777777777777778,\"#fb9f3a\"],[0.8888888888888888,\"#fdca26\"],[1.0,\"#f0f921\"]],\"type\":\"contour\"}],\"contourcarpet\":[{\"colorbar\":{\"outlinewidth\":0,\"ticks\":\"\"},\"type\":\"contourcarpet\"}],\"heatmap\":[{\"colorbar\":{\"outlinewidth\":0,\"ticks\":\"\"},\"colorscale\":[[0.0,\"#0d0887\"],[0.1111111111111111,\"#46039f\"],[0.2222222222222222,\"#7201a8\"],[0.3333333333333333,\"#9c179e\"],[0.4444444444444444,\"#bd3786\"],[0.5555555555555556,\"#d8576b\"],[0.6666666666666666,\"#ed7953\"],[0.7777777777777778,\"#fb9f3a\"],[0.8888888888888888,\"#fdca26\"],[1.0,\"#f0f921\"]],\"type\":\"heatmap\"}],\"heatmapgl\":[{\"colorbar\":{\"outlinewidth\":0,\"ticks\":\"\"},\"colorscale\":[[0.0,\"#0d0887\"],[0.1111111111111111,\"#46039f\"],[0.2222222222222222,\"#7201a8\"],[0.3333333333333333,\"#9c179e\"],[0.4444444444444444,\"#bd3786\"],[0.5555555555555556,\"#d8576b\"],[0.6666666666666666,\"#ed7953\"],[0.7777777777777778,\"#fb9f3a\"],[0.8888888888888888,\"#fdca26\"],[1.0,\"#f0f921\"]],\"type\":\"heatmapgl\"}],\"histogram\":[{\"marker\":{\"pattern\":{\"fillmode\":\"overlay\",\"size\":10,\"solidity\":0.2}},\"type\":\"histogram\"}],\"histogram2d\":[{\"colorbar\":{\"outlinewidth\":0,\"ticks\":\"\"},\"colorscale\":[[0.0,\"#0d0887\"],[0.1111111111111111,\"#46039f\"],[0.2222222222222222,\"#7201a8\"],[0.3333333333333333,\"#9c179e\"],[0.4444444444444444,\"#bd3786\"],[0.5555555555555556,\"#d8576b\"],[0.6666666666666666,\"#ed7953\"],[0.7777777777777778,\"#fb9f3a\"],[0.8888888888888888,\"#fdca26\"],[1.0,\"#f0f921\"]],\"type\":\"histogram2d\"}],\"histogram2dcontour\":[{\"colorbar\":{\"outlinewidth\":0,\"ticks\":\"\"},\"colorscale\":[[0.0,\"#0d0887\"],[0.1111111111111111,\"#46039f\"],[0.2222222222222222,\"#7201a8\"],[0.3333333333333333,\"#9c179e\"],[0.4444444444444444,\"#bd3786\"],[0.5555555555555556,\"#d8576b\"],[0.6666666666666666,\"#ed7953\"],[0.7777777777777778,\"#fb9f3a\"],[0.8888888888888888,\"#fdca26\"],[1.0,\"#f0f921\"]],\"type\":\"histogram2dcontour\"}],\"mesh3d\":[{\"colorbar\":{\"outlinewidth\":0,\"ticks\":\"\"},\"type\":\"mesh3d\"}],\"parcoords\":[{\"line\":{\"colorbar\":{\"outlinewidth\":0,\"ticks\":\"\"}},\"type\":\"parcoords\"}],\"pie\":[{\"automargin\":true,\"type\":\"pie\"}],\"scatter\":[{\"marker\":{\"colorbar\":{\"outlinewidth\":0,\"ticks\":\"\"}},\"type\":\"scatter\"}],\"scatter3d\":[{\"line\":{\"colorbar\":{\"outlinewidth\":0,\"ticks\":\"\"}},\"marker\":{\"colorbar\":{\"outlinewidth\":0,\"ticks\":\"\"}},\"type\":\"scatter3d\"}],\"scattercarpet\":[{\"marker\":{\"colorbar\":{\"outlinewidth\":0,\"ticks\":\"\"}},\"type\":\"scattercarpet\"}],\"scattergeo\":[{\"marker\":{\"colorbar\":{\"outlinewidth\":0,\"ticks\":\"\"}},\"type\":\"scattergeo\"}],\"scattergl\":[{\"marker\":{\"colorbar\":{\"outlinewidth\":0,\"ticks\":\"\"}},\"type\":\"scattergl\"}],\"scattermapbox\":[{\"marker\":{\"colorbar\":{\"outlinewidth\":0,\"ticks\":\"\"}},\"type\":\"scattermapbox\"}],\"scatterpolar\":[{\"marker\":{\"colorbar\":{\"outlinewidth\":0,\"ticks\":\"\"}},\"type\":\"scatterpolar\"}],\"scatterpolargl\":[{\"marker\":{\"colorbar\":{\"outlinewidth\":0,\"ticks\":\"\"}},\"type\":\"scatterpolargl\"}],\"scatterternary\":[{\"marker\":{\"colorbar\":{\"outlinewidth\":0,\"ticks\":\"\"}},\"type\":\"scatterternary\"}],\"surface\":[{\"colorbar\":{\"outlinewidth\":0,\"ticks\":\"\"},\"colorscale\":[[0.0,\"#0d0887\"],[0.1111111111111111,\"#46039f\"],[0.2222222222222222,\"#7201a8\"],[0.3333333333333333,\"#9c179e\"],[0.4444444444444444,\"#bd3786\"],[0.5555555555555556,\"#d8576b\"],[0.6666666666666666,\"#ed7953\"],[0.7777777777777778,\"#fb9f3a\"],[0.8888888888888888,\"#fdca26\"],[1.0,\"#f0f921\"]],\"type\":\"surface\"}],\"table\":[{\"cells\":{\"fill\":{\"color\":\"#EBF0F8\"},\"line\":{\"color\":\"white\"}},\"header\":{\"fill\":{\"color\":\"#C8D4E3\"},\"line\":{\"color\":\"white\"}},\"type\":\"table\"}]},\"layout\":{\"annotationdefaults\":{\"arrowcolor\":\"#2a3f5f\",\"arrowhead\":0,\"arrowwidth\":1},\"autotypenumbers\":\"strict\",\"coloraxis\":{\"colorbar\":{\"outlinewidth\":0,\"ticks\":\"\"}},\"colorscale\":{\"diverging\":[[0,\"#8e0152\"],[0.1,\"#c51b7d\"],[0.2,\"#de77ae\"],[0.3,\"#f1b6da\"],[0.4,\"#fde0ef\"],[0.5,\"#f7f7f7\"],[0.6,\"#e6f5d0\"],[0.7,\"#b8e186\"],[0.8,\"#7fbc41\"],[0.9,\"#4d9221\"],[1,\"#276419\"]],\"sequential\":[[0.0,\"#0d0887\"],[0.1111111111111111,\"#46039f\"],[0.2222222222222222,\"#7201a8\"],[0.3333333333333333,\"#9c179e\"],[0.4444444444444444,\"#bd3786\"],[0.5555555555555556,\"#d8576b\"],[0.6666666666666666,\"#ed7953\"],[0.7777777777777778,\"#fb9f3a\"],[0.8888888888888888,\"#fdca26\"],[1.0,\"#f0f921\"]],\"sequentialminus\":[[0.0,\"#0d0887\"],[0.1111111111111111,\"#46039f\"],[0.2222222222222222,\"#7201a8\"],[0.3333333333333333,\"#9c179e\"],[0.4444444444444444,\"#bd3786\"],[0.5555555555555556,\"#d8576b\"],[0.6666666666666666,\"#ed7953\"],[0.7777777777777778,\"#fb9f3a\"],[0.8888888888888888,\"#fdca26\"],[1.0,\"#f0f921\"]]},\"colorway\":[\"#636efa\",\"#EF553B\",\"#00cc96\",\"#ab63fa\",\"#FFA15A\",\"#19d3f3\",\"#FF6692\",\"#B6E880\",\"#FF97FF\",\"#FECB52\"],\"font\":{\"color\":\"#2a3f5f\"},\"geo\":{\"bgcolor\":\"white\",\"lakecolor\":\"white\",\"landcolor\":\"#E5ECF6\",\"showlakes\":true,\"showland\":true,\"subunitcolor\":\"white\"},\"hoverlabel\":{\"align\":\"left\"},\"hovermode\":\"closest\",\"mapbox\":{\"style\":\"light\"},\"paper_bgcolor\":\"white\",\"plot_bgcolor\":\"#E5ECF6\",\"polar\":{\"angularaxis\":{\"gridcolor\":\"white\",\"linecolor\":\"white\",\"ticks\":\"\"},\"bgcolor\":\"#E5ECF6\",\"radialaxis\":{\"gridcolor\":\"white\",\"linecolor\":\"white\",\"ticks\":\"\"}},\"scene\":{\"xaxis\":{\"backgroundcolor\":\"#E5ECF6\",\"gridcolor\":\"white\",\"gridwidth\":2,\"linecolor\":\"white\",\"showbackground\":true,\"ticks\":\"\",\"zerolinecolor\":\"white\"},\"yaxis\":{\"backgroundcolor\":\"#E5ECF6\",\"gridcolor\":\"white\",\"gridwidth\":2,\"linecolor\":\"white\",\"showbackground\":true,\"ticks\":\"\",\"zerolinecolor\":\"white\"},\"zaxis\":{\"backgroundcolor\":\"#E5ECF6\",\"gridcolor\":\"white\",\"gridwidth\":2,\"linecolor\":\"white\",\"showbackground\":true,\"ticks\":\"\",\"zerolinecolor\":\"white\"}},\"shapedefaults\":{\"line\":{\"color\":\"#2a3f5f\"}},\"ternary\":{\"aaxis\":{\"gridcolor\":\"white\",\"linecolor\":\"white\",\"ticks\":\"\"},\"baxis\":{\"gridcolor\":\"white\",\"linecolor\":\"white\",\"ticks\":\"\"},\"bgcolor\":\"#E5ECF6\",\"caxis\":{\"gridcolor\":\"white\",\"linecolor\":\"white\",\"ticks\":\"\"}},\"title\":{\"x\":0.05},\"xaxis\":{\"automargin\":true,\"gridcolor\":\"white\",\"linecolor\":\"white\",\"ticks\":\"\",\"title\":{\"standoff\":15},\"zerolinecolor\":\"white\",\"zerolinewidth\":2},\"yaxis\":{\"automargin\":true,\"gridcolor\":\"white\",\"linecolor\":\"white\",\"ticks\":\"\",\"title\":{\"standoff\":15},\"zerolinecolor\":\"white\",\"zerolinewidth\":2}}},\"xaxis\":{\"anchor\":\"y\",\"domain\":[0.0,1.0],\"scaleanchor\":\"y\",\"constrain\":\"domain\",\"title\":{\"text\":\"position\"}},\"yaxis\":{\"anchor\":\"x\",\"domain\":[0.0,1.0],\"autorange\":\"reversed\",\"constrain\":\"domain\",\"title\":{\"text\":\"layer.head\"}},\"coloraxis\":{\"colorbar\":{\"title\":{\"text\":\"Logit difference\"}},\"colorscale\":[[0.0,\"rgb(103,0,31)\"],[0.1,\"rgb(178,24,43)\"],[0.2,\"rgb(214,96,77)\"],[0.3,\"rgb(244,165,130)\"],[0.4,\"rgb(253,219,199)\"],[0.5,\"rgb(247,247,247)\"],[0.6,\"rgb(209,229,240)\"],[0.7,\"rgb(146,197,222)\"],[0.8,\"rgb(67,147,195)\"],[0.9,\"rgb(33,102,172)\"],[1.0,\"rgb(5,48,97)\"]],\"cmid\":0.0},\"title\":{\"text\":\"Patching with Sarah / Hart / Alex\"},\"height\":500,\"width\":500},                        {\"responsive\": true}                    ).then(function(){\n",
              "                            \n",
              "var gd = document.getElementById('59337277-2e02-4527-83c9-82c8fb8812e2');\n",
              "var x = new MutationObserver(function (mutations, observer) {{\n",
              "        var display = window.getComputedStyle(gd).display;\n",
              "        if (!display || display === 'none') {{\n",
              "            console.log([gd, 'removed!']);\n",
              "            Plotly.purge(gd);\n",
              "            observer.disconnect();\n",
              "        }}\n",
              "}});\n",
              "\n",
              "// Listen for the removal of the full notebook cells\n",
              "var notebookContainer = gd.closest('#notebook-container');\n",
              "if (notebookContainer) {{\n",
              "    x.observe(notebookContainer, {childList: true});\n",
              "}}\n",
              "\n",
              "// Listen for the clearing of the current output cell\n",
              "var outputEl = gd.closest('.output');\n",
              "if (outputEl) {{\n",
              "    x.observe(outputEl, {childList: true});\n",
              "}}\n",
              "\n",
              "                        })                };                            </script>        </div>\n",
              "</body>\n",
              "</html>"
            ]
          },
          "metadata": {}
        },
        {
          "output_type": "display_data",
          "data": {
            "text/html": [
              "<html>\n",
              "<head><meta charset=\"utf-8\" /></head>\n",
              "<body>\n",
              "    <div>            <script src=\"https://cdnjs.cloudflare.com/ajax/libs/mathjax/2.7.5/MathJax.js?config=TeX-AMS-MML_SVG\"></script><script type=\"text/javascript\">if (window.MathJax) {MathJax.Hub.Config({SVG: {font: \"STIX-Web\"}});}</script>                <script type=\"text/javascript\">window.PlotlyConfig = {MathJaxConfig: 'local'};</script>\n",
              "        <script src=\"https://cdn.plot.ly/plotly-2.8.3.min.js\"></script>                <div id=\"ebb1eac5-4b4b-4be3-9788-b1d860d49267\" class=\"plotly-graph-div\" style=\"height:500px; width:500px;\"></div>            <script type=\"text/javascript\">                                    window.PLOTLYENV=window.PLOTLYENV || {};                                    if (document.getElementById(\"ebb1eac5-4b4b-4be3-9788-b1d860d49267\")) {                    Plotly.newPlot(                        \"ebb1eac5-4b4b-4be3-9788-b1d860d49267\",                        [{\"coloraxis\":\"coloraxis\",\"name\":\"0\",\"x\":[\"(pos  0) <|BOS|>\",\"(pos  1) Her\",\"(pos  2)  name\",\"(pos  3)  was\",\"(pos  4)  Alex\",\"(pos  5)  Hart\",\"(pos  6) .\",\"(pos  7)  Tomorrow\",\"(pos  8)  at\",\"(pos  9)  lunch\",\"(pos 10)  time\",\"(pos 11)  Alex\"],\"y\":[\"0.0\",\"0.1\",\"0.2\",\"0.3\",\"0.4\",\"0.5\",\"0.6\",\"0.7\",\"1.0\",\"1.1\",\"1.2\",\"1.3\",\"1.4\",\"1.5\",\"1.6\",\"1.7\"],\"z\":[[8.731978416442871,8.731978416442871,8.731978416442871,8.731978416442871,8.731978416442871,8.731978416442871,8.731978416442871,8.731978416442871,8.731978416442871,8.731978416442871,8.731978416442871,8.758501052856445],[8.731978416442871,8.731978416442871,8.731978416442871,8.731978416442871,8.731978416442871,8.731978416442871,8.731978416442871,8.731978416442871,8.731978416442871,8.731978416442871,8.731978416442871,5.615339279174805],[8.731978416442871,8.731978416442871,8.731978416442871,8.731978416442871,8.731978416442871,8.731978416442871,8.731978416442871,8.731978416442871,8.731978416442871,8.731978416442871,8.731978416442871,8.505202293395996],[8.731978416442871,8.731978416442871,8.731978416442871,8.731978416442871,8.731978416442871,8.731978416442871,8.731978416442871,8.731978416442871,8.731978416442871,8.731978416442871,8.731978416442871,8.707050323486328],[8.731978416442871,8.731978416442871,8.731978416442871,8.731978416442871,8.731978416442871,8.731978416442871,8.731978416442871,8.731978416442871,8.731978416442871,8.731978416442871,8.731978416442871,8.722942352294922],[8.731978416442871,8.731978416442871,8.731978416442871,8.731978416442871,8.731978416442871,8.731978416442871,8.731978416442871,8.731978416442871,8.731978416442871,8.731978416442871,8.731978416442871,8.744368553161621],[8.731978416442871,8.731978416442871,8.731978416442871,8.731978416442871,8.731978416442871,8.731978416442871,8.731978416442871,8.731978416442871,8.731978416442871,8.731978416442871,8.731978416442871,8.94919204711914],[8.731978416442871,8.731978416442871,8.731978416442871,8.731978416442871,8.731978416442871,8.731978416442871,8.731978416442871,8.731978416442871,8.731978416442871,8.731978416442871,8.731978416442871,8.767730712890625],[8.731978416442871,8.731978416442871,8.731978416442871,8.731978416442871,8.731978416442871,8.731978416442871,8.731978416442871,8.731978416442871,8.731978416442871,8.731978416442871,8.731978416442871,8.559744834899902],[8.731978416442871,8.731978416442871,8.731978416442871,8.731978416442871,8.731978416442871,8.731978416442871,8.731978416442871,8.731978416442871,8.731978416442871,8.731978416442871,8.731978416442871,8.579911231994629],[8.731978416442871,8.731978416442871,8.731978416442871,8.731978416442871,8.731978416442871,8.731978416442871,8.731978416442871,8.731978416442871,8.731978416442871,8.731978416442871,8.731978416442871,8.746639251708984],[8.731978416442871,8.731978416442871,8.731978416442871,8.731978416442871,8.731978416442871,8.731978416442871,8.731978416442871,8.731978416442871,8.731978416442871,8.731978416442871,8.731978416442871,8.648324966430664],[8.731978416442871,8.731978416442871,8.731978416442871,8.731978416442871,8.731978416442871,8.731978416442871,8.731978416442871,8.731978416442871,8.731978416442871,8.731978416442871,8.731978416442871,8.723311424255371],[8.731978416442871,8.731978416442871,8.731978416442871,8.731978416442871,8.731978416442871,8.731978416442871,8.731978416442871,8.731978416442871,8.731978416442871,8.731978416442871,8.731978416442871,8.748735427856445],[8.731978416442871,8.731978416442871,8.731978416442871,8.731978416442871,8.731978416442871,8.731978416442871,8.731978416442871,8.731978416442871,8.731978416442871,8.731978416442871,8.731978416442871,3.8728275299072266],[8.731978416442871,8.731978416442871,8.731978416442871,8.731978416442871,8.731978416442871,8.731978416442871,8.731978416442871,8.731978416442871,8.731978416442871,8.731978416442871,8.731978416442871,8.797223091125488]],\"type\":\"heatmap\",\"xaxis\":\"x\",\"yaxis\":\"y\",\"hovertemplate\":\"position: %{x}<br>layer.head: %{y}<br>Logit difference: %{z}<extra></extra>\"}],                        {\"template\":{\"data\":{\"bar\":[{\"error_x\":{\"color\":\"#2a3f5f\"},\"error_y\":{\"color\":\"#2a3f5f\"},\"marker\":{\"line\":{\"color\":\"#E5ECF6\",\"width\":0.5},\"pattern\":{\"fillmode\":\"overlay\",\"size\":10,\"solidity\":0.2}},\"type\":\"bar\"}],\"barpolar\":[{\"marker\":{\"line\":{\"color\":\"#E5ECF6\",\"width\":0.5},\"pattern\":{\"fillmode\":\"overlay\",\"size\":10,\"solidity\":0.2}},\"type\":\"barpolar\"}],\"carpet\":[{\"aaxis\":{\"endlinecolor\":\"#2a3f5f\",\"gridcolor\":\"white\",\"linecolor\":\"white\",\"minorgridcolor\":\"white\",\"startlinecolor\":\"#2a3f5f\"},\"baxis\":{\"endlinecolor\":\"#2a3f5f\",\"gridcolor\":\"white\",\"linecolor\":\"white\",\"minorgridcolor\":\"white\",\"startlinecolor\":\"#2a3f5f\"},\"type\":\"carpet\"}],\"choropleth\":[{\"colorbar\":{\"outlinewidth\":0,\"ticks\":\"\"},\"type\":\"choropleth\"}],\"contour\":[{\"colorbar\":{\"outlinewidth\":0,\"ticks\":\"\"},\"colorscale\":[[0.0,\"#0d0887\"],[0.1111111111111111,\"#46039f\"],[0.2222222222222222,\"#7201a8\"],[0.3333333333333333,\"#9c179e\"],[0.4444444444444444,\"#bd3786\"],[0.5555555555555556,\"#d8576b\"],[0.6666666666666666,\"#ed7953\"],[0.7777777777777778,\"#fb9f3a\"],[0.8888888888888888,\"#fdca26\"],[1.0,\"#f0f921\"]],\"type\":\"contour\"}],\"contourcarpet\":[{\"colorbar\":{\"outlinewidth\":0,\"ticks\":\"\"},\"type\":\"contourcarpet\"}],\"heatmap\":[{\"colorbar\":{\"outlinewidth\":0,\"ticks\":\"\"},\"colorscale\":[[0.0,\"#0d0887\"],[0.1111111111111111,\"#46039f\"],[0.2222222222222222,\"#7201a8\"],[0.3333333333333333,\"#9c179e\"],[0.4444444444444444,\"#bd3786\"],[0.5555555555555556,\"#d8576b\"],[0.6666666666666666,\"#ed7953\"],[0.7777777777777778,\"#fb9f3a\"],[0.8888888888888888,\"#fdca26\"],[1.0,\"#f0f921\"]],\"type\":\"heatmap\"}],\"heatmapgl\":[{\"colorbar\":{\"outlinewidth\":0,\"ticks\":\"\"},\"colorscale\":[[0.0,\"#0d0887\"],[0.1111111111111111,\"#46039f\"],[0.2222222222222222,\"#7201a8\"],[0.3333333333333333,\"#9c179e\"],[0.4444444444444444,\"#bd3786\"],[0.5555555555555556,\"#d8576b\"],[0.6666666666666666,\"#ed7953\"],[0.7777777777777778,\"#fb9f3a\"],[0.8888888888888888,\"#fdca26\"],[1.0,\"#f0f921\"]],\"type\":\"heatmapgl\"}],\"histogram\":[{\"marker\":{\"pattern\":{\"fillmode\":\"overlay\",\"size\":10,\"solidity\":0.2}},\"type\":\"histogram\"}],\"histogram2d\":[{\"colorbar\":{\"outlinewidth\":0,\"ticks\":\"\"},\"colorscale\":[[0.0,\"#0d0887\"],[0.1111111111111111,\"#46039f\"],[0.2222222222222222,\"#7201a8\"],[0.3333333333333333,\"#9c179e\"],[0.4444444444444444,\"#bd3786\"],[0.5555555555555556,\"#d8576b\"],[0.6666666666666666,\"#ed7953\"],[0.7777777777777778,\"#fb9f3a\"],[0.8888888888888888,\"#fdca26\"],[1.0,\"#f0f921\"]],\"type\":\"histogram2d\"}],\"histogram2dcontour\":[{\"colorbar\":{\"outlinewidth\":0,\"ticks\":\"\"},\"colorscale\":[[0.0,\"#0d0887\"],[0.1111111111111111,\"#46039f\"],[0.2222222222222222,\"#7201a8\"],[0.3333333333333333,\"#9c179e\"],[0.4444444444444444,\"#bd3786\"],[0.5555555555555556,\"#d8576b\"],[0.6666666666666666,\"#ed7953\"],[0.7777777777777778,\"#fb9f3a\"],[0.8888888888888888,\"#fdca26\"],[1.0,\"#f0f921\"]],\"type\":\"histogram2dcontour\"}],\"mesh3d\":[{\"colorbar\":{\"outlinewidth\":0,\"ticks\":\"\"},\"type\":\"mesh3d\"}],\"parcoords\":[{\"line\":{\"colorbar\":{\"outlinewidth\":0,\"ticks\":\"\"}},\"type\":\"parcoords\"}],\"pie\":[{\"automargin\":true,\"type\":\"pie\"}],\"scatter\":[{\"marker\":{\"colorbar\":{\"outlinewidth\":0,\"ticks\":\"\"}},\"type\":\"scatter\"}],\"scatter3d\":[{\"line\":{\"colorbar\":{\"outlinewidth\":0,\"ticks\":\"\"}},\"marker\":{\"colorbar\":{\"outlinewidth\":0,\"ticks\":\"\"}},\"type\":\"scatter3d\"}],\"scattercarpet\":[{\"marker\":{\"colorbar\":{\"outlinewidth\":0,\"ticks\":\"\"}},\"type\":\"scattercarpet\"}],\"scattergeo\":[{\"marker\":{\"colorbar\":{\"outlinewidth\":0,\"ticks\":\"\"}},\"type\":\"scattergeo\"}],\"scattergl\":[{\"marker\":{\"colorbar\":{\"outlinewidth\":0,\"ticks\":\"\"}},\"type\":\"scattergl\"}],\"scattermapbox\":[{\"marker\":{\"colorbar\":{\"outlinewidth\":0,\"ticks\":\"\"}},\"type\":\"scattermapbox\"}],\"scatterpolar\":[{\"marker\":{\"colorbar\":{\"outlinewidth\":0,\"ticks\":\"\"}},\"type\":\"scatterpolar\"}],\"scatterpolargl\":[{\"marker\":{\"colorbar\":{\"outlinewidth\":0,\"ticks\":\"\"}},\"type\":\"scatterpolargl\"}],\"scatterternary\":[{\"marker\":{\"colorbar\":{\"outlinewidth\":0,\"ticks\":\"\"}},\"type\":\"scatterternary\"}],\"surface\":[{\"colorbar\":{\"outlinewidth\":0,\"ticks\":\"\"},\"colorscale\":[[0.0,\"#0d0887\"],[0.1111111111111111,\"#46039f\"],[0.2222222222222222,\"#7201a8\"],[0.3333333333333333,\"#9c179e\"],[0.4444444444444444,\"#bd3786\"],[0.5555555555555556,\"#d8576b\"],[0.6666666666666666,\"#ed7953\"],[0.7777777777777778,\"#fb9f3a\"],[0.8888888888888888,\"#fdca26\"],[1.0,\"#f0f921\"]],\"type\":\"surface\"}],\"table\":[{\"cells\":{\"fill\":{\"color\":\"#EBF0F8\"},\"line\":{\"color\":\"white\"}},\"header\":{\"fill\":{\"color\":\"#C8D4E3\"},\"line\":{\"color\":\"white\"}},\"type\":\"table\"}]},\"layout\":{\"annotationdefaults\":{\"arrowcolor\":\"#2a3f5f\",\"arrowhead\":0,\"arrowwidth\":1},\"autotypenumbers\":\"strict\",\"coloraxis\":{\"colorbar\":{\"outlinewidth\":0,\"ticks\":\"\"}},\"colorscale\":{\"diverging\":[[0,\"#8e0152\"],[0.1,\"#c51b7d\"],[0.2,\"#de77ae\"],[0.3,\"#f1b6da\"],[0.4,\"#fde0ef\"],[0.5,\"#f7f7f7\"],[0.6,\"#e6f5d0\"],[0.7,\"#b8e186\"],[0.8,\"#7fbc41\"],[0.9,\"#4d9221\"],[1,\"#276419\"]],\"sequential\":[[0.0,\"#0d0887\"],[0.1111111111111111,\"#46039f\"],[0.2222222222222222,\"#7201a8\"],[0.3333333333333333,\"#9c179e\"],[0.4444444444444444,\"#bd3786\"],[0.5555555555555556,\"#d8576b\"],[0.6666666666666666,\"#ed7953\"],[0.7777777777777778,\"#fb9f3a\"],[0.8888888888888888,\"#fdca26\"],[1.0,\"#f0f921\"]],\"sequentialminus\":[[0.0,\"#0d0887\"],[0.1111111111111111,\"#46039f\"],[0.2222222222222222,\"#7201a8\"],[0.3333333333333333,\"#9c179e\"],[0.4444444444444444,\"#bd3786\"],[0.5555555555555556,\"#d8576b\"],[0.6666666666666666,\"#ed7953\"],[0.7777777777777778,\"#fb9f3a\"],[0.8888888888888888,\"#fdca26\"],[1.0,\"#f0f921\"]]},\"colorway\":[\"#636efa\",\"#EF553B\",\"#00cc96\",\"#ab63fa\",\"#FFA15A\",\"#19d3f3\",\"#FF6692\",\"#B6E880\",\"#FF97FF\",\"#FECB52\"],\"font\":{\"color\":\"#2a3f5f\"},\"geo\":{\"bgcolor\":\"white\",\"lakecolor\":\"white\",\"landcolor\":\"#E5ECF6\",\"showlakes\":true,\"showland\":true,\"subunitcolor\":\"white\"},\"hoverlabel\":{\"align\":\"left\"},\"hovermode\":\"closest\",\"mapbox\":{\"style\":\"light\"},\"paper_bgcolor\":\"white\",\"plot_bgcolor\":\"#E5ECF6\",\"polar\":{\"angularaxis\":{\"gridcolor\":\"white\",\"linecolor\":\"white\",\"ticks\":\"\"},\"bgcolor\":\"#E5ECF6\",\"radialaxis\":{\"gridcolor\":\"white\",\"linecolor\":\"white\",\"ticks\":\"\"}},\"scene\":{\"xaxis\":{\"backgroundcolor\":\"#E5ECF6\",\"gridcolor\":\"white\",\"gridwidth\":2,\"linecolor\":\"white\",\"showbackground\":true,\"ticks\":\"\",\"zerolinecolor\":\"white\"},\"yaxis\":{\"backgroundcolor\":\"#E5ECF6\",\"gridcolor\":\"white\",\"gridwidth\":2,\"linecolor\":\"white\",\"showbackground\":true,\"ticks\":\"\",\"zerolinecolor\":\"white\"},\"zaxis\":{\"backgroundcolor\":\"#E5ECF6\",\"gridcolor\":\"white\",\"gridwidth\":2,\"linecolor\":\"white\",\"showbackground\":true,\"ticks\":\"\",\"zerolinecolor\":\"white\"}},\"shapedefaults\":{\"line\":{\"color\":\"#2a3f5f\"}},\"ternary\":{\"aaxis\":{\"gridcolor\":\"white\",\"linecolor\":\"white\",\"ticks\":\"\"},\"baxis\":{\"gridcolor\":\"white\",\"linecolor\":\"white\",\"ticks\":\"\"},\"bgcolor\":\"#E5ECF6\",\"caxis\":{\"gridcolor\":\"white\",\"linecolor\":\"white\",\"ticks\":\"\"}},\"title\":{\"x\":0.05},\"xaxis\":{\"automargin\":true,\"gridcolor\":\"white\",\"linecolor\":\"white\",\"ticks\":\"\",\"title\":{\"standoff\":15},\"zerolinecolor\":\"white\",\"zerolinewidth\":2},\"yaxis\":{\"automargin\":true,\"gridcolor\":\"white\",\"linecolor\":\"white\",\"ticks\":\"\",\"title\":{\"standoff\":15},\"zerolinecolor\":\"white\",\"zerolinewidth\":2}}},\"xaxis\":{\"anchor\":\"y\",\"domain\":[0.0,1.0],\"scaleanchor\":\"y\",\"constrain\":\"domain\",\"title\":{\"text\":\"position\"}},\"yaxis\":{\"anchor\":\"x\",\"domain\":[0.0,1.0],\"autorange\":\"reversed\",\"constrain\":\"domain\",\"title\":{\"text\":\"layer.head\"}},\"coloraxis\":{\"colorbar\":{\"title\":{\"text\":\"Logit difference\"}},\"colorscale\":[[0.0,\"rgb(103,0,31)\"],[0.1,\"rgb(178,24,43)\"],[0.2,\"rgb(214,96,77)\"],[0.3,\"rgb(244,165,130)\"],[0.4,\"rgb(253,219,199)\"],[0.5,\"rgb(247,247,247)\"],[0.6,\"rgb(209,229,240)\"],[0.7,\"rgb(146,197,222)\"],[0.8,\"rgb(67,147,195)\"],[0.9,\"rgb(33,102,172)\"],[1.0,\"rgb(5,48,97)\"]],\"cmid\":0.0},\"title\":{\"text\":\"Patching with Alex / Hart / Sarah\"},\"height\":500,\"width\":500},                        {\"responsive\": true}                    ).then(function(){\n",
              "                            \n",
              "var gd = document.getElementById('ebb1eac5-4b4b-4be3-9788-b1d860d49267');\n",
              "var x = new MutationObserver(function (mutations, observer) {{\n",
              "        var display = window.getComputedStyle(gd).display;\n",
              "        if (!display || display === 'none') {{\n",
              "            console.log([gd, 'removed!']);\n",
              "            Plotly.purge(gd);\n",
              "            observer.disconnect();\n",
              "        }}\n",
              "}});\n",
              "\n",
              "// Listen for the removal of the full notebook cells\n",
              "var notebookContainer = gd.closest('#notebook-container');\n",
              "if (notebookContainer) {{\n",
              "    x.observe(notebookContainer, {childList: true});\n",
              "}}\n",
              "\n",
              "// Listen for the clearing of the current output cell\n",
              "var outputEl = gd.closest('.output');\n",
              "if (outputEl) {{\n",
              "    x.observe(outputEl, {childList: true});\n",
              "}}\n",
              "\n",
              "                        })                };                            </script>        </div>\n",
              "</body>\n",
              "</html>"
            ]
          },
          "metadata": {}
        }
      ],
      "source": [
        "model_2l.cfg.use_attn_result = True\n",
        "\n",
        "\n",
        "clean_prompt = \"Her name was Alex Hart. Tomorrow at lunch time Alex\"\n",
        "clean_tokens = model_2l.to_str_tokens(clean_prompt)\n",
        "\n",
        "# Indices of the right and wrong answers (lastnames) to judge what the model predicts\n",
        "clean_answer_index = model_2l.tokenizer.encode(\" Hart\")[0]\n",
        "corrupt_answer_index = model_2l.tokenizer.encode(\" Carroll\")[0]\n",
        "\n",
        "\n",
        "n_layers = model_2l.cfg.n_layers\n",
        "n_heads = model_2l.cfg.n_heads\n",
        "n_pos = len(clean_tokens)\n",
        "\n",
        "def patch_head_result(activations, hook, layer=None, head=None, pos=None):\n",
        "   activations[:, pos, head, :] = corrupt_cache[hook.name][:, pos, head, :]\n",
        "   return activations\n",
        "\n",
        "\n",
        "for corrupt_prompt in [\"Her name was Alex Carroll. Tomorrow at lunch time Alex\",\n",
        "                       \"Her name was Sarah Hart. Tomorrow at lunch time Alex\",\n",
        "                       \"Her name was Alex Hart. Tomorrow at lunch time Sarah\"]:\n",
        "    corrupt_tokens = model_2l.to_str_tokens(corrupt_prompt)\n",
        "    _, corrupt_cache = model_2l.run_with_cache(corrupt_prompt)\n",
        "\n",
        "    patching_effect = torch.zeros(n_layers*n_heads, n_pos)\n",
        "    for layer in range(n_layers):\n",
        "        for head in range(n_heads):\n",
        "          for pos in range(n_pos):\n",
        "              fwd_hooks = [(f\"blocks.{layer}.attn.hook_result\", partial(patch_head_result, layer=layer, head=head, pos=pos))]\n",
        "              prediction_logits = model_2l.run_with_hooks(clean_prompt, fwd_hooks=fwd_hooks)[0, -1]\n",
        "              patching_effect[n_heads*layer+head, pos] = prediction_logits[clean_answer_index] - prediction_logits[corrupt_answer_index]\n",
        "    # Plot\n",
        "    token_labels = [f\"(pos {i:2}) {t}\" for i, t in enumerate(clean_tokens)]\n",
        "    layerhead_labels = [f\"{l}.{h}\" for l in range(n_layers) for h in range(n_heads)]\n",
        "    imshow(patching_effect, xticks=token_labels, yticks=layerhead_labels, xlabel=\"position\", ylabel=\"layer.head\",\n",
        "               zlabel=\"Logit difference\", title=f\"Patching with{corrupt_tokens[4]} /{corrupt_tokens[5]} /{corrupt_tokens[11]}\", width=500, height=500)\n",
        "\n"
      ]
    },
    {
      "cell_type": "markdown",
      "source": [
        "#### Better color plots\n",
        "\n",
        "Since the baseline logit diff is already a latge number"
      ],
      "metadata": {
        "id": "XgsR1AicsH4N"
      }
    },
    {
      "cell_type": "code",
      "source": [
        "model_2l.cfg.use_attn_result = True\n",
        "\n",
        "\n",
        "clean_prompt = \"Her name was Alex Hart. Tomorrow at lunch time Alex\"\n",
        "clean_tokens = model_2l.to_str_tokens(clean_prompt)\n",
        "clean_prediction_logits = model_2l(clean_prompt)[0, -1]\n",
        "clean_prediction_logit_diff = clean_prediction_logits[clean_answer_index] - clean_prediction_logits[corrupt_answer_index]\n",
        "\n",
        "# Indices of the right and wrong answers (lastnames) to judge what the model predicts\n",
        "clean_answer_index = model_2l.tokenizer.encode(\" Hart\")[0]\n",
        "corrupt_answer_index = model_2l.tokenizer.encode(\" Carroll\")[0]\n",
        "\n",
        "\n",
        "n_layers = model_2l.cfg.n_layers\n",
        "n_heads = model_2l.cfg.n_heads\n",
        "n_pos = len(clean_tokens)\n",
        "\n",
        "def patch_head_result(activations, hook, layer=None, head=None, pos=None):\n",
        "   activations[:, pos, head, :] = corrupt_cache[hook.name][:, pos, head, :]\n",
        "   return activations\n",
        "\n",
        "\n",
        "for corrupt_prompt in [\"Her name was Alex Carroll. Tomorrow at lunch time Alex\",\n",
        "                       \"Her name was Sarah Hart. Tomorrow at lunch time Alex\",\n",
        "                       \"Her name was Alex Hart. Tomorrow at lunch time Sarah\"]:\n",
        "    corrupt_tokens = model_2l.to_str_tokens(corrupt_prompt)\n",
        "    _, corrupt_cache = model_2l.run_with_cache(corrupt_prompt)\n",
        "\n",
        "    patching_effect = torch.zeros(n_layers*n_heads, n_pos)\n",
        "    for layer in range(n_layers):\n",
        "        for head in range(n_heads):\n",
        "          for pos in range(n_pos):\n",
        "              fwd_hooks = [(f\"blocks.{layer}.attn.hook_result\", partial(patch_head_result, layer=layer, head=head, pos=pos))]\n",
        "              prediction_logits = model_2l.run_with_hooks(clean_prompt, fwd_hooks=fwd_hooks)[0, -1]\n",
        "              patching_effect[n_heads*layer+head, pos] = prediction_logits[clean_answer_index] - prediction_logits[corrupt_answer_index]\n",
        "    # Plot\n",
        "    token_labels = [f\"(pos {i:2}) {t}\" for i, t in enumerate(clean_tokens)]\n",
        "    layerhead_labels = [f\"{l}.{h}\" for l in range(n_layers) for h in range(n_heads)]\n",
        "    imshow(patching_effect-clean_prediction_logit_diff, xticks=token_labels, yticks=layerhead_labels, xlabel=\"position\", ylabel=\"layer.head\",\n",
        "               zlabel=\"Logit difference difference\", title=f\"Patching with{corrupt_tokens[4]} /{corrupt_tokens[5]} /{corrupt_tokens[11]}\", width=500, height=500)\n"
      ],
      "metadata": {
        "colab": {
          "base_uri": "https://localhost:8080/",
          "height": 1000
        },
        "id": "1rm0nSUtsJyd",
        "outputId": "5cdcad8b-809c-4eb4-db89-30d6fea40dc3"
      },
      "execution_count": null,
      "outputs": [
        {
          "output_type": "display_data",
          "data": {
            "text/html": [
              "<html>\n",
              "<head><meta charset=\"utf-8\" /></head>\n",
              "<body>\n",
              "    <div>            <script src=\"https://cdnjs.cloudflare.com/ajax/libs/mathjax/2.7.5/MathJax.js?config=TeX-AMS-MML_SVG\"></script><script type=\"text/javascript\">if (window.MathJax) {MathJax.Hub.Config({SVG: {font: \"STIX-Web\"}});}</script>                <script type=\"text/javascript\">window.PlotlyConfig = {MathJaxConfig: 'local'};</script>\n",
              "        <script src=\"https://cdn.plot.ly/plotly-2.8.3.min.js\"></script>                <div id=\"5390fb9f-4557-4507-bbbc-9bdb8e1ce0d5\" class=\"plotly-graph-div\" style=\"height:500px; width:500px;\"></div>            <script type=\"text/javascript\">                                    window.PLOTLYENV=window.PLOTLYENV || {};                                    if (document.getElementById(\"5390fb9f-4557-4507-bbbc-9bdb8e1ce0d5\")) {                    Plotly.newPlot(                        \"5390fb9f-4557-4507-bbbc-9bdb8e1ce0d5\",                        [{\"coloraxis\":\"coloraxis\",\"name\":\"0\",\"x\":[\"(pos  0) <|BOS|>\",\"(pos  1) Her\",\"(pos  2)  name\",\"(pos  3)  was\",\"(pos  4)  Alex\",\"(pos  5)  Hart\",\"(pos  6) .\",\"(pos  7)  Tomorrow\",\"(pos  8)  at\",\"(pos  9)  lunch\",\"(pos 10)  time\",\"(pos 11)  Alex\"],\"y\":[\"0.0\",\"0.1\",\"0.2\",\"0.3\",\"0.4\",\"0.5\",\"0.6\",\"0.7\",\"1.0\",\"1.1\",\"1.2\",\"1.3\",\"1.4\",\"1.5\",\"1.6\",\"1.7\"],\"z\":[[0.0,0.0,0.0,0.0,0.0,-0.14394378662109375,-8.20159912109375e-05,-0.0018053054809570312,-0.004162788391113281,-0.0013360977172851562,0.0005731582641601562,0.03118133544921875],[0.0,0.0,0.0,0.0,0.0,-0.2546205520629883,6.389617919921875e-05,7.724761962890625e-05,-2.193450927734375e-05,0.00030040740966796875,7.2479248046875e-05,-0.0001678466796875],[0.0,0.0,0.0,0.0,0.0,-0.0711069107055664,0.03795146942138672,0.006007194519042969,-0.00255584716796875,4.38690185546875e-05,5.7220458984375e-05,0.0020160675048828125],[0.0,0.0,0.0,0.0,0.0,-0.011462211608886719,-0.012969017028808594,-0.007269859313964844,-0.00084686279296875,-0.0019893646240234375,-0.00046253204345703125,0.02938556671142578],[0.0,0.0,0.0,0.0,0.0,0.011052131652832031,0.005096435546875,-0.00164031982421875,0.005146980285644531,-0.001705169677734375,-0.00046634674072265625,-0.0035123825073242188],[0.0,0.0,0.0,0.0,0.0,-0.08182716369628906,-0.021284103393554688,0.039528846740722656,0.009184837341308594,-0.0026569366455078125,-0.0017299652099609375,0.013853073120117188],[0.0,0.0,0.0,0.0,0.0,-0.1928558349609375,-0.05428791046142578,-0.014920234680175781,-0.0019664764404296875,-0.005087852478027344,-0.0020599365234375,-0.11765384674072266],[0.0,0.0,0.0,0.0,0.0,-0.0006914138793945312,-0.007393836975097656,0.0020475387573242188,-4.291534423828125e-05,3.719329833984375e-05,-3.0517578125e-05,-0.00031280517578125],[0.0,0.0,0.0,0.0,0.0,0.0,0.0,0.0,0.0,0.0,0.0,0.03238487243652344],[0.0,0.0,0.0,0.0,0.0,0.0,0.0,0.0,0.0,0.0,0.0,-1.3285818099975586],[0.0,0.0,0.0,0.0,0.0,0.0,0.0,0.0,0.0,0.0,0.0,0.007313728332519531],[0.0,0.0,0.0,0.0,0.0,0.0,0.0,0.0,0.0,0.0,0.0,-0.026694297790527344],[0.0,0.0,0.0,0.0,0.0,0.0,0.0,0.0,0.0,0.0,0.0,-0.2775869369506836],[0.0,0.0,0.0,0.0,0.0,0.0,0.0,0.0,0.0,0.0,0.0,0.11507606506347656],[0.0,0.0,0.0,0.0,0.0,0.0,0.0,0.0,0.0,0.0,0.0,-13.267616271972656],[0.0,0.0,0.0,0.0,0.0,0.0,0.0,0.0,0.0,0.0,0.0,0.05412769317626953]],\"type\":\"heatmap\",\"xaxis\":\"x\",\"yaxis\":\"y\",\"hovertemplate\":\"position: %{x}<br>layer.head: %{y}<br>Logit difference difference: %{z}<extra></extra>\"}],                        {\"template\":{\"data\":{\"bar\":[{\"error_x\":{\"color\":\"#2a3f5f\"},\"error_y\":{\"color\":\"#2a3f5f\"},\"marker\":{\"line\":{\"color\":\"#E5ECF6\",\"width\":0.5},\"pattern\":{\"fillmode\":\"overlay\",\"size\":10,\"solidity\":0.2}},\"type\":\"bar\"}],\"barpolar\":[{\"marker\":{\"line\":{\"color\":\"#E5ECF6\",\"width\":0.5},\"pattern\":{\"fillmode\":\"overlay\",\"size\":10,\"solidity\":0.2}},\"type\":\"barpolar\"}],\"carpet\":[{\"aaxis\":{\"endlinecolor\":\"#2a3f5f\",\"gridcolor\":\"white\",\"linecolor\":\"white\",\"minorgridcolor\":\"white\",\"startlinecolor\":\"#2a3f5f\"},\"baxis\":{\"endlinecolor\":\"#2a3f5f\",\"gridcolor\":\"white\",\"linecolor\":\"white\",\"minorgridcolor\":\"white\",\"startlinecolor\":\"#2a3f5f\"},\"type\":\"carpet\"}],\"choropleth\":[{\"colorbar\":{\"outlinewidth\":0,\"ticks\":\"\"},\"type\":\"choropleth\"}],\"contour\":[{\"colorbar\":{\"outlinewidth\":0,\"ticks\":\"\"},\"colorscale\":[[0.0,\"#0d0887\"],[0.1111111111111111,\"#46039f\"],[0.2222222222222222,\"#7201a8\"],[0.3333333333333333,\"#9c179e\"],[0.4444444444444444,\"#bd3786\"],[0.5555555555555556,\"#d8576b\"],[0.6666666666666666,\"#ed7953\"],[0.7777777777777778,\"#fb9f3a\"],[0.8888888888888888,\"#fdca26\"],[1.0,\"#f0f921\"]],\"type\":\"contour\"}],\"contourcarpet\":[{\"colorbar\":{\"outlinewidth\":0,\"ticks\":\"\"},\"type\":\"contourcarpet\"}],\"heatmap\":[{\"colorbar\":{\"outlinewidth\":0,\"ticks\":\"\"},\"colorscale\":[[0.0,\"#0d0887\"],[0.1111111111111111,\"#46039f\"],[0.2222222222222222,\"#7201a8\"],[0.3333333333333333,\"#9c179e\"],[0.4444444444444444,\"#bd3786\"],[0.5555555555555556,\"#d8576b\"],[0.6666666666666666,\"#ed7953\"],[0.7777777777777778,\"#fb9f3a\"],[0.8888888888888888,\"#fdca26\"],[1.0,\"#f0f921\"]],\"type\":\"heatmap\"}],\"heatmapgl\":[{\"colorbar\":{\"outlinewidth\":0,\"ticks\":\"\"},\"colorscale\":[[0.0,\"#0d0887\"],[0.1111111111111111,\"#46039f\"],[0.2222222222222222,\"#7201a8\"],[0.3333333333333333,\"#9c179e\"],[0.4444444444444444,\"#bd3786\"],[0.5555555555555556,\"#d8576b\"],[0.6666666666666666,\"#ed7953\"],[0.7777777777777778,\"#fb9f3a\"],[0.8888888888888888,\"#fdca26\"],[1.0,\"#f0f921\"]],\"type\":\"heatmapgl\"}],\"histogram\":[{\"marker\":{\"pattern\":{\"fillmode\":\"overlay\",\"size\":10,\"solidity\":0.2}},\"type\":\"histogram\"}],\"histogram2d\":[{\"colorbar\":{\"outlinewidth\":0,\"ticks\":\"\"},\"colorscale\":[[0.0,\"#0d0887\"],[0.1111111111111111,\"#46039f\"],[0.2222222222222222,\"#7201a8\"],[0.3333333333333333,\"#9c179e\"],[0.4444444444444444,\"#bd3786\"],[0.5555555555555556,\"#d8576b\"],[0.6666666666666666,\"#ed7953\"],[0.7777777777777778,\"#fb9f3a\"],[0.8888888888888888,\"#fdca26\"],[1.0,\"#f0f921\"]],\"type\":\"histogram2d\"}],\"histogram2dcontour\":[{\"colorbar\":{\"outlinewidth\":0,\"ticks\":\"\"},\"colorscale\":[[0.0,\"#0d0887\"],[0.1111111111111111,\"#46039f\"],[0.2222222222222222,\"#7201a8\"],[0.3333333333333333,\"#9c179e\"],[0.4444444444444444,\"#bd3786\"],[0.5555555555555556,\"#d8576b\"],[0.6666666666666666,\"#ed7953\"],[0.7777777777777778,\"#fb9f3a\"],[0.8888888888888888,\"#fdca26\"],[1.0,\"#f0f921\"]],\"type\":\"histogram2dcontour\"}],\"mesh3d\":[{\"colorbar\":{\"outlinewidth\":0,\"ticks\":\"\"},\"type\":\"mesh3d\"}],\"parcoords\":[{\"line\":{\"colorbar\":{\"outlinewidth\":0,\"ticks\":\"\"}},\"type\":\"parcoords\"}],\"pie\":[{\"automargin\":true,\"type\":\"pie\"}],\"scatter\":[{\"marker\":{\"colorbar\":{\"outlinewidth\":0,\"ticks\":\"\"}},\"type\":\"scatter\"}],\"scatter3d\":[{\"line\":{\"colorbar\":{\"outlinewidth\":0,\"ticks\":\"\"}},\"marker\":{\"colorbar\":{\"outlinewidth\":0,\"ticks\":\"\"}},\"type\":\"scatter3d\"}],\"scattercarpet\":[{\"marker\":{\"colorbar\":{\"outlinewidth\":0,\"ticks\":\"\"}},\"type\":\"scattercarpet\"}],\"scattergeo\":[{\"marker\":{\"colorbar\":{\"outlinewidth\":0,\"ticks\":\"\"}},\"type\":\"scattergeo\"}],\"scattergl\":[{\"marker\":{\"colorbar\":{\"outlinewidth\":0,\"ticks\":\"\"}},\"type\":\"scattergl\"}],\"scattermapbox\":[{\"marker\":{\"colorbar\":{\"outlinewidth\":0,\"ticks\":\"\"}},\"type\":\"scattermapbox\"}],\"scatterpolar\":[{\"marker\":{\"colorbar\":{\"outlinewidth\":0,\"ticks\":\"\"}},\"type\":\"scatterpolar\"}],\"scatterpolargl\":[{\"marker\":{\"colorbar\":{\"outlinewidth\":0,\"ticks\":\"\"}},\"type\":\"scatterpolargl\"}],\"scatterternary\":[{\"marker\":{\"colorbar\":{\"outlinewidth\":0,\"ticks\":\"\"}},\"type\":\"scatterternary\"}],\"surface\":[{\"colorbar\":{\"outlinewidth\":0,\"ticks\":\"\"},\"colorscale\":[[0.0,\"#0d0887\"],[0.1111111111111111,\"#46039f\"],[0.2222222222222222,\"#7201a8\"],[0.3333333333333333,\"#9c179e\"],[0.4444444444444444,\"#bd3786\"],[0.5555555555555556,\"#d8576b\"],[0.6666666666666666,\"#ed7953\"],[0.7777777777777778,\"#fb9f3a\"],[0.8888888888888888,\"#fdca26\"],[1.0,\"#f0f921\"]],\"type\":\"surface\"}],\"table\":[{\"cells\":{\"fill\":{\"color\":\"#EBF0F8\"},\"line\":{\"color\":\"white\"}},\"header\":{\"fill\":{\"color\":\"#C8D4E3\"},\"line\":{\"color\":\"white\"}},\"type\":\"table\"}]},\"layout\":{\"annotationdefaults\":{\"arrowcolor\":\"#2a3f5f\",\"arrowhead\":0,\"arrowwidth\":1},\"autotypenumbers\":\"strict\",\"coloraxis\":{\"colorbar\":{\"outlinewidth\":0,\"ticks\":\"\"}},\"colorscale\":{\"diverging\":[[0,\"#8e0152\"],[0.1,\"#c51b7d\"],[0.2,\"#de77ae\"],[0.3,\"#f1b6da\"],[0.4,\"#fde0ef\"],[0.5,\"#f7f7f7\"],[0.6,\"#e6f5d0\"],[0.7,\"#b8e186\"],[0.8,\"#7fbc41\"],[0.9,\"#4d9221\"],[1,\"#276419\"]],\"sequential\":[[0.0,\"#0d0887\"],[0.1111111111111111,\"#46039f\"],[0.2222222222222222,\"#7201a8\"],[0.3333333333333333,\"#9c179e\"],[0.4444444444444444,\"#bd3786\"],[0.5555555555555556,\"#d8576b\"],[0.6666666666666666,\"#ed7953\"],[0.7777777777777778,\"#fb9f3a\"],[0.8888888888888888,\"#fdca26\"],[1.0,\"#f0f921\"]],\"sequentialminus\":[[0.0,\"#0d0887\"],[0.1111111111111111,\"#46039f\"],[0.2222222222222222,\"#7201a8\"],[0.3333333333333333,\"#9c179e\"],[0.4444444444444444,\"#bd3786\"],[0.5555555555555556,\"#d8576b\"],[0.6666666666666666,\"#ed7953\"],[0.7777777777777778,\"#fb9f3a\"],[0.8888888888888888,\"#fdca26\"],[1.0,\"#f0f921\"]]},\"colorway\":[\"#636efa\",\"#EF553B\",\"#00cc96\",\"#ab63fa\",\"#FFA15A\",\"#19d3f3\",\"#FF6692\",\"#B6E880\",\"#FF97FF\",\"#FECB52\"],\"font\":{\"color\":\"#2a3f5f\"},\"geo\":{\"bgcolor\":\"white\",\"lakecolor\":\"white\",\"landcolor\":\"#E5ECF6\",\"showlakes\":true,\"showland\":true,\"subunitcolor\":\"white\"},\"hoverlabel\":{\"align\":\"left\"},\"hovermode\":\"closest\",\"mapbox\":{\"style\":\"light\"},\"paper_bgcolor\":\"white\",\"plot_bgcolor\":\"#E5ECF6\",\"polar\":{\"angularaxis\":{\"gridcolor\":\"white\",\"linecolor\":\"white\",\"ticks\":\"\"},\"bgcolor\":\"#E5ECF6\",\"radialaxis\":{\"gridcolor\":\"white\",\"linecolor\":\"white\",\"ticks\":\"\"}},\"scene\":{\"xaxis\":{\"backgroundcolor\":\"#E5ECF6\",\"gridcolor\":\"white\",\"gridwidth\":2,\"linecolor\":\"white\",\"showbackground\":true,\"ticks\":\"\",\"zerolinecolor\":\"white\"},\"yaxis\":{\"backgroundcolor\":\"#E5ECF6\",\"gridcolor\":\"white\",\"gridwidth\":2,\"linecolor\":\"white\",\"showbackground\":true,\"ticks\":\"\",\"zerolinecolor\":\"white\"},\"zaxis\":{\"backgroundcolor\":\"#E5ECF6\",\"gridcolor\":\"white\",\"gridwidth\":2,\"linecolor\":\"white\",\"showbackground\":true,\"ticks\":\"\",\"zerolinecolor\":\"white\"}},\"shapedefaults\":{\"line\":{\"color\":\"#2a3f5f\"}},\"ternary\":{\"aaxis\":{\"gridcolor\":\"white\",\"linecolor\":\"white\",\"ticks\":\"\"},\"baxis\":{\"gridcolor\":\"white\",\"linecolor\":\"white\",\"ticks\":\"\"},\"bgcolor\":\"#E5ECF6\",\"caxis\":{\"gridcolor\":\"white\",\"linecolor\":\"white\",\"ticks\":\"\"}},\"title\":{\"x\":0.05},\"xaxis\":{\"automargin\":true,\"gridcolor\":\"white\",\"linecolor\":\"white\",\"ticks\":\"\",\"title\":{\"standoff\":15},\"zerolinecolor\":\"white\",\"zerolinewidth\":2},\"yaxis\":{\"automargin\":true,\"gridcolor\":\"white\",\"linecolor\":\"white\",\"ticks\":\"\",\"title\":{\"standoff\":15},\"zerolinecolor\":\"white\",\"zerolinewidth\":2}}},\"xaxis\":{\"anchor\":\"y\",\"domain\":[0.0,1.0],\"scaleanchor\":\"y\",\"constrain\":\"domain\",\"title\":{\"text\":\"position\"}},\"yaxis\":{\"anchor\":\"x\",\"domain\":[0.0,1.0],\"autorange\":\"reversed\",\"constrain\":\"domain\",\"title\":{\"text\":\"layer.head\"}},\"coloraxis\":{\"colorbar\":{\"title\":{\"text\":\"Logit difference difference\"}},\"colorscale\":[[0.0,\"rgb(103,0,31)\"],[0.1,\"rgb(178,24,43)\"],[0.2,\"rgb(214,96,77)\"],[0.3,\"rgb(244,165,130)\"],[0.4,\"rgb(253,219,199)\"],[0.5,\"rgb(247,247,247)\"],[0.6,\"rgb(209,229,240)\"],[0.7,\"rgb(146,197,222)\"],[0.8,\"rgb(67,147,195)\"],[0.9,\"rgb(33,102,172)\"],[1.0,\"rgb(5,48,97)\"]],\"cmid\":0.0},\"title\":{\"text\":\"Patching with Alex / Carroll / Alex\"},\"height\":500,\"width\":500},                        {\"responsive\": true}                    ).then(function(){\n",
              "                            \n",
              "var gd = document.getElementById('5390fb9f-4557-4507-bbbc-9bdb8e1ce0d5');\n",
              "var x = new MutationObserver(function (mutations, observer) {{\n",
              "        var display = window.getComputedStyle(gd).display;\n",
              "        if (!display || display === 'none') {{\n",
              "            console.log([gd, 'removed!']);\n",
              "            Plotly.purge(gd);\n",
              "            observer.disconnect();\n",
              "        }}\n",
              "}});\n",
              "\n",
              "// Listen for the removal of the full notebook cells\n",
              "var notebookContainer = gd.closest('#notebook-container');\n",
              "if (notebookContainer) {{\n",
              "    x.observe(notebookContainer, {childList: true});\n",
              "}}\n",
              "\n",
              "// Listen for the clearing of the current output cell\n",
              "var outputEl = gd.closest('.output');\n",
              "if (outputEl) {{\n",
              "    x.observe(outputEl, {childList: true});\n",
              "}}\n",
              "\n",
              "                        })                };                            </script>        </div>\n",
              "</body>\n",
              "</html>"
            ]
          },
          "metadata": {}
        },
        {
          "output_type": "display_data",
          "data": {
            "text/html": [
              "<html>\n",
              "<head><meta charset=\"utf-8\" /></head>\n",
              "<body>\n",
              "    <div>            <script src=\"https://cdnjs.cloudflare.com/ajax/libs/mathjax/2.7.5/MathJax.js?config=TeX-AMS-MML_SVG\"></script><script type=\"text/javascript\">if (window.MathJax) {MathJax.Hub.Config({SVG: {font: \"STIX-Web\"}});}</script>                <script type=\"text/javascript\">window.PlotlyConfig = {MathJaxConfig: 'local'};</script>\n",
              "        <script src=\"https://cdn.plot.ly/plotly-2.8.3.min.js\"></script>                <div id=\"71109769-90b3-41e7-b80b-c5841d903ce5\" class=\"plotly-graph-div\" style=\"height:500px; width:500px;\"></div>            <script type=\"text/javascript\">                                    window.PLOTLYENV=window.PLOTLYENV || {};                                    if (document.getElementById(\"71109769-90b3-41e7-b80b-c5841d903ce5\")) {                    Plotly.newPlot(                        \"71109769-90b3-41e7-b80b-c5841d903ce5\",                        [{\"coloraxis\":\"coloraxis\",\"name\":\"0\",\"x\":[\"(pos  0) <|BOS|>\",\"(pos  1) Her\",\"(pos  2)  name\",\"(pos  3)  was\",\"(pos  4)  Alex\",\"(pos  5)  Hart\",\"(pos  6) .\",\"(pos  7)  Tomorrow\",\"(pos  8)  at\",\"(pos  9)  lunch\",\"(pos 10)  time\",\"(pos 11)  Alex\"],\"y\":[\"0.0\",\"0.1\",\"0.2\",\"0.3\",\"0.4\",\"0.5\",\"0.6\",\"0.7\",\"1.0\",\"1.1\",\"1.2\",\"1.3\",\"1.4\",\"1.5\",\"1.6\",\"1.7\"],\"z\":[[0.0,0.0,0.0,0.0,-0.0028362274169921875,-0.1589374542236328,-0.004296302795410156,0.005734443664550781,-0.006634712219238281,-0.004487037658691406,-0.0011339187622070312,0.015868186950683594],[0.0,0.0,0.0,0.0,-0.036334991455078125,-0.000278472900390625,-5.245208740234375e-05,0.0006999969482421875,0.000244140625,0.00037097930908203125,-3.910064697265625e-05,-2.592616081237793],[0.0,0.0,0.0,0.0,-0.0025320053100585938,-2.55025577545166,0.019090652465820312,0.0007963180541992188,-0.0012454986572265625,3.719329833984375e-05,-4.76837158203125e-05,-0.0015811920166015625],[0.0,0.0,0.0,0.0,-0.0018987655639648438,0.014880180358886719,0.0037050247192382812,-0.007035255432128906,0.0032701492309570312,-0.00091552734375,0.0026426315307617188,0.009844779968261719],[0.0,0.0,0.0,0.0,0.004357337951660156,-0.019165992736816406,-0.0037069320678710938,-0.0014734268188476562,-0.0018033981323242188,0.0011615753173828125,0.000324249267578125,-0.002399444580078125],[0.0,0.0,0.0,0.0,-0.00034046173095703125,-0.09510326385498047,0.026612281799316406,-0.0037660598754882812,0.016271591186523438,0.0008268356323242188,0.00012493133544921875,0.004162788391113281],[0.0,0.0,0.0,0.0,0.0341796875,-0.0583648681640625,0.011908531188964844,0.004286766052246094,-0.013360977172851562,-0.0005359649658203125,-0.0022678375244140625,0.11770820617675781],[0.0,0.0,0.0,0.0,-0.0015926361083984375,0.0005779266357421875,-0.0032949447631835938,-5.340576171875e-05,-0.0003299713134765625,4.38690185546875e-05,1.9073486328125e-06,0.0007314682006835938],[0.0,0.0,0.0,0.0,0.0,0.0,0.0,0.0,0.0,0.0,0.0,-0.2443246841430664],[0.0,0.0,0.0,0.0,0.0,0.0,0.0,0.0,0.0,0.0,0.0,-0.16509437561035156],[0.0,0.0,0.0,0.0,0.0,0.0,0.0,0.0,0.0,0.0,0.0,-0.011457443237304688],[0.0,0.0,0.0,0.0,0.0,0.0,0.0,0.0,0.0,0.0,0.0,-0.048778533935546875],[0.0,0.0,0.0,0.0,0.0,0.0,0.0,0.0,0.0,0.0,0.0,-0.033974647521972656],[0.0,0.0,0.0,0.0,0.0,0.0,0.0,0.0,0.0,0.0,0.0,0.0020322799682617188],[0.0,0.0,0.0,0.0,0.0,0.0,0.0,0.0,0.0,0.0,0.0,-4.753166198730469],[0.0,0.0,0.0,0.0,0.0,0.0,0.0,0.0,0.0,0.0,0.0,0.07618331909179688]],\"type\":\"heatmap\",\"xaxis\":\"x\",\"yaxis\":\"y\",\"hovertemplate\":\"position: %{x}<br>layer.head: %{y}<br>Logit difference difference: %{z}<extra></extra>\"}],                        {\"template\":{\"data\":{\"bar\":[{\"error_x\":{\"color\":\"#2a3f5f\"},\"error_y\":{\"color\":\"#2a3f5f\"},\"marker\":{\"line\":{\"color\":\"#E5ECF6\",\"width\":0.5},\"pattern\":{\"fillmode\":\"overlay\",\"size\":10,\"solidity\":0.2}},\"type\":\"bar\"}],\"barpolar\":[{\"marker\":{\"line\":{\"color\":\"#E5ECF6\",\"width\":0.5},\"pattern\":{\"fillmode\":\"overlay\",\"size\":10,\"solidity\":0.2}},\"type\":\"barpolar\"}],\"carpet\":[{\"aaxis\":{\"endlinecolor\":\"#2a3f5f\",\"gridcolor\":\"white\",\"linecolor\":\"white\",\"minorgridcolor\":\"white\",\"startlinecolor\":\"#2a3f5f\"},\"baxis\":{\"endlinecolor\":\"#2a3f5f\",\"gridcolor\":\"white\",\"linecolor\":\"white\",\"minorgridcolor\":\"white\",\"startlinecolor\":\"#2a3f5f\"},\"type\":\"carpet\"}],\"choropleth\":[{\"colorbar\":{\"outlinewidth\":0,\"ticks\":\"\"},\"type\":\"choropleth\"}],\"contour\":[{\"colorbar\":{\"outlinewidth\":0,\"ticks\":\"\"},\"colorscale\":[[0.0,\"#0d0887\"],[0.1111111111111111,\"#46039f\"],[0.2222222222222222,\"#7201a8\"],[0.3333333333333333,\"#9c179e\"],[0.4444444444444444,\"#bd3786\"],[0.5555555555555556,\"#d8576b\"],[0.6666666666666666,\"#ed7953\"],[0.7777777777777778,\"#fb9f3a\"],[0.8888888888888888,\"#fdca26\"],[1.0,\"#f0f921\"]],\"type\":\"contour\"}],\"contourcarpet\":[{\"colorbar\":{\"outlinewidth\":0,\"ticks\":\"\"},\"type\":\"contourcarpet\"}],\"heatmap\":[{\"colorbar\":{\"outlinewidth\":0,\"ticks\":\"\"},\"colorscale\":[[0.0,\"#0d0887\"],[0.1111111111111111,\"#46039f\"],[0.2222222222222222,\"#7201a8\"],[0.3333333333333333,\"#9c179e\"],[0.4444444444444444,\"#bd3786\"],[0.5555555555555556,\"#d8576b\"],[0.6666666666666666,\"#ed7953\"],[0.7777777777777778,\"#fb9f3a\"],[0.8888888888888888,\"#fdca26\"],[1.0,\"#f0f921\"]],\"type\":\"heatmap\"}],\"heatmapgl\":[{\"colorbar\":{\"outlinewidth\":0,\"ticks\":\"\"},\"colorscale\":[[0.0,\"#0d0887\"],[0.1111111111111111,\"#46039f\"],[0.2222222222222222,\"#7201a8\"],[0.3333333333333333,\"#9c179e\"],[0.4444444444444444,\"#bd3786\"],[0.5555555555555556,\"#d8576b\"],[0.6666666666666666,\"#ed7953\"],[0.7777777777777778,\"#fb9f3a\"],[0.8888888888888888,\"#fdca26\"],[1.0,\"#f0f921\"]],\"type\":\"heatmapgl\"}],\"histogram\":[{\"marker\":{\"pattern\":{\"fillmode\":\"overlay\",\"size\":10,\"solidity\":0.2}},\"type\":\"histogram\"}],\"histogram2d\":[{\"colorbar\":{\"outlinewidth\":0,\"ticks\":\"\"},\"colorscale\":[[0.0,\"#0d0887\"],[0.1111111111111111,\"#46039f\"],[0.2222222222222222,\"#7201a8\"],[0.3333333333333333,\"#9c179e\"],[0.4444444444444444,\"#bd3786\"],[0.5555555555555556,\"#d8576b\"],[0.6666666666666666,\"#ed7953\"],[0.7777777777777778,\"#fb9f3a\"],[0.8888888888888888,\"#fdca26\"],[1.0,\"#f0f921\"]],\"type\":\"histogram2d\"}],\"histogram2dcontour\":[{\"colorbar\":{\"outlinewidth\":0,\"ticks\":\"\"},\"colorscale\":[[0.0,\"#0d0887\"],[0.1111111111111111,\"#46039f\"],[0.2222222222222222,\"#7201a8\"],[0.3333333333333333,\"#9c179e\"],[0.4444444444444444,\"#bd3786\"],[0.5555555555555556,\"#d8576b\"],[0.6666666666666666,\"#ed7953\"],[0.7777777777777778,\"#fb9f3a\"],[0.8888888888888888,\"#fdca26\"],[1.0,\"#f0f921\"]],\"type\":\"histogram2dcontour\"}],\"mesh3d\":[{\"colorbar\":{\"outlinewidth\":0,\"ticks\":\"\"},\"type\":\"mesh3d\"}],\"parcoords\":[{\"line\":{\"colorbar\":{\"outlinewidth\":0,\"ticks\":\"\"}},\"type\":\"parcoords\"}],\"pie\":[{\"automargin\":true,\"type\":\"pie\"}],\"scatter\":[{\"marker\":{\"colorbar\":{\"outlinewidth\":0,\"ticks\":\"\"}},\"type\":\"scatter\"}],\"scatter3d\":[{\"line\":{\"colorbar\":{\"outlinewidth\":0,\"ticks\":\"\"}},\"marker\":{\"colorbar\":{\"outlinewidth\":0,\"ticks\":\"\"}},\"type\":\"scatter3d\"}],\"scattercarpet\":[{\"marker\":{\"colorbar\":{\"outlinewidth\":0,\"ticks\":\"\"}},\"type\":\"scattercarpet\"}],\"scattergeo\":[{\"marker\":{\"colorbar\":{\"outlinewidth\":0,\"ticks\":\"\"}},\"type\":\"scattergeo\"}],\"scattergl\":[{\"marker\":{\"colorbar\":{\"outlinewidth\":0,\"ticks\":\"\"}},\"type\":\"scattergl\"}],\"scattermapbox\":[{\"marker\":{\"colorbar\":{\"outlinewidth\":0,\"ticks\":\"\"}},\"type\":\"scattermapbox\"}],\"scatterpolar\":[{\"marker\":{\"colorbar\":{\"outlinewidth\":0,\"ticks\":\"\"}},\"type\":\"scatterpolar\"}],\"scatterpolargl\":[{\"marker\":{\"colorbar\":{\"outlinewidth\":0,\"ticks\":\"\"}},\"type\":\"scatterpolargl\"}],\"scatterternary\":[{\"marker\":{\"colorbar\":{\"outlinewidth\":0,\"ticks\":\"\"}},\"type\":\"scatterternary\"}],\"surface\":[{\"colorbar\":{\"outlinewidth\":0,\"ticks\":\"\"},\"colorscale\":[[0.0,\"#0d0887\"],[0.1111111111111111,\"#46039f\"],[0.2222222222222222,\"#7201a8\"],[0.3333333333333333,\"#9c179e\"],[0.4444444444444444,\"#bd3786\"],[0.5555555555555556,\"#d8576b\"],[0.6666666666666666,\"#ed7953\"],[0.7777777777777778,\"#fb9f3a\"],[0.8888888888888888,\"#fdca26\"],[1.0,\"#f0f921\"]],\"type\":\"surface\"}],\"table\":[{\"cells\":{\"fill\":{\"color\":\"#EBF0F8\"},\"line\":{\"color\":\"white\"}},\"header\":{\"fill\":{\"color\":\"#C8D4E3\"},\"line\":{\"color\":\"white\"}},\"type\":\"table\"}]},\"layout\":{\"annotationdefaults\":{\"arrowcolor\":\"#2a3f5f\",\"arrowhead\":0,\"arrowwidth\":1},\"autotypenumbers\":\"strict\",\"coloraxis\":{\"colorbar\":{\"outlinewidth\":0,\"ticks\":\"\"}},\"colorscale\":{\"diverging\":[[0,\"#8e0152\"],[0.1,\"#c51b7d\"],[0.2,\"#de77ae\"],[0.3,\"#f1b6da\"],[0.4,\"#fde0ef\"],[0.5,\"#f7f7f7\"],[0.6,\"#e6f5d0\"],[0.7,\"#b8e186\"],[0.8,\"#7fbc41\"],[0.9,\"#4d9221\"],[1,\"#276419\"]],\"sequential\":[[0.0,\"#0d0887\"],[0.1111111111111111,\"#46039f\"],[0.2222222222222222,\"#7201a8\"],[0.3333333333333333,\"#9c179e\"],[0.4444444444444444,\"#bd3786\"],[0.5555555555555556,\"#d8576b\"],[0.6666666666666666,\"#ed7953\"],[0.7777777777777778,\"#fb9f3a\"],[0.8888888888888888,\"#fdca26\"],[1.0,\"#f0f921\"]],\"sequentialminus\":[[0.0,\"#0d0887\"],[0.1111111111111111,\"#46039f\"],[0.2222222222222222,\"#7201a8\"],[0.3333333333333333,\"#9c179e\"],[0.4444444444444444,\"#bd3786\"],[0.5555555555555556,\"#d8576b\"],[0.6666666666666666,\"#ed7953\"],[0.7777777777777778,\"#fb9f3a\"],[0.8888888888888888,\"#fdca26\"],[1.0,\"#f0f921\"]]},\"colorway\":[\"#636efa\",\"#EF553B\",\"#00cc96\",\"#ab63fa\",\"#FFA15A\",\"#19d3f3\",\"#FF6692\",\"#B6E880\",\"#FF97FF\",\"#FECB52\"],\"font\":{\"color\":\"#2a3f5f\"},\"geo\":{\"bgcolor\":\"white\",\"lakecolor\":\"white\",\"landcolor\":\"#E5ECF6\",\"showlakes\":true,\"showland\":true,\"subunitcolor\":\"white\"},\"hoverlabel\":{\"align\":\"left\"},\"hovermode\":\"closest\",\"mapbox\":{\"style\":\"light\"},\"paper_bgcolor\":\"white\",\"plot_bgcolor\":\"#E5ECF6\",\"polar\":{\"angularaxis\":{\"gridcolor\":\"white\",\"linecolor\":\"white\",\"ticks\":\"\"},\"bgcolor\":\"#E5ECF6\",\"radialaxis\":{\"gridcolor\":\"white\",\"linecolor\":\"white\",\"ticks\":\"\"}},\"scene\":{\"xaxis\":{\"backgroundcolor\":\"#E5ECF6\",\"gridcolor\":\"white\",\"gridwidth\":2,\"linecolor\":\"white\",\"showbackground\":true,\"ticks\":\"\",\"zerolinecolor\":\"white\"},\"yaxis\":{\"backgroundcolor\":\"#E5ECF6\",\"gridcolor\":\"white\",\"gridwidth\":2,\"linecolor\":\"white\",\"showbackground\":true,\"ticks\":\"\",\"zerolinecolor\":\"white\"},\"zaxis\":{\"backgroundcolor\":\"#E5ECF6\",\"gridcolor\":\"white\",\"gridwidth\":2,\"linecolor\":\"white\",\"showbackground\":true,\"ticks\":\"\",\"zerolinecolor\":\"white\"}},\"shapedefaults\":{\"line\":{\"color\":\"#2a3f5f\"}},\"ternary\":{\"aaxis\":{\"gridcolor\":\"white\",\"linecolor\":\"white\",\"ticks\":\"\"},\"baxis\":{\"gridcolor\":\"white\",\"linecolor\":\"white\",\"ticks\":\"\"},\"bgcolor\":\"#E5ECF6\",\"caxis\":{\"gridcolor\":\"white\",\"linecolor\":\"white\",\"ticks\":\"\"}},\"title\":{\"x\":0.05},\"xaxis\":{\"automargin\":true,\"gridcolor\":\"white\",\"linecolor\":\"white\",\"ticks\":\"\",\"title\":{\"standoff\":15},\"zerolinecolor\":\"white\",\"zerolinewidth\":2},\"yaxis\":{\"automargin\":true,\"gridcolor\":\"white\",\"linecolor\":\"white\",\"ticks\":\"\",\"title\":{\"standoff\":15},\"zerolinecolor\":\"white\",\"zerolinewidth\":2}}},\"xaxis\":{\"anchor\":\"y\",\"domain\":[0.0,1.0],\"scaleanchor\":\"y\",\"constrain\":\"domain\",\"title\":{\"text\":\"position\"}},\"yaxis\":{\"anchor\":\"x\",\"domain\":[0.0,1.0],\"autorange\":\"reversed\",\"constrain\":\"domain\",\"title\":{\"text\":\"layer.head\"}},\"coloraxis\":{\"colorbar\":{\"title\":{\"text\":\"Logit difference difference\"}},\"colorscale\":[[0.0,\"rgb(103,0,31)\"],[0.1,\"rgb(178,24,43)\"],[0.2,\"rgb(214,96,77)\"],[0.3,\"rgb(244,165,130)\"],[0.4,\"rgb(253,219,199)\"],[0.5,\"rgb(247,247,247)\"],[0.6,\"rgb(209,229,240)\"],[0.7,\"rgb(146,197,222)\"],[0.8,\"rgb(67,147,195)\"],[0.9,\"rgb(33,102,172)\"],[1.0,\"rgb(5,48,97)\"]],\"cmid\":0.0},\"title\":{\"text\":\"Patching with Sarah / Hart / Alex\"},\"height\":500,\"width\":500},                        {\"responsive\": true}                    ).then(function(){\n",
              "                            \n",
              "var gd = document.getElementById('71109769-90b3-41e7-b80b-c5841d903ce5');\n",
              "var x = new MutationObserver(function (mutations, observer) {{\n",
              "        var display = window.getComputedStyle(gd).display;\n",
              "        if (!display || display === 'none') {{\n",
              "            console.log([gd, 'removed!']);\n",
              "            Plotly.purge(gd);\n",
              "            observer.disconnect();\n",
              "        }}\n",
              "}});\n",
              "\n",
              "// Listen for the removal of the full notebook cells\n",
              "var notebookContainer = gd.closest('#notebook-container');\n",
              "if (notebookContainer) {{\n",
              "    x.observe(notebookContainer, {childList: true});\n",
              "}}\n",
              "\n",
              "// Listen for the clearing of the current output cell\n",
              "var outputEl = gd.closest('.output');\n",
              "if (outputEl) {{\n",
              "    x.observe(outputEl, {childList: true});\n",
              "}}\n",
              "\n",
              "                        })                };                            </script>        </div>\n",
              "</body>\n",
              "</html>"
            ]
          },
          "metadata": {}
        },
        {
          "output_type": "display_data",
          "data": {
            "text/html": [
              "<html>\n",
              "<head><meta charset=\"utf-8\" /></head>\n",
              "<body>\n",
              "    <div>            <script src=\"https://cdnjs.cloudflare.com/ajax/libs/mathjax/2.7.5/MathJax.js?config=TeX-AMS-MML_SVG\"></script><script type=\"text/javascript\">if (window.MathJax) {MathJax.Hub.Config({SVG: {font: \"STIX-Web\"}});}</script>                <script type=\"text/javascript\">window.PlotlyConfig = {MathJaxConfig: 'local'};</script>\n",
              "        <script src=\"https://cdn.plot.ly/plotly-2.8.3.min.js\"></script>                <div id=\"01dafa05-4549-464b-b15a-4cf9ef2ce34c\" class=\"plotly-graph-div\" style=\"height:500px; width:500px;\"></div>            <script type=\"text/javascript\">                                    window.PLOTLYENV=window.PLOTLYENV || {};                                    if (document.getElementById(\"01dafa05-4549-464b-b15a-4cf9ef2ce34c\")) {                    Plotly.newPlot(                        \"01dafa05-4549-464b-b15a-4cf9ef2ce34c\",                        [{\"coloraxis\":\"coloraxis\",\"name\":\"0\",\"x\":[\"(pos  0) <|BOS|>\",\"(pos  1) Her\",\"(pos  2)  name\",\"(pos  3)  was\",\"(pos  4)  Alex\",\"(pos  5)  Hart\",\"(pos  6) .\",\"(pos  7)  Tomorrow\",\"(pos  8)  at\",\"(pos  9)  lunch\",\"(pos 10)  time\",\"(pos 11)  Alex\"],\"y\":[\"0.0\",\"0.1\",\"0.2\",\"0.3\",\"0.4\",\"0.5\",\"0.6\",\"0.7\",\"1.0\",\"1.1\",\"1.2\",\"1.3\",\"1.4\",\"1.5\",\"1.6\",\"1.7\"],\"z\":[[0.0,0.0,0.0,0.0,0.0,0.0,0.0,0.0,0.0,0.0,0.0,0.02652263641357422],[0.0,0.0,0.0,0.0,0.0,0.0,0.0,0.0,0.0,0.0,0.0,-3.1166391372680664],[0.0,0.0,0.0,0.0,0.0,0.0,0.0,0.0,0.0,0.0,0.0,-0.226776123046875],[0.0,0.0,0.0,0.0,0.0,0.0,0.0,0.0,0.0,0.0,0.0,-0.02492809295654297],[0.0,0.0,0.0,0.0,0.0,0.0,0.0,0.0,0.0,0.0,0.0,-0.009036064147949219],[0.0,0.0,0.0,0.0,0.0,0.0,0.0,0.0,0.0,0.0,0.0,0.01239013671875],[0.0,0.0,0.0,0.0,0.0,0.0,0.0,0.0,0.0,0.0,0.0,0.21721363067626953],[0.0,0.0,0.0,0.0,0.0,0.0,0.0,0.0,0.0,0.0,0.0,0.035752296447753906],[0.0,0.0,0.0,0.0,0.0,0.0,0.0,0.0,0.0,0.0,0.0,-0.17223358154296875],[0.0,0.0,0.0,0.0,0.0,0.0,0.0,0.0,0.0,0.0,0.0,-0.1520671844482422],[0.0,0.0,0.0,0.0,0.0,0.0,0.0,0.0,0.0,0.0,0.0,0.014660835266113281],[0.0,0.0,0.0,0.0,0.0,0.0,0.0,0.0,0.0,0.0,0.0,-0.08365345001220703],[0.0,0.0,0.0,0.0,0.0,0.0,0.0,0.0,0.0,0.0,0.0,-0.0086669921875],[0.0,0.0,0.0,0.0,0.0,0.0,0.0,0.0,0.0,0.0,0.0,0.01675701141357422],[0.0,0.0,0.0,0.0,0.0,0.0,0.0,0.0,0.0,0.0,0.0,-4.8591508865356445],[0.0,0.0,0.0,0.0,0.0,0.0,0.0,0.0,0.0,0.0,0.0,0.06524467468261719]],\"type\":\"heatmap\",\"xaxis\":\"x\",\"yaxis\":\"y\",\"hovertemplate\":\"position: %{x}<br>layer.head: %{y}<br>Logit difference difference: %{z}<extra></extra>\"}],                        {\"template\":{\"data\":{\"bar\":[{\"error_x\":{\"color\":\"#2a3f5f\"},\"error_y\":{\"color\":\"#2a3f5f\"},\"marker\":{\"line\":{\"color\":\"#E5ECF6\",\"width\":0.5},\"pattern\":{\"fillmode\":\"overlay\",\"size\":10,\"solidity\":0.2}},\"type\":\"bar\"}],\"barpolar\":[{\"marker\":{\"line\":{\"color\":\"#E5ECF6\",\"width\":0.5},\"pattern\":{\"fillmode\":\"overlay\",\"size\":10,\"solidity\":0.2}},\"type\":\"barpolar\"}],\"carpet\":[{\"aaxis\":{\"endlinecolor\":\"#2a3f5f\",\"gridcolor\":\"white\",\"linecolor\":\"white\",\"minorgridcolor\":\"white\",\"startlinecolor\":\"#2a3f5f\"},\"baxis\":{\"endlinecolor\":\"#2a3f5f\",\"gridcolor\":\"white\",\"linecolor\":\"white\",\"minorgridcolor\":\"white\",\"startlinecolor\":\"#2a3f5f\"},\"type\":\"carpet\"}],\"choropleth\":[{\"colorbar\":{\"outlinewidth\":0,\"ticks\":\"\"},\"type\":\"choropleth\"}],\"contour\":[{\"colorbar\":{\"outlinewidth\":0,\"ticks\":\"\"},\"colorscale\":[[0.0,\"#0d0887\"],[0.1111111111111111,\"#46039f\"],[0.2222222222222222,\"#7201a8\"],[0.3333333333333333,\"#9c179e\"],[0.4444444444444444,\"#bd3786\"],[0.5555555555555556,\"#d8576b\"],[0.6666666666666666,\"#ed7953\"],[0.7777777777777778,\"#fb9f3a\"],[0.8888888888888888,\"#fdca26\"],[1.0,\"#f0f921\"]],\"type\":\"contour\"}],\"contourcarpet\":[{\"colorbar\":{\"outlinewidth\":0,\"ticks\":\"\"},\"type\":\"contourcarpet\"}],\"heatmap\":[{\"colorbar\":{\"outlinewidth\":0,\"ticks\":\"\"},\"colorscale\":[[0.0,\"#0d0887\"],[0.1111111111111111,\"#46039f\"],[0.2222222222222222,\"#7201a8\"],[0.3333333333333333,\"#9c179e\"],[0.4444444444444444,\"#bd3786\"],[0.5555555555555556,\"#d8576b\"],[0.6666666666666666,\"#ed7953\"],[0.7777777777777778,\"#fb9f3a\"],[0.8888888888888888,\"#fdca26\"],[1.0,\"#f0f921\"]],\"type\":\"heatmap\"}],\"heatmapgl\":[{\"colorbar\":{\"outlinewidth\":0,\"ticks\":\"\"},\"colorscale\":[[0.0,\"#0d0887\"],[0.1111111111111111,\"#46039f\"],[0.2222222222222222,\"#7201a8\"],[0.3333333333333333,\"#9c179e\"],[0.4444444444444444,\"#bd3786\"],[0.5555555555555556,\"#d8576b\"],[0.6666666666666666,\"#ed7953\"],[0.7777777777777778,\"#fb9f3a\"],[0.8888888888888888,\"#fdca26\"],[1.0,\"#f0f921\"]],\"type\":\"heatmapgl\"}],\"histogram\":[{\"marker\":{\"pattern\":{\"fillmode\":\"overlay\",\"size\":10,\"solidity\":0.2}},\"type\":\"histogram\"}],\"histogram2d\":[{\"colorbar\":{\"outlinewidth\":0,\"ticks\":\"\"},\"colorscale\":[[0.0,\"#0d0887\"],[0.1111111111111111,\"#46039f\"],[0.2222222222222222,\"#7201a8\"],[0.3333333333333333,\"#9c179e\"],[0.4444444444444444,\"#bd3786\"],[0.5555555555555556,\"#d8576b\"],[0.6666666666666666,\"#ed7953\"],[0.7777777777777778,\"#fb9f3a\"],[0.8888888888888888,\"#fdca26\"],[1.0,\"#f0f921\"]],\"type\":\"histogram2d\"}],\"histogram2dcontour\":[{\"colorbar\":{\"outlinewidth\":0,\"ticks\":\"\"},\"colorscale\":[[0.0,\"#0d0887\"],[0.1111111111111111,\"#46039f\"],[0.2222222222222222,\"#7201a8\"],[0.3333333333333333,\"#9c179e\"],[0.4444444444444444,\"#bd3786\"],[0.5555555555555556,\"#d8576b\"],[0.6666666666666666,\"#ed7953\"],[0.7777777777777778,\"#fb9f3a\"],[0.8888888888888888,\"#fdca26\"],[1.0,\"#f0f921\"]],\"type\":\"histogram2dcontour\"}],\"mesh3d\":[{\"colorbar\":{\"outlinewidth\":0,\"ticks\":\"\"},\"type\":\"mesh3d\"}],\"parcoords\":[{\"line\":{\"colorbar\":{\"outlinewidth\":0,\"ticks\":\"\"}},\"type\":\"parcoords\"}],\"pie\":[{\"automargin\":true,\"type\":\"pie\"}],\"scatter\":[{\"marker\":{\"colorbar\":{\"outlinewidth\":0,\"ticks\":\"\"}},\"type\":\"scatter\"}],\"scatter3d\":[{\"line\":{\"colorbar\":{\"outlinewidth\":0,\"ticks\":\"\"}},\"marker\":{\"colorbar\":{\"outlinewidth\":0,\"ticks\":\"\"}},\"type\":\"scatter3d\"}],\"scattercarpet\":[{\"marker\":{\"colorbar\":{\"outlinewidth\":0,\"ticks\":\"\"}},\"type\":\"scattercarpet\"}],\"scattergeo\":[{\"marker\":{\"colorbar\":{\"outlinewidth\":0,\"ticks\":\"\"}},\"type\":\"scattergeo\"}],\"scattergl\":[{\"marker\":{\"colorbar\":{\"outlinewidth\":0,\"ticks\":\"\"}},\"type\":\"scattergl\"}],\"scattermapbox\":[{\"marker\":{\"colorbar\":{\"outlinewidth\":0,\"ticks\":\"\"}},\"type\":\"scattermapbox\"}],\"scatterpolar\":[{\"marker\":{\"colorbar\":{\"outlinewidth\":0,\"ticks\":\"\"}},\"type\":\"scatterpolar\"}],\"scatterpolargl\":[{\"marker\":{\"colorbar\":{\"outlinewidth\":0,\"ticks\":\"\"}},\"type\":\"scatterpolargl\"}],\"scatterternary\":[{\"marker\":{\"colorbar\":{\"outlinewidth\":0,\"ticks\":\"\"}},\"type\":\"scatterternary\"}],\"surface\":[{\"colorbar\":{\"outlinewidth\":0,\"ticks\":\"\"},\"colorscale\":[[0.0,\"#0d0887\"],[0.1111111111111111,\"#46039f\"],[0.2222222222222222,\"#7201a8\"],[0.3333333333333333,\"#9c179e\"],[0.4444444444444444,\"#bd3786\"],[0.5555555555555556,\"#d8576b\"],[0.6666666666666666,\"#ed7953\"],[0.7777777777777778,\"#fb9f3a\"],[0.8888888888888888,\"#fdca26\"],[1.0,\"#f0f921\"]],\"type\":\"surface\"}],\"table\":[{\"cells\":{\"fill\":{\"color\":\"#EBF0F8\"},\"line\":{\"color\":\"white\"}},\"header\":{\"fill\":{\"color\":\"#C8D4E3\"},\"line\":{\"color\":\"white\"}},\"type\":\"table\"}]},\"layout\":{\"annotationdefaults\":{\"arrowcolor\":\"#2a3f5f\",\"arrowhead\":0,\"arrowwidth\":1},\"autotypenumbers\":\"strict\",\"coloraxis\":{\"colorbar\":{\"outlinewidth\":0,\"ticks\":\"\"}},\"colorscale\":{\"diverging\":[[0,\"#8e0152\"],[0.1,\"#c51b7d\"],[0.2,\"#de77ae\"],[0.3,\"#f1b6da\"],[0.4,\"#fde0ef\"],[0.5,\"#f7f7f7\"],[0.6,\"#e6f5d0\"],[0.7,\"#b8e186\"],[0.8,\"#7fbc41\"],[0.9,\"#4d9221\"],[1,\"#276419\"]],\"sequential\":[[0.0,\"#0d0887\"],[0.1111111111111111,\"#46039f\"],[0.2222222222222222,\"#7201a8\"],[0.3333333333333333,\"#9c179e\"],[0.4444444444444444,\"#bd3786\"],[0.5555555555555556,\"#d8576b\"],[0.6666666666666666,\"#ed7953\"],[0.7777777777777778,\"#fb9f3a\"],[0.8888888888888888,\"#fdca26\"],[1.0,\"#f0f921\"]],\"sequentialminus\":[[0.0,\"#0d0887\"],[0.1111111111111111,\"#46039f\"],[0.2222222222222222,\"#7201a8\"],[0.3333333333333333,\"#9c179e\"],[0.4444444444444444,\"#bd3786\"],[0.5555555555555556,\"#d8576b\"],[0.6666666666666666,\"#ed7953\"],[0.7777777777777778,\"#fb9f3a\"],[0.8888888888888888,\"#fdca26\"],[1.0,\"#f0f921\"]]},\"colorway\":[\"#636efa\",\"#EF553B\",\"#00cc96\",\"#ab63fa\",\"#FFA15A\",\"#19d3f3\",\"#FF6692\",\"#B6E880\",\"#FF97FF\",\"#FECB52\"],\"font\":{\"color\":\"#2a3f5f\"},\"geo\":{\"bgcolor\":\"white\",\"lakecolor\":\"white\",\"landcolor\":\"#E5ECF6\",\"showlakes\":true,\"showland\":true,\"subunitcolor\":\"white\"},\"hoverlabel\":{\"align\":\"left\"},\"hovermode\":\"closest\",\"mapbox\":{\"style\":\"light\"},\"paper_bgcolor\":\"white\",\"plot_bgcolor\":\"#E5ECF6\",\"polar\":{\"angularaxis\":{\"gridcolor\":\"white\",\"linecolor\":\"white\",\"ticks\":\"\"},\"bgcolor\":\"#E5ECF6\",\"radialaxis\":{\"gridcolor\":\"white\",\"linecolor\":\"white\",\"ticks\":\"\"}},\"scene\":{\"xaxis\":{\"backgroundcolor\":\"#E5ECF6\",\"gridcolor\":\"white\",\"gridwidth\":2,\"linecolor\":\"white\",\"showbackground\":true,\"ticks\":\"\",\"zerolinecolor\":\"white\"},\"yaxis\":{\"backgroundcolor\":\"#E5ECF6\",\"gridcolor\":\"white\",\"gridwidth\":2,\"linecolor\":\"white\",\"showbackground\":true,\"ticks\":\"\",\"zerolinecolor\":\"white\"},\"zaxis\":{\"backgroundcolor\":\"#E5ECF6\",\"gridcolor\":\"white\",\"gridwidth\":2,\"linecolor\":\"white\",\"showbackground\":true,\"ticks\":\"\",\"zerolinecolor\":\"white\"}},\"shapedefaults\":{\"line\":{\"color\":\"#2a3f5f\"}},\"ternary\":{\"aaxis\":{\"gridcolor\":\"white\",\"linecolor\":\"white\",\"ticks\":\"\"},\"baxis\":{\"gridcolor\":\"white\",\"linecolor\":\"white\",\"ticks\":\"\"},\"bgcolor\":\"#E5ECF6\",\"caxis\":{\"gridcolor\":\"white\",\"linecolor\":\"white\",\"ticks\":\"\"}},\"title\":{\"x\":0.05},\"xaxis\":{\"automargin\":true,\"gridcolor\":\"white\",\"linecolor\":\"white\",\"ticks\":\"\",\"title\":{\"standoff\":15},\"zerolinecolor\":\"white\",\"zerolinewidth\":2},\"yaxis\":{\"automargin\":true,\"gridcolor\":\"white\",\"linecolor\":\"white\",\"ticks\":\"\",\"title\":{\"standoff\":15},\"zerolinecolor\":\"white\",\"zerolinewidth\":2}}},\"xaxis\":{\"anchor\":\"y\",\"domain\":[0.0,1.0],\"scaleanchor\":\"y\",\"constrain\":\"domain\",\"title\":{\"text\":\"position\"}},\"yaxis\":{\"anchor\":\"x\",\"domain\":[0.0,1.0],\"autorange\":\"reversed\",\"constrain\":\"domain\",\"title\":{\"text\":\"layer.head\"}},\"coloraxis\":{\"colorbar\":{\"title\":{\"text\":\"Logit difference difference\"}},\"colorscale\":[[0.0,\"rgb(103,0,31)\"],[0.1,\"rgb(178,24,43)\"],[0.2,\"rgb(214,96,77)\"],[0.3,\"rgb(244,165,130)\"],[0.4,\"rgb(253,219,199)\"],[0.5,\"rgb(247,247,247)\"],[0.6,\"rgb(209,229,240)\"],[0.7,\"rgb(146,197,222)\"],[0.8,\"rgb(67,147,195)\"],[0.9,\"rgb(33,102,172)\"],[1.0,\"rgb(5,48,97)\"]],\"cmid\":0.0},\"title\":{\"text\":\"Patching with Alex / Hart / Sarah\"},\"height\":500,\"width\":500},                        {\"responsive\": true}                    ).then(function(){\n",
              "                            \n",
              "var gd = document.getElementById('01dafa05-4549-464b-b15a-4cf9ef2ce34c');\n",
              "var x = new MutationObserver(function (mutations, observer) {{\n",
              "        var display = window.getComputedStyle(gd).display;\n",
              "        if (!display || display === 'none') {{\n",
              "            console.log([gd, 'removed!']);\n",
              "            Plotly.purge(gd);\n",
              "            observer.disconnect();\n",
              "        }}\n",
              "}});\n",
              "\n",
              "// Listen for the removal of the full notebook cells\n",
              "var notebookContainer = gd.closest('#notebook-container');\n",
              "if (notebookContainer) {{\n",
              "    x.observe(notebookContainer, {childList: true});\n",
              "}}\n",
              "\n",
              "// Listen for the clearing of the current output cell\n",
              "var outputEl = gd.closest('.output');\n",
              "if (outputEl) {{\n",
              "    x.observe(outputEl, {childList: true});\n",
              "}}\n",
              "\n",
              "                        })                };                            </script>        </div>\n",
              "</body>\n",
              "</html>"
            ]
          },
          "metadata": {}
        }
      ]
    },
    {
      "cell_type": "markdown",
      "metadata": {
        "id": "SHXr_QWHp3jM"
      },
      "source": [
        "# Method 3: Circuitsvis attention plots"
      ]
    },
    {
      "cell_type": "code",
      "execution_count": null,
      "metadata": {
        "colab": {
          "base_uri": "https://localhost:8080/"
        },
        "id": "Ir5nnCDOp6ce",
        "outputId": "14abaadd-7fb4-4366-f443-77e4164c375d"
      },
      "outputs": [
        {
          "output_type": "stream",
          "name": "stdout",
          "text": [
            "Looking in indexes: https://pypi.org/simple, https://us-python.pkg.dev/colab-wheels/public/simple/\n",
            "Requirement already satisfied: circuitsvis in /usr/local/lib/python3.8/dist-packages (1.38.1)\n",
            "Requirement already satisfied: numpy<2.0,>=1.21 in /usr/local/lib/python3.8/dist-packages (from circuitsvis) (1.21.6)\n",
            "Requirement already satisfied: torch<2.0,>=1.10 in /usr/local/lib/python3.8/dist-packages (from circuitsvis) (1.13.1+cu116)\n",
            "Requirement already satisfied: importlib-metadata<6.0.0,>=5.1.0 in /usr/local/lib/python3.8/dist-packages (from circuitsvis) (5.2.0)\n",
            "Requirement already satisfied: zipp>=0.5 in /usr/local/lib/python3.8/dist-packages (from importlib-metadata<6.0.0,>=5.1.0->circuitsvis) (3.11.0)\n",
            "Requirement already satisfied: typing-extensions in /usr/local/lib/python3.8/dist-packages (from torch<2.0,>=1.10->circuitsvis) (4.4.0)\n"
          ]
        }
      ],
      "source": [
        "%pip install circuitsvis\n"
      ]
    },
    {
      "cell_type": "code",
      "execution_count": null,
      "metadata": {
        "id": "0Fmw_3D6yP9j"
      },
      "outputs": [],
      "source": [
        "import circuitsvis as cv\n"
      ]
    },
    {
      "cell_type": "code",
      "execution_count": null,
      "metadata": {
        "colab": {
          "base_uri": "https://localhost:8080/",
          "height": 356
        },
        "id": "RhpkorRPp-tD",
        "outputId": "f24d18a4-c56a-4439-b0e7-75933947dc54"
      },
      "outputs": [
        {
          "output_type": "execute_result",
          "data": {
            "text/plain": [
              "<circuitsvis.utils.render.RenderedHTML at 0x7f2f491749d0>"
            ],
            "text/html": [
              "<div id=\"circuits-vis-4bba2a26-4b92\" style=\"margin: 15px 0;\"/>\n",
              "    <script crossorigin type=\"module\">\n",
              "    import { render, AttentionPatterns } from \"https://unpkg.com/circuitsvis@1.38.1/dist/cdn/esm.js\";\n",
              "    render(\n",
              "      \"circuits-vis-4bba2a26-4b92\",\n",
              "      AttentionPatterns,\n",
              "      {\"tokens\": [\"<|BOS|>\", \"Her\", \" name\", \" was\", \" Alex\", \" Hart\", \".\", \" Tomorrow\", \" at\", \" lunch\", \" time\", \" Alex\"], \"attention\": [[[1.0, 0.0, 0.0, 0.0, 0.0, 0.0, 0.0, 0.0, 0.0, 0.0, 0.0, 0.0], [0.7022509574890137, 0.29774904251098633, 0.0, 0.0, 0.0, 0.0, 0.0, 0.0, 0.0, 0.0, 0.0, 0.0], [0.4522063732147217, 0.08852065354585648, 0.45927292108535767, 0.0, 0.0, 0.0, 0.0, 0.0, 0.0, 0.0, 0.0, 0.0], [0.07419218122959137, 0.025390198454260826, 0.8156729340553284, 0.0847446620464325, 0.0, 0.0, 0.0, 0.0, 0.0, 0.0, 0.0, 0.0], [0.20995919406414032, 0.06836379319429398, 0.3228777348995209, 0.07245215028524399, 0.32634711265563965, 0.0, 0.0, 0.0, 0.0, 0.0, 0.0, 0.0], [0.5293816328048706, 0.036210596561431885, 0.1399737298488617, 0.027696991339325905, 0.1936444640159607, 0.073092520236969, 0.0, 0.0, 0.0, 0.0, 0.0, 0.0], [0.3978877663612366, 0.05193096026778221, 0.2254907488822937, 0.09296905994415283, 0.10453182458877563, 0.03543522208929062, 0.09175445884466171, 0.0, 0.0, 0.0, 0.0, 0.0], [0.20840628445148468, 0.02704622410237789, 0.10706761479377747, 0.054632339626550674, 0.10939888656139374, 0.05351145938038826, 0.06902367621660233, 0.3709135055541992, 0.0, 0.0, 0.0, 0.0], [0.2729615271091461, 0.018111184239387512, 0.07920143753290176, 0.06168191134929657, 0.05318833142518997, 0.021161513403058052, 0.05906834080815315, 0.2936161756515503, 0.14100968837738037, 0.0, 0.0, 0.0], [0.2439095675945282, 0.012429793365299702, 0.06509923189878464, 0.0434868149459362, 0.026165423914790154, 0.009430880658328533, 0.04791352152824402, 0.10996907204389572, 0.2968379855155945, 0.14475777745246887, 0.0, 0.0], [0.04820786044001579, 0.006843765266239643, 0.05010027065873146, 0.03401613235473633, 0.048092201352119446, 0.010421792045235634, 0.01791880652308464, 0.12908582389354706, 0.4438399076461792, 0.145217165350914, 0.06625634431838989, 0.0], [0.1152796819806099, 0.023592276498675346, 0.07189687341451645, 0.03487052768468857, 0.10175976902246475, 0.03343439847230911, 0.050063248723745346, 0.12431560456752777, 0.14614605903625488, 0.09872593730688095, 0.09222543239593506, 0.1076902523636818]], [[1.0, 0.0, 0.0, 0.0, 0.0, 0.0, 0.0, 0.0, 0.0, 0.0, 0.0, 0.0], [0.9601840972900391, 0.03981587290763855, 0.0, 0.0, 0.0, 0.0, 0.0, 0.0, 0.0, 0.0, 0.0, 0.0], [0.9167881608009338, 0.05397200956940651, 0.029239822179079056, 0.0, 0.0, 0.0, 0.0, 0.0, 0.0, 0.0, 0.0, 0.0], [0.8564649224281311, 0.04568709060549736, 0.046467095613479614, 0.05138092115521431, 0.0, 0.0, 0.0, 0.0, 0.0, 0.0, 0.0, 0.0], [0.8863382935523987, 0.039983976632356644, 0.017639515921473503, 0.014388802461326122, 0.04164941981434822, 0.0, 0.0, 0.0, 0.0, 0.0, 0.0, 0.0], [0.9287030696868896, 0.014713265001773834, 0.022866996005177498, 0.01658272184431553, 0.008314010687172413, 0.00881986040621996, 0.0, 0.0, 0.0, 0.0, 0.0, 0.0], [0.5057089328765869, 0.051811251789331436, 0.022294029593467712, 0.01876514032483101, 0.18273021280765533, 0.14649662375450134, 0.07219377160072327, 0.0, 0.0, 0.0, 0.0, 0.0], [0.5390718579292297, 0.0564640536904335, 0.03806796669960022, 0.029688112437725067, 0.09869299083948135, 0.08162149041891098, 0.09805279970169067, 0.05834069848060608, 0.0, 0.0, 0.0, 0.0], [0.8175884485244751, 0.03703808784484863, 0.010011380538344383, 0.01033922377973795, 0.039023544639348984, 0.014021137729287148, 0.029999906197190285, 0.024867026135325432, 0.017111197113990784, 0.0, 0.0, 0.0], [0.5668606758117676, 0.03330212086439133, 0.01941774971783161, 0.026815662160515785, 0.02928772009909153, 0.013301013968884945, 0.11095285415649414, 0.03536136448383331, 0.04961465671658516, 0.11508617550134659, 0.0, 0.0], [0.4303768277168274, 0.0570155568420887, 0.023533837869763374, 0.04321359470486641, 0.07695837318897247, 0.03580173850059509, 0.0846492126584053, 0.07288718968629837, 0.06407297402620316, 0.09061066061258316, 0.020880065858364105, 0.0], [0.7013395428657532, 0.04700154438614845, 0.027682285755872726, 0.016288910061120987, 0.029675569385290146, 0.04291624575853348, 0.06001856178045273, 0.01652579754590988, 0.011090777814388275, 0.03268469125032425, 0.006430742330849171, 0.008345261216163635]], [[1.0, 0.0, 0.0, 0.0, 0.0, 0.0, 0.0, 0.0, 0.0, 0.0, 0.0, 0.0], [0.6947526931762695, 0.3052472770214081, 0.0, 0.0, 0.0, 0.0, 0.0, 0.0, 0.0, 0.0, 0.0, 0.0], [0.7338982224464417, 0.20740653574466705, 0.05869515612721443, 0.0, 0.0, 0.0, 0.0, 0.0, 0.0, 0.0, 0.0, 0.0], [0.027843356132507324, 0.006380013190209866, 0.027035295963287354, 0.9387412667274475, 0.0, 0.0, 0.0, 0.0, 0.0, 0.0, 0.0, 0.0], [0.06962845474481583, 0.01247524656355381, 0.06433556228876114, 0.721561074256897, 0.13199962675571442, 0.0, 0.0, 0.0, 0.0, 0.0, 0.0, 0.0], [0.11274005472660065, 0.013064321130514145, 0.07071134448051453, 0.6191877126693726, 0.11570756137371063, 0.06858896464109421, 0.0, 0.0, 0.0, 0.0, 0.0, 0.0], [0.03165031224489212, 0.0027608308009803295, 0.025613129138946533, 0.046959519386291504, 0.0030606992077082396, 0.0006438307464122772, 0.8893117308616638, 0.0, 0.0, 0.0, 0.0, 0.0], [0.02517021633684635, 0.012596584856510162, 0.02372116595506668, 0.03107580728828907, 0.003665534546598792, 0.0007396657019853592, 0.43321093916893005, 0.4698199927806854, 0.0, 0.0, 0.0, 0.0], [0.01791812852025032, 0.0023928945884108543, 0.0051559749990701675, 0.009523584507405758, 0.0016938317567110062, 0.0005314868758432567, 0.015219558961689472, 0.015352669171988964, 0.9322119355201721, 0.0, 0.0, 0.0], [0.013795323669910431, 0.0033039916306734085, 0.001442843466065824, 0.014971040189266205, 0.0014407678972929716, 0.0008296231389977038, 0.04194814711809158, 0.021571243181824684, 0.7854284048080444, 0.11526858806610107, 0.0, 0.0], [0.0347784198820591, 0.004041294567286968, 0.0010953126475214958, 0.020962614566087723, 0.001738085295073688, 0.000940648140385747, 0.2368834912776947, 0.045193955302238464, 0.5187020301818848, 0.08165343105792999, 0.054010748863220215, 0.0], [0.10755491256713867, 0.003500171471387148, 0.012943761423230171, 0.013951515778899193, 0.019081614911556244, 0.003903757082298398, 0.06492405384778976, 0.044177256524562836, 0.05130678415298462, 0.16472174227237701, 0.26555588841438293, 0.24837858974933624]], [[1.0, 0.0, 0.0, 0.0, 0.0, 0.0, 0.0, 0.0, 0.0, 0.0, 0.0, 0.0], [0.9396110773086548, 0.06038889288902283, 0.0, 0.0, 0.0, 0.0, 0.0, 0.0, 0.0, 0.0, 0.0, 0.0], [0.8833336234092712, 0.045947931706905365, 0.0707184448838234, 0.0, 0.0, 0.0, 0.0, 0.0, 0.0, 0.0, 0.0, 0.0], [0.6211638450622559, 0.07052522897720337, 0.14906872808933258, 0.15924222767353058, 0.0, 0.0, 0.0, 0.0, 0.0, 0.0, 0.0, 0.0], [0.6504457592964172, 0.06683075428009033, 0.13022388517856598, 0.07718615233898163, 0.07531341165304184, 0.0, 0.0, 0.0, 0.0, 0.0, 0.0, 0.0], [0.8894541263580322, 0.018492665141820908, 0.022483807057142258, 0.03782926872372627, 0.009867279790341854, 0.02187292091548443, 0.0, 0.0, 0.0, 0.0, 0.0, 0.0], [0.44004756212234497, 0.06858356297016144, 0.09011193364858627, 0.09535956382751465, 0.07856176793575287, 0.0187834482640028, 0.20855216681957245, 0.0, 0.0, 0.0, 0.0, 0.0], [0.3615250289440155, 0.05842415988445282, 0.0670919418334961, 0.10089103132486343, 0.034575603902339935, 0.017769310623407364, 0.19611483812332153, 0.16360805928707123, 0.0, 0.0, 0.0, 0.0], [0.4920284152030945, 0.019762540236115456, 0.08267660439014435, 0.019713472574949265, 0.035731177777051926, 0.0071662794798612595, 0.07184986025094986, 0.059251267462968826, 0.21182049810886383, 0.0, 0.0, 0.0], [0.3251602053642273, 0.016071215271949768, 0.07109399139881134, 0.07251901179552078, 0.028911178931593895, 0.010798239149153233, 0.18659570813179016, 0.06689147651195526, 0.14637066423892975, 0.07558827102184296, 0.0, 0.0], [0.2407284528017044, 0.03585563972592354, 0.04082254320383072, 0.11851882934570312, 0.03716685250401497, 0.006899781059473753, 0.2544904947280884, 0.04540930315852165, 0.1202312558889389, 0.07221601903438568, 0.027660876512527466, 0.0], [0.14467935264110565, 0.04321034997701645, 0.07035782933235168, 0.064672090113163, 0.03595833480358124, 0.03191675245761871, 0.2135278582572937, 0.0720045417547226, 0.21977703273296356, 0.04805174097418785, 0.027681168168783188, 0.02816297858953476]], [[1.0, 0.0, 0.0, 0.0, 0.0, 0.0, 0.0, 0.0, 0.0, 0.0, 0.0, 0.0], [0.9490538239479065, 0.05094616487622261, 0.0, 0.0, 0.0, 0.0, 0.0, 0.0, 0.0, 0.0, 0.0, 0.0], [0.976423978805542, 0.015465331263840199, 0.00811072625219822, 0.0, 0.0, 0.0, 0.0, 0.0, 0.0, 0.0, 0.0, 0.0], [0.9405549168586731, 0.01950671151280403, 0.005216098856180906, 0.034722279757261276, 0.0, 0.0, 0.0, 0.0, 0.0, 0.0, 0.0, 0.0], [0.951604962348938, 0.019137853756546974, 0.00909852422773838, 0.006161908619105816, 0.013996853493154049, 0.0, 0.0, 0.0, 0.0, 0.0, 0.0, 0.0], [0.94639652967453, 0.009914319962263107, 0.006749376188963652, 0.01990504190325737, 0.0023052834440022707, 0.01472951378673315, 0.0, 0.0, 0.0, 0.0, 0.0, 0.0], [0.9080871939659119, 0.04267098382115364, 0.0016650678589940071, 0.006540506612509489, 0.018846694380044937, 0.007825610227882862, 0.014363854192197323, 0.0, 0.0, 0.0, 0.0, 0.0], [0.9152864813804626, 0.014856891706585884, 0.006238777190446854, 0.028165824711322784, 0.008308193646371365, 0.0017453610198572278, 0.007774271070957184, 0.017624126747250557, 0.0, 0.0, 0.0, 0.0], [0.9305844306945801, 0.03006189689040184, 0.00032114452915266156, 0.0033362028189003468, 0.017185529693961143, 0.00047352808178402483, 0.0006180400960147381, 0.004112206399440765, 0.013307142071425915, 0.0, 0.0, 0.0], [0.9066869616508484, 0.018046710640192032, 0.0010946221882477403, 0.0033428615424782038, 0.0038128353189677, 0.0005071405903436244, 0.0017993820365518332, 0.0028328292537480593, 0.04757377877831459, 0.014302914962172508, 0.0, 0.0], [0.8017042875289917, 0.022378459572792053, 0.0005443060654215515, 0.006729011423885822, 0.017293540760874748, 0.0010559929069131613, 0.003991688136011362, 0.0037174567114561796, 0.06838345527648926, 0.010365724563598633, 0.06383614242076874, 0.0], [0.8267021775245667, 0.036357276141643524, 0.005627675913274288, 0.00368911842815578, 0.009776697494089603, 0.07528109848499298, 0.006897388957440853, 0.006573605351150036, 0.007916346192359924, 0.004179410170763731, 0.007844739593565464, 0.009154477156698704]], [[1.0, 0.0, 0.0, 0.0, 0.0, 0.0, 0.0, 0.0, 0.0, 0.0, 0.0, 0.0], [0.9257256984710693, 0.07427432388067245, 0.0, 0.0, 0.0, 0.0, 0.0, 0.0, 0.0, 0.0, 0.0, 0.0], [0.7838530540466309, 0.07768768072128296, 0.138459250330925, 0.0, 0.0, 0.0, 0.0, 0.0, 0.0, 0.0, 0.0, 0.0], [0.6996739506721497, 0.06225854530930519, 0.04791222885251045, 0.19015522301197052, 0.0, 0.0, 0.0, 0.0, 0.0, 0.0, 0.0, 0.0], [0.7967976331710815, 0.04233406111598015, 0.01406904123723507, 0.05597183108329773, 0.09082742780447006, 0.0, 0.0, 0.0, 0.0, 0.0, 0.0, 0.0], [0.7991083264350891, 0.02165840193629265, 0.018244590610265732, 0.03395552933216095, 0.018936296924948692, 0.10809676349163055, 0.0, 0.0, 0.0, 0.0, 0.0, 0.0], [0.6998822689056396, 0.07869827747344971, 0.015791956335306168, 0.02508184127509594, 0.04609911888837814, 0.0233010146766901, 0.11114551872015, 0.0, 0.0, 0.0, 0.0, 0.0], [0.8180223107337952, 0.02908313274383545, 0.006587474141269922, 0.01497260294854641, 0.014972024597227573, 0.010060934349894524, 0.06747395545244217, 0.0388275608420372, 0.0, 0.0, 0.0, 0.0], [0.8133621215820312, 0.011173127219080925, 0.005607487168163061, 0.019794870167970657, 0.009134912863373756, 0.004314640536904335, 0.04546045511960983, 0.01462145708501339, 0.07653085142374039, 0.0, 0.0, 0.0], [0.743996262550354, 0.017076633870601654, 0.0070992340333759785, 0.016379574313759804, 0.011255256831645966, 0.0028612737078219652, 0.042335014790296555, 0.023338377475738525, 0.04457617551088333, 0.0910821184515953, 0.0, 0.0], [0.5595188736915588, 0.028711486607789993, 0.008968503214418888, 0.015320343896746635, 0.006856947205960751, 0.006455813534557819, 0.040374934673309326, 0.06443557888269424, 0.03157176449894905, 0.14515937864780426, 0.09262636303901672, 0.0], [0.6142456531524658, 0.01854093186557293, 0.0077408067882061005, 0.027189010754227638, 0.05578002333641052, 0.025074822828173637, 0.054329656064510345, 0.01499122753739357, 0.026415390893816948, 0.01550128124654293, 0.006444226019084454, 0.1337469220161438]], [[1.0, 0.0, 0.0, 0.0, 0.0, 0.0, 0.0, 0.0, 0.0, 0.0, 0.0, 0.0], [0.9834359288215637, 0.016564134508371353, 0.0, 0.0, 0.0, 0.0, 0.0, 0.0, 0.0, 0.0, 0.0, 0.0], [0.9972788691520691, 0.0024775275960564613, 0.00024361377290915698, 0.0, 0.0, 0.0, 0.0, 0.0, 0.0, 0.0, 0.0, 0.0], [0.9820051193237305, 0.005182947032153606, 0.0006574263097718358, 0.012154486030340195, 0.0, 0.0, 0.0, 0.0, 0.0, 0.0, 0.0, 0.0], [0.9869387149810791, 0.006512177176773548, 9.040831355378032e-05, 0.00011057827214244753, 0.006348189897835255, 0.0, 0.0, 0.0, 0.0, 0.0, 0.0, 0.0], [0.9953987002372742, 0.0024242016952484846, 0.0001545657723909244, 0.0003949358651880175, 0.0003076109569519758, 0.0013199339155107737, 0.0, 0.0, 0.0, 0.0, 0.0, 0.0], [0.8955701589584351, 0.016617197543382645, 0.00011512998025864363, 0.0008437613141722977, 0.02824333682656288, 0.044643718749284744, 0.013966632075607777, 0.0, 0.0, 0.0, 0.0, 0.0], [0.9886304140090942, 0.003285544691607356, 0.0005684944335371256, 0.0006156268063932657, 0.004444625694304705, 0.00040480413008481264, 0.000451695203082636, 0.0015988631639629602, 0.0, 0.0, 0.0, 0.0], [0.9746887683868408, 0.00898854061961174, 7.941953299450688e-06, 0.00013122324889991432, 0.008053695783019066, 0.00023894124024081975, 4.959448051522486e-05, 0.0015489544020965695, 0.0062924032099545, 0.0, 0.0, 0.0], [0.9806232452392578, 0.0039767674170434475, 4.2951851355610415e-05, 3.039532748516649e-05, 0.0006363397696986794, 5.611934102489613e-05, 0.000142372096888721, 0.00023874967882875353, 0.011597719043493271, 0.0026554421056061983, 0.0, 0.0], [0.8887024521827698, 0.0017723791534081101, 1.3963453966425732e-05, 2.6978532332577743e-05, 0.003145779948681593, 2.5067287424462847e-05, 6.212140579009429e-05, 0.0002306921815034002, 0.04810941591858864, 0.006875072605907917, 0.05103595554828644, 0.0], [0.2941644489765167, 0.01864222250878811, 0.0001152714467025362, 0.00013275205856189132, 0.0051432219333946705, 0.6679319739341736, 0.008805290795862675, 0.002248518168926239, 0.00021433668734971434, 9.722133836476132e-05, 3.954253043048084e-05, 0.002465195255354047]], [[1.0, 0.0, 0.0, 0.0, 0.0, 0.0, 0.0, 0.0, 0.0, 0.0, 0.0, 0.0], [0.7552005052566528, 0.24479947984218597, 0.0, 0.0, 0.0, 0.0, 0.0, 0.0, 0.0, 0.0, 0.0, 0.0], [0.7290195822715759, 0.15959544479846954, 0.11138492077589035, 0.0, 0.0, 0.0, 0.0, 0.0, 0.0, 0.0, 0.0, 0.0], [0.4632503092288971, 0.05488058179616928, 0.13809843361377716, 0.3437706232070923, 0.0, 0.0, 0.0, 0.0, 0.0, 0.0, 0.0, 0.0], [0.4586859345436096, 0.06570345908403397, 0.13566814363002777, 0.2564219534397125, 0.08352044224739075, 0.0, 0.0, 0.0, 0.0, 0.0, 0.0, 0.0], [0.5498217940330505, 0.03862832486629486, 0.06158443167805672, 0.28010717034339905, 0.037471406161785126, 0.03238685801625252, 0.0, 0.0, 0.0, 0.0, 0.0, 0.0], [0.5072060227394104, 0.014515974558889866, 0.10331439971923828, 0.2185783088207245, 0.009574193507432938, 0.0032851905561983585, 0.14352600276470184, 0.0, 0.0, 0.0, 0.0, 0.0], [0.32509875297546387, 0.012983007356524467, 0.04217325896024704, 0.08899474143981934, 0.007008471060544252, 0.0036360248923301697, 0.20926882326602936, 0.31083691120147705, 0.0, 0.0, 0.0, 0.0], [0.36967867612838745, 0.008400731720030308, 0.029926372691988945, 0.10928300023078918, 0.011447060853242874, 0.002938487334176898, 0.15101028978824615, 0.18888427317142487, 0.12843109667301178, 0.0, 0.0, 0.0], [0.15997660160064697, 0.009068372659385204, 0.018039466813206673, 0.07469738274812698, 0.00480947969481349, 0.0014279312454164028, 0.116514191031456, 0.358158141374588, 0.1017889752984047, 0.1555195450782776, 0.0, 0.0], [0.05913811922073364, 0.004982777871191502, 0.015017763711512089, 0.0724722370505333, 0.002058511134237051, 0.00042253127321600914, 0.12913355231285095, 0.40561673045158386, 0.10121708363294601, 0.18037711083889008, 0.02956361323595047, 0.0], [0.13932006061077118, 0.009539700113236904, 0.012763814069330692, 0.044218458235263824, 0.00728276651352644, 0.005904652178287506, 0.17214886844158173, 0.3511810302734375, 0.07232760637998581, 0.12228954583406448, 0.04151327908039093, 0.021510224789381027]]]}\n",
              "    )\n",
              "    </script>"
            ]
          },
          "metadata": {},
          "execution_count": 21
        }
      ],
      "source": [
        "prompt = \"Her name was Alex Hart. Tomorrow at lunch time Alex\"\n",
        "_, cache = model_2l.run_with_cache(prompt)\n",
        "cv.attention.attention_patterns(tokens=model_2l.to_str_tokens(prompt),\n",
        "                                attention=cache[f'blocks.1.attn.hook_pattern'][0])"
      ]
    },
    {
      "cell_type": "code",
      "execution_count": null,
      "metadata": {
        "colab": {
          "base_uri": "https://localhost:8080/",
          "height": 356
        },
        "id": "uziGYJiGwQg2",
        "outputId": "34135906-77e7-42a0-d9b6-e6279528b7e4"
      },
      "outputs": [
        {
          "output_type": "execute_result",
          "data": {
            "text/plain": [
              "<circuitsvis.utils.render.RenderedHTML at 0x7f2f486ddd60>"
            ],
            "text/html": [
              "<div id=\"circuits-vis-cefe80e6-5218\" style=\"margin: 15px 0;\"/>\n",
              "    <script crossorigin type=\"module\">\n",
              "    import { render, AttentionPatterns } from \"https://unpkg.com/circuitsvis@1.38.1/dist/cdn/esm.js\";\n",
              "    render(\n",
              "      \"circuits-vis-cefe80e6-5218\",\n",
              "      AttentionPatterns,\n",
              "      {\"tokens\": [\"<|BOS|>\", \"Her\", \" name\", \" was\", \" Alex\", \" Hart\", \".\", \" Tomorrow\", \" at\", \" lunch\", \" time\", \" Alex\"], \"attention\": [[[1.0, 0.0, 0.0, 0.0, 0.0, 0.0, 0.0, 0.0, 0.0, 0.0, 0.0, 0.0], [0.7022509574890137, 0.29774904251098633, 0.0, 0.0, 0.0, 0.0, 0.0, 0.0, 0.0, 0.0, 0.0, 0.0], [0.4522063732147217, 0.08852065354585648, 0.45927292108535767, 0.0, 0.0, 0.0, 0.0, 0.0, 0.0, 0.0, 0.0, 0.0], [0.07419218122959137, 0.025390198454260826, 0.8156729340553284, 0.0847446620464325, 0.0, 0.0, 0.0, 0.0, 0.0, 0.0, 0.0, 0.0], [0.20995919406414032, 0.06836379319429398, 0.3228777348995209, 0.07245215028524399, 0.32634711265563965, 0.0, 0.0, 0.0, 0.0, 0.0, 0.0, 0.0], [0.5293816328048706, 0.036210596561431885, 0.1399737298488617, 0.027696991339325905, 0.1936444640159607, 0.073092520236969, 0.0, 0.0, 0.0, 0.0, 0.0, 0.0], [0.3978877663612366, 0.05193096026778221, 0.2254907488822937, 0.09296905994415283, 0.10453182458877563, 0.03543522208929062, 0.09175445884466171, 0.0, 0.0, 0.0, 0.0, 0.0], [0.20840628445148468, 0.02704622410237789, 0.10706761479377747, 0.054632339626550674, 0.10939888656139374, 0.05351145938038826, 0.06902367621660233, 0.3709135055541992, 0.0, 0.0, 0.0, 0.0], [0.2729615271091461, 0.018111184239387512, 0.07920143753290176, 0.06168191134929657, 0.05318833142518997, 0.021161513403058052, 0.05906834080815315, 0.2936161756515503, 0.14100968837738037, 0.0, 0.0, 0.0], [0.2439095675945282, 0.012429793365299702, 0.06509923189878464, 0.0434868149459362, 0.026165423914790154, 0.009430880658328533, 0.04791352152824402, 0.10996907204389572, 0.2968379855155945, 0.14475777745246887, 0.0, 0.0], [0.04820786044001579, 0.006843765266239643, 0.05010027065873146, 0.03401613235473633, 0.048092201352119446, 0.010421792045235634, 0.01791880652308464, 0.12908582389354706, 0.4438399076461792, 0.145217165350914, 0.06625634431838989, 0.0], [0.1152796819806099, 0.023592276498675346, 0.07189687341451645, 0.03487052768468857, 0.10175976902246475, 0.03343439847230911, 0.050063248723745346, 0.12431560456752777, 0.14614605903625488, 0.09872593730688095, 0.09222543239593506, 0.1076902523636818]], [[1.0, 0.0, 0.0, 0.0, 0.0, 0.0, 0.0, 0.0, 0.0, 0.0, 0.0, 0.0], [0.9601840972900391, 0.03981587290763855, 0.0, 0.0, 0.0, 0.0, 0.0, 0.0, 0.0, 0.0, 0.0, 0.0], [0.9167881608009338, 0.05397200956940651, 0.029239822179079056, 0.0, 0.0, 0.0, 0.0, 0.0, 0.0, 0.0, 0.0, 0.0], [0.8564649224281311, 0.04568709060549736, 0.046467095613479614, 0.05138092115521431, 0.0, 0.0, 0.0, 0.0, 0.0, 0.0, 0.0, 0.0], [0.8863382935523987, 0.039983976632356644, 0.017639515921473503, 0.014388802461326122, 0.04164941981434822, 0.0, 0.0, 0.0, 0.0, 0.0, 0.0, 0.0], [0.9287030696868896, 0.014713265001773834, 0.022866996005177498, 0.01658272184431553, 0.008314010687172413, 0.00881986040621996, 0.0, 0.0, 0.0, 0.0, 0.0, 0.0], [0.5057089328765869, 0.051811251789331436, 0.022294029593467712, 0.01876514032483101, 0.18273021280765533, 0.14649662375450134, 0.07219377160072327, 0.0, 0.0, 0.0, 0.0, 0.0], [0.5390718579292297, 0.0564640536904335, 0.03806796669960022, 0.029688112437725067, 0.09869299083948135, 0.08162149041891098, 0.09805279970169067, 0.05834069848060608, 0.0, 0.0, 0.0, 0.0], [0.8175884485244751, 0.03703808784484863, 0.010011380538344383, 0.01033922377973795, 0.039023544639348984, 0.014021137729287148, 0.029999906197190285, 0.024867026135325432, 0.017111197113990784, 0.0, 0.0, 0.0], [0.5668606758117676, 0.03330212086439133, 0.01941774971783161, 0.026815662160515785, 0.02928772009909153, 0.013301013968884945, 0.11095285415649414, 0.03536136448383331, 0.04961465671658516, 0.11508617550134659, 0.0, 0.0], [0.4303768277168274, 0.0570155568420887, 0.023533837869763374, 0.04321359470486641, 0.07695837318897247, 0.03580173850059509, 0.0846492126584053, 0.07288718968629837, 0.06407297402620316, 0.09061066061258316, 0.020880065858364105, 0.0], [0.7013395428657532, 0.04700154438614845, 0.027682285755872726, 0.016288910061120987, 0.029675569385290146, 0.04291624575853348, 0.06001856178045273, 0.01652579754590988, 0.011090777814388275, 0.03268469125032425, 0.006430742330849171, 0.008345261216163635]], [[1.0, 0.0, 0.0, 0.0, 0.0, 0.0, 0.0, 0.0, 0.0, 0.0, 0.0, 0.0], [0.6947526931762695, 0.3052472770214081, 0.0, 0.0, 0.0, 0.0, 0.0, 0.0, 0.0, 0.0, 0.0, 0.0], [0.7338982224464417, 0.20740653574466705, 0.05869515612721443, 0.0, 0.0, 0.0, 0.0, 0.0, 0.0, 0.0, 0.0, 0.0], [0.027843356132507324, 0.006380013190209866, 0.027035295963287354, 0.9387412667274475, 0.0, 0.0, 0.0, 0.0, 0.0, 0.0, 0.0, 0.0], [0.06962845474481583, 0.01247524656355381, 0.06433556228876114, 0.721561074256897, 0.13199962675571442, 0.0, 0.0, 0.0, 0.0, 0.0, 0.0, 0.0], [0.11274005472660065, 0.013064321130514145, 0.07071134448051453, 0.6191877126693726, 0.11570756137371063, 0.06858896464109421, 0.0, 0.0, 0.0, 0.0, 0.0, 0.0], [0.03165031224489212, 0.0027608308009803295, 0.025613129138946533, 0.046959519386291504, 0.0030606992077082396, 0.0006438307464122772, 0.8893117308616638, 0.0, 0.0, 0.0, 0.0, 0.0], [0.02517021633684635, 0.012596584856510162, 0.02372116595506668, 0.03107580728828907, 0.003665534546598792, 0.0007396657019853592, 0.43321093916893005, 0.4698199927806854, 0.0, 0.0, 0.0, 0.0], [0.01791812852025032, 0.0023928945884108543, 0.0051559749990701675, 0.009523584507405758, 0.0016938317567110062, 0.0005314868758432567, 0.015219558961689472, 0.015352669171988964, 0.9322119355201721, 0.0, 0.0, 0.0], [0.013795323669910431, 0.0033039916306734085, 0.001442843466065824, 0.014971040189266205, 0.0014407678972929716, 0.0008296231389977038, 0.04194814711809158, 0.021571243181824684, 0.7854284048080444, 0.11526858806610107, 0.0, 0.0], [0.0347784198820591, 0.004041294567286968, 0.0010953126475214958, 0.020962614566087723, 0.001738085295073688, 0.000940648140385747, 0.2368834912776947, 0.045193955302238464, 0.5187020301818848, 0.08165343105792999, 0.054010748863220215, 0.0], [0.10755491256713867, 0.003500171471387148, 0.012943761423230171, 0.013951515778899193, 0.019081614911556244, 0.003903757082298398, 0.06492405384778976, 0.044177256524562836, 0.05130678415298462, 0.16472174227237701, 0.26555588841438293, 0.24837858974933624]], [[1.0, 0.0, 0.0, 0.0, 0.0, 0.0, 0.0, 0.0, 0.0, 0.0, 0.0, 0.0], [0.9396110773086548, 0.06038889288902283, 0.0, 0.0, 0.0, 0.0, 0.0, 0.0, 0.0, 0.0, 0.0, 0.0], [0.8833336234092712, 0.045947931706905365, 0.0707184448838234, 0.0, 0.0, 0.0, 0.0, 0.0, 0.0, 0.0, 0.0, 0.0], [0.6211638450622559, 0.07052522897720337, 0.14906872808933258, 0.15924222767353058, 0.0, 0.0, 0.0, 0.0, 0.0, 0.0, 0.0, 0.0], [0.6504457592964172, 0.06683075428009033, 0.13022388517856598, 0.07718615233898163, 0.07531341165304184, 0.0, 0.0, 0.0, 0.0, 0.0, 0.0, 0.0], [0.8894541263580322, 0.018492665141820908, 0.022483807057142258, 0.03782926872372627, 0.009867279790341854, 0.02187292091548443, 0.0, 0.0, 0.0, 0.0, 0.0, 0.0], [0.44004756212234497, 0.06858356297016144, 0.09011193364858627, 0.09535956382751465, 0.07856176793575287, 0.0187834482640028, 0.20855216681957245, 0.0, 0.0, 0.0, 0.0, 0.0], [0.3615250289440155, 0.05842415988445282, 0.0670919418334961, 0.10089103132486343, 0.034575603902339935, 0.017769310623407364, 0.19611483812332153, 0.16360805928707123, 0.0, 0.0, 0.0, 0.0], [0.4920284152030945, 0.019762540236115456, 0.08267660439014435, 0.019713472574949265, 0.035731177777051926, 0.0071662794798612595, 0.07184986025094986, 0.059251267462968826, 0.21182049810886383, 0.0, 0.0, 0.0], [0.3251602053642273, 0.016071215271949768, 0.07109399139881134, 0.07251901179552078, 0.028911178931593895, 0.010798239149153233, 0.18659570813179016, 0.06689147651195526, 0.14637066423892975, 0.07558827102184296, 0.0, 0.0], [0.2407284528017044, 0.03585563972592354, 0.04082254320383072, 0.11851882934570312, 0.03716685250401497, 0.006899781059473753, 0.2544904947280884, 0.04540930315852165, 0.1202312558889389, 0.07221601903438568, 0.027660876512527466, 0.0], [0.14467935264110565, 0.04321034997701645, 0.07035782933235168, 0.064672090113163, 0.03595833480358124, 0.03191675245761871, 0.2135278582572937, 0.0720045417547226, 0.21977703273296356, 0.04805174097418785, 0.027681168168783188, 0.02816297858953476]], [[1.0, 0.0, 0.0, 0.0, 0.0, 0.0, 0.0, 0.0, 0.0, 0.0, 0.0, 0.0], [0.9490538239479065, 0.05094616487622261, 0.0, 0.0, 0.0, 0.0, 0.0, 0.0, 0.0, 0.0, 0.0, 0.0], [0.976423978805542, 0.015465331263840199, 0.00811072625219822, 0.0, 0.0, 0.0, 0.0, 0.0, 0.0, 0.0, 0.0, 0.0], [0.9405549168586731, 0.01950671151280403, 0.005216098856180906, 0.034722279757261276, 0.0, 0.0, 0.0, 0.0, 0.0, 0.0, 0.0, 0.0], [0.951604962348938, 0.019137853756546974, 0.00909852422773838, 0.006161908619105816, 0.013996853493154049, 0.0, 0.0, 0.0, 0.0, 0.0, 0.0, 0.0], [0.94639652967453, 0.009914319962263107, 0.006749376188963652, 0.01990504190325737, 0.0023052834440022707, 0.01472951378673315, 0.0, 0.0, 0.0, 0.0, 0.0, 0.0], [0.9080871939659119, 0.04267098382115364, 0.0016650678589940071, 0.006540506612509489, 0.018846694380044937, 0.007825610227882862, 0.014363854192197323, 0.0, 0.0, 0.0, 0.0, 0.0], [0.9152864813804626, 0.014856891706585884, 0.006238777190446854, 0.028165824711322784, 0.008308193646371365, 0.0017453610198572278, 0.007774271070957184, 0.017624126747250557, 0.0, 0.0, 0.0, 0.0], [0.9305844306945801, 0.03006189689040184, 0.00032114452915266156, 0.0033362028189003468, 0.017185529693961143, 0.00047352808178402483, 0.0006180400960147381, 0.004112206399440765, 0.013307142071425915, 0.0, 0.0, 0.0], [0.9066869616508484, 0.018046710640192032, 0.0010946221882477403, 0.0033428615424782038, 0.0038128353189677, 0.0005071405903436244, 0.0017993820365518332, 0.0028328292537480593, 0.04757377877831459, 0.014302914962172508, 0.0, 0.0], [0.8017042875289917, 0.022378459572792053, 0.0005443060654215515, 0.006729011423885822, 0.017293540760874748, 0.0010559929069131613, 0.003991688136011362, 0.0037174567114561796, 0.06838345527648926, 0.010365724563598633, 0.06383614242076874, 0.0], [0.8267021775245667, 0.036357276141643524, 0.005627675913274288, 0.00368911842815578, 0.009776697494089603, 0.07528109848499298, 0.006897388957440853, 0.006573605351150036, 0.007916346192359924, 0.004179410170763731, 0.007844739593565464, 0.009154477156698704]], [[1.0, 0.0, 0.0, 0.0, 0.0, 0.0, 0.0, 0.0, 0.0, 0.0, 0.0, 0.0], [0.9257256984710693, 0.07427432388067245, 0.0, 0.0, 0.0, 0.0, 0.0, 0.0, 0.0, 0.0, 0.0, 0.0], [0.7838530540466309, 0.07768768072128296, 0.138459250330925, 0.0, 0.0, 0.0, 0.0, 0.0, 0.0, 0.0, 0.0, 0.0], [0.6996739506721497, 0.06225854530930519, 0.04791222885251045, 0.19015522301197052, 0.0, 0.0, 0.0, 0.0, 0.0, 0.0, 0.0, 0.0], [0.7967976331710815, 0.04233406111598015, 0.01406904123723507, 0.05597183108329773, 0.09082742780447006, 0.0, 0.0, 0.0, 0.0, 0.0, 0.0, 0.0], [0.7991083264350891, 0.02165840193629265, 0.018244590610265732, 0.03395552933216095, 0.018936296924948692, 0.10809676349163055, 0.0, 0.0, 0.0, 0.0, 0.0, 0.0], [0.6998822689056396, 0.07869827747344971, 0.015791956335306168, 0.02508184127509594, 0.04609911888837814, 0.0233010146766901, 0.11114551872015, 0.0, 0.0, 0.0, 0.0, 0.0], [0.8180223107337952, 0.02908313274383545, 0.006587474141269922, 0.01497260294854641, 0.014972024597227573, 0.010060934349894524, 0.06747395545244217, 0.0388275608420372, 0.0, 0.0, 0.0, 0.0], [0.8133621215820312, 0.011173127219080925, 0.005607487168163061, 0.019794870167970657, 0.009134912863373756, 0.004314640536904335, 0.04546045511960983, 0.01462145708501339, 0.07653085142374039, 0.0, 0.0, 0.0], [0.743996262550354, 0.017076633870601654, 0.0070992340333759785, 0.016379574313759804, 0.011255256831645966, 0.0028612737078219652, 0.042335014790296555, 0.023338377475738525, 0.04457617551088333, 0.0910821184515953, 0.0, 0.0], [0.5595188736915588, 0.028711486607789993, 0.008968503214418888, 0.015320343896746635, 0.006856947205960751, 0.006455813534557819, 0.040374934673309326, 0.06443557888269424, 0.03157176449894905, 0.14515937864780426, 0.09262636303901672, 0.0], [0.6142456531524658, 0.01854093186557293, 0.0077408067882061005, 0.027189010754227638, 0.05578002333641052, 0.025074822828173637, 0.054329656064510345, 0.01499122753739357, 0.026415390893816948, 0.01550128124654293, 0.006444226019084454, 0.1337469220161438]], [[1.0, 0.0, 0.0, 0.0, 0.0, 0.0, 0.0, 0.0, 0.0, 0.0, 0.0, 0.0], [0.9834359288215637, 0.016564134508371353, 0.0, 0.0, 0.0, 0.0, 0.0, 0.0, 0.0, 0.0, 0.0, 0.0], [0.9972788691520691, 0.0024775275960564613, 0.00024361377290915698, 0.0, 0.0, 0.0, 0.0, 0.0, 0.0, 0.0, 0.0, 0.0], [0.9820051193237305, 0.005182947032153606, 0.0006574263097718358, 0.012154486030340195, 0.0, 0.0, 0.0, 0.0, 0.0, 0.0, 0.0, 0.0], [0.9869387149810791, 0.006512177176773548, 9.040831355378032e-05, 0.00011057827214244753, 0.006348189897835255, 0.0, 0.0, 0.0, 0.0, 0.0, 0.0, 0.0], [0.9953987002372742, 0.0024242016952484846, 0.0001545657723909244, 0.0003949358651880175, 0.0003076109569519758, 0.0013199339155107737, 0.0, 0.0, 0.0, 0.0, 0.0, 0.0], [0.8955701589584351, 0.016617197543382645, 0.00011512998025864363, 0.0008437613141722977, 0.02824333682656288, 0.044643718749284744, 0.013966632075607777, 0.0, 0.0, 0.0, 0.0, 0.0], [0.9886304140090942, 0.003285544691607356, 0.0005684944335371256, 0.0006156268063932657, 0.004444625694304705, 0.00040480413008481264, 0.000451695203082636, 0.0015988631639629602, 0.0, 0.0, 0.0, 0.0], [0.9746887683868408, 0.00898854061961174, 7.941953299450688e-06, 0.00013122324889991432, 0.008053695783019066, 0.00023894124024081975, 4.959448051522486e-05, 0.0015489544020965695, 0.0062924032099545, 0.0, 0.0, 0.0], [0.9806232452392578, 0.0039767674170434475, 4.2951851355610415e-05, 3.039532748516649e-05, 0.0006363397696986794, 5.611934102489613e-05, 0.000142372096888721, 0.00023874967882875353, 0.011597719043493271, 0.0026554421056061983, 0.0, 0.0], [0.8887024521827698, 0.0017723791534081101, 1.3963453966425732e-05, 2.6978532332577743e-05, 0.003145779948681593, 2.5067287424462847e-05, 6.212140579009429e-05, 0.0002306921815034002, 0.04810941591858864, 0.006875072605907917, 0.05103595554828644, 0.0], [0.2941644489765167, 0.01864222250878811, 0.0001152714467025362, 0.00013275205856189132, 0.0051432219333946705, 0.6679319739341736, 0.008805290795862675, 0.002248518168926239, 0.00021433668734971434, 9.722133836476132e-05, 3.954253043048084e-05, 0.002465195255354047]], [[1.0, 0.0, 0.0, 0.0, 0.0, 0.0, 0.0, 0.0, 0.0, 0.0, 0.0, 0.0], [0.7552005052566528, 0.24479947984218597, 0.0, 0.0, 0.0, 0.0, 0.0, 0.0, 0.0, 0.0, 0.0, 0.0], [0.7290195822715759, 0.15959544479846954, 0.11138492077589035, 0.0, 0.0, 0.0, 0.0, 0.0, 0.0, 0.0, 0.0, 0.0], [0.4632503092288971, 0.05488058179616928, 0.13809843361377716, 0.3437706232070923, 0.0, 0.0, 0.0, 0.0, 0.0, 0.0, 0.0, 0.0], [0.4586859345436096, 0.06570345908403397, 0.13566814363002777, 0.2564219534397125, 0.08352044224739075, 0.0, 0.0, 0.0, 0.0, 0.0, 0.0, 0.0], [0.5498217940330505, 0.03862832486629486, 0.06158443167805672, 0.28010717034339905, 0.037471406161785126, 0.03238685801625252, 0.0, 0.0, 0.0, 0.0, 0.0, 0.0], [0.5072060227394104, 0.014515974558889866, 0.10331439971923828, 0.2185783088207245, 0.009574193507432938, 0.0032851905561983585, 0.14352600276470184, 0.0, 0.0, 0.0, 0.0, 0.0], [0.32509875297546387, 0.012983007356524467, 0.04217325896024704, 0.08899474143981934, 0.007008471060544252, 0.0036360248923301697, 0.20926882326602936, 0.31083691120147705, 0.0, 0.0, 0.0, 0.0], [0.36967867612838745, 0.008400731720030308, 0.029926372691988945, 0.10928300023078918, 0.011447060853242874, 0.002938487334176898, 0.15101028978824615, 0.18888427317142487, 0.12843109667301178, 0.0, 0.0, 0.0], [0.15997660160064697, 0.009068372659385204, 0.018039466813206673, 0.07469738274812698, 0.00480947969481349, 0.0014279312454164028, 0.116514191031456, 0.358158141374588, 0.1017889752984047, 0.1555195450782776, 0.0, 0.0], [0.05913811922073364, 0.004982777871191502, 0.015017763711512089, 0.0724722370505333, 0.002058511134237051, 0.00042253127321600914, 0.12913355231285095, 0.40561673045158386, 0.10121708363294601, 0.18037711083889008, 0.02956361323595047, 0.0], [0.13932006061077118, 0.009539700113236904, 0.012763814069330692, 0.044218458235263824, 0.00728276651352644, 0.005904652178287506, 0.17214886844158173, 0.3511810302734375, 0.07232760637998581, 0.12228954583406448, 0.04151327908039093, 0.021510224789381027]]]}\n",
              "    )\n",
              "    </script>"
            ]
          },
          "metadata": {},
          "execution_count": 22
        }
      ],
      "source": [
        "import circuitsvis as cv\n",
        "layer = 1\n",
        "cv.attention.attention_patterns(tokens=model_2l.to_str_tokens(\"Her name was Alex Hart. Tomorrow at lunch time Alex\"),\n",
        "                                attention=cache[f'blocks.{layer}.attn.hook_pattern'][0])"
      ]
    }
  ],
  "metadata": {
    "colab": {
      "collapsed_sections": [
        "DJb5YtgqIJVb",
        "XLaXyAxhFD24"
      ],
      "provenance": [],
      "toc_visible": true,
      "include_colab_link": true
    },
    "gpuClass": "standard",
    "kernelspec": {
      "display_name": "Python 3",
      "name": "python3"
    },
    "language_info": {
      "name": "python"
    }
  },
  "nbformat": 4,
  "nbformat_minor": 0
}